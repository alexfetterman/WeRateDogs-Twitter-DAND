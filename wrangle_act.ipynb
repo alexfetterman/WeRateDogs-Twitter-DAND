{
 "cells": [
  {
   "cell_type": "markdown",
   "metadata": {},
   "source": [
    "# [WeRateDogs](https://twitter.com/dog_rates) Wrangling and Analysis \n"
   ]
  },
  {
   "cell_type": "markdown",
   "metadata": {},
   "source": [
    "<a id='intro'></a>\n",
    "# Introduction\n",
    "As part of Udacity's Data Analyst Nanodegree program, data from the WeRateDogs Twitter account is wrangled and analyzed for trends."
   ]
  },
  {
   "cell_type": "markdown",
   "metadata": {},
   "source": [
    "\n",
    "### Table of Contents\n",
    "- [Gather](#gather)\n",
    "    * [Twitter Archive](#g_archive)\n",
    "    * [Image Predictions](#g_preds)\n",
    "    * [Retweet/Favorite Data](#g_api)\n",
    "- [Assess](#assess)\n",
    "    * [`archive.csv`](#a_archive)\n",
    "    * [`image_preds.csv`](#a_preds)\n",
    "    * [`api_data.csv`](#a_api)\n",
    "- [Clean](#clean)\n",
    "    1. [Missing Data](#missing)\n",
    "    2. [Tidiness](#tidy)\n",
    "    3. [Quality](#quality)\n",
    "- [Wrangling References](#ref1)\n",
    "- [Analyze](#analyze)\n",
    "- [Summary](#summary)\n"
   ]
  },
  {
   "cell_type": "code",
   "execution_count": 296,
   "metadata": {},
   "outputs": [],
   "source": [
    "# import libraries\n",
    "import pandas as pd\n",
    "import numpy as np\n",
    "import matplotlib.pyplot as plt\n",
    "import seaborn as sns\n",
    "import requests\n",
    "import os\n",
    "import tweepy # API for twitter\n",
    "import re     \n",
    "import json\n",
    "import time\n",
    "import random \n",
    "import itertools as it\n",
    "from scipy import stats\n",
    "from collections import Counter\n",
    "from IPython.display import Image\n",
    "from IPython.core.display import HTML \n",
    "from pywaffle import Waffle\n",
    "\n",
    "%matplotlib inline\n",
    "pd.set_option('display.max_colwidth', -1)\n"
   ]
  },
  {
   "cell_type": "markdown",
   "metadata": {},
   "source": [
    "<a id='gather'></a>\n",
    "# Gather"
   ]
  },
  {
   "cell_type": "markdown",
   "metadata": {},
   "source": [
    "<a id='g_archive'></a>\n",
    "### Twitter Archive"
   ]
  },
  {
   "cell_type": "code",
   "execution_count": 297,
   "metadata": {
    "scrolled": true
   },
   "outputs": [
    {
     "name": "stdout",
     "output_type": "stream",
     "text": [
      "<class 'pandas.core.frame.DataFrame'>\n",
      "RangeIndex: 2356 entries, 0 to 2355\n",
      "Data columns (total 17 columns):\n",
      "tweet_id                      2356 non-null int64\n",
      "in_reply_to_status_id         78 non-null float64\n",
      "in_reply_to_user_id           78 non-null float64\n",
      "timestamp                     2356 non-null object\n",
      "source                        2356 non-null object\n",
      "text                          2356 non-null object\n",
      "retweeted_status_id           181 non-null float64\n",
      "retweeted_status_user_id      181 non-null float64\n",
      "retweeted_status_timestamp    181 non-null object\n",
      "expanded_urls                 2297 non-null object\n",
      "rating_numerator              2356 non-null int64\n",
      "rating_denominator            2356 non-null int64\n",
      "name                          2356 non-null object\n",
      "doggo                         2356 non-null object\n",
      "floofer                       2356 non-null object\n",
      "pupper                        2356 non-null object\n",
      "puppo                         2356 non-null object\n",
      "dtypes: float64(4), int64(3), object(10)\n",
      "memory usage: 313.0+ KB\n"
     ]
    }
   ],
   "source": [
    "# Read in archived tweet file and check\n",
    "archive = pd.read_csv('twitter-archive-enhanced.csv')\n",
    "archive.info()"
   ]
  },
  {
   "cell_type": "markdown",
   "metadata": {},
   "source": [
    "<a id='g_preds'></a>\n",
    "### Image Predictions"
   ]
  },
  {
   "cell_type": "code",
   "execution_count": 298,
   "metadata": {
    "scrolled": true
   },
   "outputs": [],
   "source": [
    "# Make directory if it doesn't already exist\n",
    "folder_name = 'image_predictions'\n",
    "if not os.path.exists(folder_name):\n",
    "    os.makedirs(folder_name)"
   ]
  },
  {
   "cell_type": "code",
   "execution_count": 299,
   "metadata": {
    "scrolled": true
   },
   "outputs": [
    {
     "data": {
      "text/plain": [
       "<Response [200]>"
      ]
     },
     "execution_count": 299,
     "metadata": {},
     "output_type": "execute_result"
    }
   ],
   "source": [
    "# Request data\n",
    "url = 'https://d17h27t6h515a5.cloudfront.net/topher/2017/August/\\\n",
    "599fd2ad_image-predictions/image-predictions.tsv'\n",
    "response = requests.get(url)\n",
    "response # if [200], successful\n"
   ]
  },
  {
   "cell_type": "code",
   "execution_count": 300,
   "metadata": {
    "scrolled": true
   },
   "outputs": [],
   "source": [
    "# Create file, and access body of response using response.content (is in bytes)\n",
    "with open(os.path.join(folder_name,\n",
    "                       url.split('/')[-1]), mode='wb') as file:\n",
    "    file.write(response.content)"
   ]
  },
  {
   "cell_type": "code",
   "execution_count": 301,
   "metadata": {
    "scrolled": true
   },
   "outputs": [
    {
     "data": {
      "text/plain": [
       "['image-predictions.tsv']"
      ]
     },
     "execution_count": 301,
     "metadata": {},
     "output_type": "execute_result"
    }
   ],
   "source": [
    "# Check that we have downloaded file\n",
    "os.listdir(folder_name)"
   ]
  },
  {
   "cell_type": "code",
   "execution_count": 302,
   "metadata": {
    "scrolled": true
   },
   "outputs": [
    {
     "data": {
      "text/html": [
       "<div>\n",
       "<style scoped>\n",
       "    .dataframe tbody tr th:only-of-type {\n",
       "        vertical-align: middle;\n",
       "    }\n",
       "\n",
       "    .dataframe tbody tr th {\n",
       "        vertical-align: top;\n",
       "    }\n",
       "\n",
       "    .dataframe thead th {\n",
       "        text-align: right;\n",
       "    }\n",
       "</style>\n",
       "<table border=\"1\" class=\"dataframe\">\n",
       "  <thead>\n",
       "    <tr style=\"text-align: right;\">\n",
       "      <th></th>\n",
       "      <th>tweet_id</th>\n",
       "      <th>jpg_url</th>\n",
       "      <th>img_num</th>\n",
       "      <th>p1</th>\n",
       "      <th>p1_conf</th>\n",
       "      <th>p1_dog</th>\n",
       "      <th>p2</th>\n",
       "      <th>p2_conf</th>\n",
       "      <th>p2_dog</th>\n",
       "      <th>p3</th>\n",
       "      <th>p3_conf</th>\n",
       "      <th>p3_dog</th>\n",
       "    </tr>\n",
       "  </thead>\n",
       "  <tbody>\n",
       "    <tr>\n",
       "      <th>0</th>\n",
       "      <td>666020888022790149</td>\n",
       "      <td>https://pbs.twimg.com/media/CT4udn0WwAA0aMy.jpg</td>\n",
       "      <td>1</td>\n",
       "      <td>Welsh_springer_spaniel</td>\n",
       "      <td>0.465074</td>\n",
       "      <td>True</td>\n",
       "      <td>collie</td>\n",
       "      <td>0.156665</td>\n",
       "      <td>True</td>\n",
       "      <td>Shetland_sheepdog</td>\n",
       "      <td>0.061428</td>\n",
       "      <td>True</td>\n",
       "    </tr>\n",
       "    <tr>\n",
       "      <th>1</th>\n",
       "      <td>666029285002620928</td>\n",
       "      <td>https://pbs.twimg.com/media/CT42GRgUYAA5iDo.jpg</td>\n",
       "      <td>1</td>\n",
       "      <td>redbone</td>\n",
       "      <td>0.506826</td>\n",
       "      <td>True</td>\n",
       "      <td>miniature_pinscher</td>\n",
       "      <td>0.074192</td>\n",
       "      <td>True</td>\n",
       "      <td>Rhodesian_ridgeback</td>\n",
       "      <td>0.072010</td>\n",
       "      <td>True</td>\n",
       "    </tr>\n",
       "    <tr>\n",
       "      <th>2</th>\n",
       "      <td>666033412701032449</td>\n",
       "      <td>https://pbs.twimg.com/media/CT4521TWwAEvMyu.jpg</td>\n",
       "      <td>1</td>\n",
       "      <td>German_shepherd</td>\n",
       "      <td>0.596461</td>\n",
       "      <td>True</td>\n",
       "      <td>malinois</td>\n",
       "      <td>0.138584</td>\n",
       "      <td>True</td>\n",
       "      <td>bloodhound</td>\n",
       "      <td>0.116197</td>\n",
       "      <td>True</td>\n",
       "    </tr>\n",
       "    <tr>\n",
       "      <th>3</th>\n",
       "      <td>666044226329800704</td>\n",
       "      <td>https://pbs.twimg.com/media/CT5Dr8HUEAA-lEu.jpg</td>\n",
       "      <td>1</td>\n",
       "      <td>Rhodesian_ridgeback</td>\n",
       "      <td>0.408143</td>\n",
       "      <td>True</td>\n",
       "      <td>redbone</td>\n",
       "      <td>0.360687</td>\n",
       "      <td>True</td>\n",
       "      <td>miniature_pinscher</td>\n",
       "      <td>0.222752</td>\n",
       "      <td>True</td>\n",
       "    </tr>\n",
       "    <tr>\n",
       "      <th>4</th>\n",
       "      <td>666049248165822465</td>\n",
       "      <td>https://pbs.twimg.com/media/CT5IQmsXIAAKY4A.jpg</td>\n",
       "      <td>1</td>\n",
       "      <td>miniature_pinscher</td>\n",
       "      <td>0.560311</td>\n",
       "      <td>True</td>\n",
       "      <td>Rottweiler</td>\n",
       "      <td>0.243682</td>\n",
       "      <td>True</td>\n",
       "      <td>Doberman</td>\n",
       "      <td>0.154629</td>\n",
       "      <td>True</td>\n",
       "    </tr>\n",
       "  </tbody>\n",
       "</table>\n",
       "</div>"
      ],
      "text/plain": [
       "             tweet_id                                          jpg_url  \\\n",
       "0  666020888022790149  https://pbs.twimg.com/media/CT4udn0WwAA0aMy.jpg   \n",
       "1  666029285002620928  https://pbs.twimg.com/media/CT42GRgUYAA5iDo.jpg   \n",
       "2  666033412701032449  https://pbs.twimg.com/media/CT4521TWwAEvMyu.jpg   \n",
       "3  666044226329800704  https://pbs.twimg.com/media/CT5Dr8HUEAA-lEu.jpg   \n",
       "4  666049248165822465  https://pbs.twimg.com/media/CT5IQmsXIAAKY4A.jpg   \n",
       "\n",
       "   img_num                      p1   p1_conf  p1_dog                  p2  \\\n",
       "0  1        Welsh_springer_spaniel  0.465074  True    collie               \n",
       "1  1        redbone                 0.506826  True    miniature_pinscher   \n",
       "2  1        German_shepherd         0.596461  True    malinois             \n",
       "3  1        Rhodesian_ridgeback     0.408143  True    redbone              \n",
       "4  1        miniature_pinscher      0.560311  True    Rottweiler           \n",
       "\n",
       "    p2_conf  p2_dog                   p3   p3_conf  p3_dog  \n",
       "0  0.156665  True    Shetland_sheepdog    0.061428  True    \n",
       "1  0.074192  True    Rhodesian_ridgeback  0.072010  True    \n",
       "2  0.138584  True    bloodhound           0.116197  True    \n",
       "3  0.360687  True    miniature_pinscher   0.222752  True    \n",
       "4  0.243682  True    Doberman             0.154629  True    "
      ]
     },
     "execution_count": 302,
     "metadata": {},
     "output_type": "execute_result"
    }
   ],
   "source": [
    "# Read in image prediction TSV file and check importation success\n",
    "image_preds = pd.read_csv('image_predictions/image-predictions.tsv', sep='\\t')\n",
    "image_preds.head()\n"
   ]
  },
  {
   "cell_type": "markdown",
   "metadata": {},
   "source": [
    "<a id='g_api'></a>\n",
    "### API Data"
   ]
  },
  {
   "cell_type": "markdown",
   "metadata": {},
   "source": [
    "**Plan:** Use tweet IDs in WeRateDogs Twitter archive to query the Twitter API for each tweet's JSON data using Python's Tweepy library. I'll do this for one tweet first, followed by the rest. Store each tweet's set of JSON data in a file called tweet_json.txt. Each tweet's JSON data gets written to its own line. Read the .txt file line by line into a pandas DataFrame with desired data."
   ]
  },
  {
   "cell_type": "code",
   "execution_count": 303,
   "metadata": {
    "scrolled": true
   },
   "outputs": [],
   "source": [
    "# Define keys and tokens obtained from Twitter's App application (hidden cell below)\n",
    "consumer_key = 'HIDDEN'\n",
    "consumer_secret = 'HIDDEN'\n",
    "access_token = 'HIDDEN'\n",
    "access_token_secret = 'HIDDEN'\n"
   ]
  },
  {
   "cell_type": "code",
   "execution_count": 304,
   "metadata": {},
   "outputs": [],
   "source": [
    "# OAuth process, using keys and tokens\n",
    "auth = tweepy.OAuthHandler(consumer_key, consumer_secret)\n",
    "auth.set_access_token(access_token, access_token_secret)\n",
    "\n",
    "# Creation of the actual interface, using authentication & invoking rate limit instructions \n",
    "# Automatically wait for rate limits to replenish and print notification when Tweepy is waiting for rate limits to replenish\n",
    "api = tweepy.API(auth_handler=auth, wait_on_rate_limit=True, wait_on_rate_limit_notify=True)\n"
   ]
  },
  {
   "cell_type": "code",
   "execution_count": 305,
   "metadata": {
    "scrolled": true
   },
   "outputs": [
    {
     "data": {
      "text/plain": [
       "{'created_at': 'Thu May 26 01:47:51 +0000 2016',\n",
       " 'id': 735648611367784448,\n",
       " 'id_str': '735648611367784448',\n",
       " 'full_text': '*faints* 12/10 perfection in pupper form https://t.co/t6TxTwTLEK',\n",
       " 'truncated': False,\n",
       " 'display_text_range': [0, 40],\n",
       " 'entities': {'hashtags': [],\n",
       "  'symbols': [],\n",
       "  'user_mentions': [],\n",
       "  'urls': [],\n",
       "  'media': [{'id': 735648574982246401,\n",
       "    'id_str': '735648574982246401',\n",
       "    'indices': [41, 64],\n",
       "    'media_url': 'http://pbs.twimg.com/media/CjWMezdW0AErwU3.jpg',\n",
       "    'media_url_https': 'https://pbs.twimg.com/media/CjWMezdW0AErwU3.jpg',\n",
       "    'url': 'https://t.co/t6TxTwTLEK',\n",
       "    'display_url': 'pic.twitter.com/t6TxTwTLEK',\n",
       "    'expanded_url': 'https://twitter.com/dog_rates/status/735648611367784448/photo/1',\n",
       "    'type': 'photo',\n",
       "    'sizes': {'thumb': {'w': 150, 'h': 150, 'resize': 'crop'},\n",
       "     'small': {'w': 680, 'h': 680, 'resize': 'fit'},\n",
       "     'medium': {'w': 1024, 'h': 1024, 'resize': 'fit'},\n",
       "     'large': {'w': 1024, 'h': 1024, 'resize': 'fit'}}}]},\n",
       " 'extended_entities': {'media': [{'id': 735648574982246401,\n",
       "    'id_str': '735648574982246401',\n",
       "    'indices': [41, 64],\n",
       "    'media_url': 'http://pbs.twimg.com/media/CjWMezdW0AErwU3.jpg',\n",
       "    'media_url_https': 'https://pbs.twimg.com/media/CjWMezdW0AErwU3.jpg',\n",
       "    'url': 'https://t.co/t6TxTwTLEK',\n",
       "    'display_url': 'pic.twitter.com/t6TxTwTLEK',\n",
       "    'expanded_url': 'https://twitter.com/dog_rates/status/735648611367784448/photo/1',\n",
       "    'type': 'photo',\n",
       "    'sizes': {'thumb': {'w': 150, 'h': 150, 'resize': 'crop'},\n",
       "     'small': {'w': 680, 'h': 680, 'resize': 'fit'},\n",
       "     'medium': {'w': 1024, 'h': 1024, 'resize': 'fit'},\n",
       "     'large': {'w': 1024, 'h': 1024, 'resize': 'fit'}}}]},\n",
       " 'source': '<a href=\"http://twitter.com/download/iphone\" rel=\"nofollow\">Twitter for iPhone</a>',\n",
       " 'in_reply_to_status_id': None,\n",
       " 'in_reply_to_status_id_str': None,\n",
       " 'in_reply_to_user_id': None,\n",
       " 'in_reply_to_user_id_str': None,\n",
       " 'in_reply_to_screen_name': None,\n",
       " 'user': {'id': 4196983835,\n",
       "  'id_str': '4196983835',\n",
       "  'name': 'WeRateDogs™',\n",
       "  'screen_name': 'dog_rates',\n",
       "  'location': '「 DM YOUR DOGS 」',\n",
       "  'description': 'Your Only Source For Professional Dog Ratings Instagram and Facebook ➪ WeRateDogs partnerships@weratedogs.com',\n",
       "  'url': 'https://t.co/N7sNNHSfPq',\n",
       "  'entities': {'url': {'urls': [{'url': 'https://t.co/N7sNNHSfPq',\n",
       "      'expanded_url': 'http://weratedogs.com',\n",
       "      'display_url': 'weratedogs.com',\n",
       "      'indices': [0, 23]}]},\n",
       "   'description': {'urls': []}},\n",
       "  'protected': False,\n",
       "  'followers_count': 7993204,\n",
       "  'friends_count': 12,\n",
       "  'listed_count': 6161,\n",
       "  'created_at': 'Sun Nov 15 21:41:29 +0000 2015',\n",
       "  'favourites_count': 141711,\n",
       "  'utc_offset': None,\n",
       "  'time_zone': None,\n",
       "  'geo_enabled': True,\n",
       "  'verified': True,\n",
       "  'statuses_count': 10087,\n",
       "  'lang': 'en',\n",
       "  'contributors_enabled': False,\n",
       "  'is_translator': False,\n",
       "  'is_translation_enabled': False,\n",
       "  'profile_background_color': '000000',\n",
       "  'profile_background_image_url': 'http://abs.twimg.com/images/themes/theme1/bg.png',\n",
       "  'profile_background_image_url_https': 'https://abs.twimg.com/images/themes/theme1/bg.png',\n",
       "  'profile_background_tile': False,\n",
       "  'profile_image_url': 'http://pbs.twimg.com/profile_images/1112594177961844736/qQK8NJT-_normal.jpg',\n",
       "  'profile_image_url_https': 'https://pbs.twimg.com/profile_images/1112594177961844736/qQK8NJT-_normal.jpg',\n",
       "  'profile_banner_url': 'https://pbs.twimg.com/profile_banners/4196983835/1554098098',\n",
       "  'profile_link_color': 'F5ABB5',\n",
       "  'profile_sidebar_border_color': '000000',\n",
       "  'profile_sidebar_fill_color': '000000',\n",
       "  'profile_text_color': '000000',\n",
       "  'profile_use_background_image': False,\n",
       "  'has_extended_profile': False,\n",
       "  'default_profile': False,\n",
       "  'default_profile_image': False,\n",
       "  'following': True,\n",
       "  'follow_request_sent': False,\n",
       "  'notifications': False,\n",
       "  'translator_type': 'none'},\n",
       " 'geo': None,\n",
       " 'coordinates': None,\n",
       " 'place': None,\n",
       " 'contributors': None,\n",
       " 'is_quote_status': False,\n",
       " 'retweet_count': 1155,\n",
       " 'favorite_count': 4137,\n",
       " 'favorited': False,\n",
       " 'retweeted': False,\n",
       " 'possibly_sensitive': False,\n",
       " 'possibly_sensitive_appealable': False,\n",
       " 'lang': 'en'}"
      ]
     },
     "execution_count": 305,
     "metadata": {},
     "output_type": "execute_result"
    }
   ],
   "source": [
    "# Query twitter API for sample tweet ID from archive\n",
    "# Store status object (contains tweet text and other data)\n",
    "tweet = api.get_status(735648611367784448, tweet_mode='extended')\n",
    "\n",
    "# Access and store status object's JSON serializable response data using ._json property \n",
    "info_json = tweet._json\n",
    "info_json"
   ]
  },
  {
   "cell_type": "code",
   "execution_count": 306,
   "metadata": {},
   "outputs": [
    {
     "name": "stdout",
     "output_type": "stream",
     "text": [
      "Tweed ID: 735648611367784448\n",
      "Tweet text: \"*faints* 12/10 perfection in pupper form \".\n",
      "Tweeted on Thu May 26 01:47:51 +0000 2016.\n",
      "Retweeted 1155 times.\n",
      "Favorited by 4137 Twitterers.\n",
      "Tweet length: 40 characters.\n"
     ]
    }
   ],
   "source": [
    "# Extract full_text, created_at, retweet_count, favorite_count, and display_text_range for sample tweet\n",
    "# We will store all the JSON data in the .txt file for all tweets and extract the stuff we want to fill the DataFrame\n",
    "print(\"Tweed ID: {}\".format(info_json['id']))\n",
    "print(\"Tweet text: \\\"{}\\\".\".format(info_json['full_text'].split('https')[0]))\n",
    "print(\"Tweeted on {}.\".format(info_json['created_at']))\n",
    "print(\"Retweeted {} times.\".format(info_json['retweet_count']))\n",
    "print(\"Favorited by {} Twitterers.\".format(info_json['favorite_count']))\n",
    "print(\"Tweet length: {} characters.\".format(info_json['display_text_range'][1]))"
   ]
  },
  {
   "cell_type": "code",
   "execution_count": 307,
   "metadata": {},
   "outputs": [],
   "source": [
    "# Create/close tweet_json.txt for JSON data storage if not exist\n",
    "f = 'tweet_json.txt'\n",
    "if not os.path.isfile(f):\n",
    "    open(f, mode='w').close()\n",
    "    "
   ]
  },
  {
   "cell_type": "code",
   "execution_count": 308,
   "metadata": {},
   "outputs": [],
   "source": [
    "# Store tweet_id series, we will iterate through this to collect all data\n",
    "tweet_ids = archive.tweet_id"
   ]
  },
  {
   "cell_type": "code",
   "execution_count": 309,
   "metadata": {},
   "outputs": [],
   "source": [
    "# Create a counter and empty errors dictionary\n",
    "if not os.path.isfile(f):\n",
    "    counter = 0\n",
    "    fails_dict = {} # Will be a dictionary of errors {index_tweetID: Error message}\n",
    "    # Iterate through tweet_ids to extract JSON data and dump in .txt file\n",
    "    with open(f, 'w') as outfile:\n",
    "        for tweet_id in tweet_ids:\n",
    "            # Slow cell, print Tweet counter to gauge time remaining\n",
    "            counter += 1\n",
    "            print(str(counter) + \": \" + str(tweet_id))\n",
    "            try:\n",
    "                # Retrieve status objects with Tweepy API\n",
    "                tweet = api.get_status(tweet_id, tweet_mode='extended')\n",
    "                print(\"Success\")\n",
    "                # Access/write JSON serializable response data to tweet_json.txt\n",
    "                json.dump(tweet._json, outfile)\n",
    "                outfile.write('\\n')\n",
    "            except tweepy.TweepError as e:\n",
    "                # Print text for each exception + the tweet's id\n",
    "                print(\"Fail \" + str(tweet_id) + \": \" + str(e))\n",
    "                # Add JSON data to tweet_errors dictionary for bad tweets\n",
    "                fails_dict[tweet_id] = e\n"
   ]
  },
  {
   "cell_type": "code",
   "execution_count": 310,
   "metadata": {},
   "outputs": [
    {
     "data": {
      "text/html": [
       "<div>\n",
       "<style scoped>\n",
       "    .dataframe tbody tr th:only-of-type {\n",
       "        vertical-align: middle;\n",
       "    }\n",
       "\n",
       "    .dataframe tbody tr th {\n",
       "        vertical-align: top;\n",
       "    }\n",
       "\n",
       "    .dataframe thead th {\n",
       "        text-align: right;\n",
       "    }\n",
       "</style>\n",
       "<table border=\"1\" class=\"dataframe\">\n",
       "  <thead>\n",
       "    <tr style=\"text-align: right;\">\n",
       "      <th></th>\n",
       "      <th>tweet_id</th>\n",
       "      <th>retweet_count</th>\n",
       "      <th>favorite_count</th>\n",
       "      <th>tweet_length</th>\n",
       "    </tr>\n",
       "  </thead>\n",
       "  <tbody>\n",
       "    <tr>\n",
       "      <th>0</th>\n",
       "      <td>892420643555336193</td>\n",
       "      <td>8231</td>\n",
       "      <td>37782</td>\n",
       "      <td>85</td>\n",
       "    </tr>\n",
       "    <tr>\n",
       "      <th>1</th>\n",
       "      <td>892177421306343426</td>\n",
       "      <td>6083</td>\n",
       "      <td>32454</td>\n",
       "      <td>138</td>\n",
       "    </tr>\n",
       "    <tr>\n",
       "      <th>2</th>\n",
       "      <td>891815181378084864</td>\n",
       "      <td>4026</td>\n",
       "      <td>24436</td>\n",
       "      <td>121</td>\n",
       "    </tr>\n",
       "    <tr>\n",
       "      <th>3</th>\n",
       "      <td>891689557279858688</td>\n",
       "      <td>8389</td>\n",
       "      <td>41114</td>\n",
       "      <td>79</td>\n",
       "    </tr>\n",
       "    <tr>\n",
       "      <th>4</th>\n",
       "      <td>891327558926688256</td>\n",
       "      <td>9088</td>\n",
       "      <td>39322</td>\n",
       "      <td>138</td>\n",
       "    </tr>\n",
       "  </tbody>\n",
       "</table>\n",
       "</div>"
      ],
      "text/plain": [
       "             tweet_id retweet_count favorite_count tweet_length\n",
       "0  892420643555336193  8231          37782          85         \n",
       "1  892177421306343426  6083          32454          138        \n",
       "2  891815181378084864  4026          24436          121        \n",
       "3  891689557279858688  8389          41114          79         \n",
       "4  891327558926688256  9088          39322          138        "
      ]
     },
     "execution_count": 310,
     "metadata": {},
     "output_type": "execute_result"
    }
   ],
   "source": [
    "# Create dataframe to hold tweet data\n",
    "api_data = pd.DataFrame(columns=['tweet_id', 'retweet_count', 'favorite_count', 'tweet_length'])\n",
    "\n",
    "# Load/assign data from txt file and append it to the dataframe\n",
    "with open('tweet_json.txt') as f:\n",
    "    for line in f:\n",
    "        status  = json.loads(line)\n",
    "        tweet_id = status['id_str']\n",
    "        retweet_count = status['retweet_count']\n",
    "        favorite_count = status['favorite_count']\n",
    "        tweet_length = status['display_text_range'][1]\n",
    "        api_data = api_data.append(pd.DataFrame([[tweet_id, retweet_count, favorite_count, tweet_length]],\n",
    "                                        columns=['tweet_id', 'retweet_count', 'favorite_count', 'tweet_length']))\n",
    "\n",
    "# Reset index so not all indices are 0\n",
    "api_data = api_data.reset_index(drop=True)\n",
    "api_data.head()"
   ]
  },
  {
   "cell_type": "code",
   "execution_count": 311,
   "metadata": {},
   "outputs": [
    {
     "data": {
      "text/plain": [
       "18"
      ]
     },
     "execution_count": 311,
     "metadata": {},
     "output_type": "execute_result"
    }
   ],
   "source": [
    "len(api_data.tweet_id[0])"
   ]
  },
  {
   "cell_type": "markdown",
   "metadata": {},
   "source": [
    "# Assess"
   ]
  },
  {
   "cell_type": "markdown",
   "metadata": {},
   "source": [
    "<a id='a_archive'></a>\n",
    "### `archive` table"
   ]
  },
  {
   "cell_type": "code",
   "execution_count": 312,
   "metadata": {},
   "outputs": [
    {
     "data": {
      "text/html": [
       "<div>\n",
       "<style scoped>\n",
       "    .dataframe tbody tr th:only-of-type {\n",
       "        vertical-align: middle;\n",
       "    }\n",
       "\n",
       "    .dataframe tbody tr th {\n",
       "        vertical-align: top;\n",
       "    }\n",
       "\n",
       "    .dataframe thead th {\n",
       "        text-align: right;\n",
       "    }\n",
       "</style>\n",
       "<table border=\"1\" class=\"dataframe\">\n",
       "  <thead>\n",
       "    <tr style=\"text-align: right;\">\n",
       "      <th></th>\n",
       "      <th>tweet_id</th>\n",
       "      <th>in_reply_to_status_id</th>\n",
       "      <th>in_reply_to_user_id</th>\n",
       "      <th>timestamp</th>\n",
       "      <th>source</th>\n",
       "      <th>text</th>\n",
       "      <th>retweeted_status_id</th>\n",
       "      <th>retweeted_status_user_id</th>\n",
       "      <th>retweeted_status_timestamp</th>\n",
       "      <th>expanded_urls</th>\n",
       "      <th>rating_numerator</th>\n",
       "      <th>rating_denominator</th>\n",
       "      <th>name</th>\n",
       "      <th>doggo</th>\n",
       "      <th>floofer</th>\n",
       "      <th>pupper</th>\n",
       "      <th>puppo</th>\n",
       "    </tr>\n",
       "  </thead>\n",
       "  <tbody>\n",
       "    <tr>\n",
       "      <th>92</th>\n",
       "      <td>874296783580663808</td>\n",
       "      <td>NaN</td>\n",
       "      <td>NaN</td>\n",
       "      <td>2017-06-12 16:06:11 +0000</td>\n",
       "      <td>&lt;a href=\"http://twitter.com/download/iphone\" rel=\"nofollow\"&gt;Twitter for iPhone&lt;/a&gt;</td>\n",
       "      <td>This is Jed. He may be the fanciest pupper in the game right now. Knows it too. 13/10 would sign modeling contract https://t.co/0YplNnSMEm</td>\n",
       "      <td>NaN</td>\n",
       "      <td>NaN</td>\n",
       "      <td>NaN</td>\n",
       "      <td>https://twitter.com/dog_rates/status/874296783580663808/photo/1</td>\n",
       "      <td>13</td>\n",
       "      <td>10</td>\n",
       "      <td>Jed</td>\n",
       "      <td>None</td>\n",
       "      <td>None</td>\n",
       "      <td>pupper</td>\n",
       "      <td>None</td>\n",
       "    </tr>\n",
       "    <tr>\n",
       "      <th>1090</th>\n",
       "      <td>737678689543020544</td>\n",
       "      <td>NaN</td>\n",
       "      <td>NaN</td>\n",
       "      <td>2016-05-31 16:14:39 +0000</td>\n",
       "      <td>&lt;a href=\"http://twitter.com/download/iphone\" rel=\"nofollow\"&gt;Twitter for iPhone&lt;/a&gt;</td>\n",
       "      <td>We only rate dogs. Pls stop sending in non-canines like this Slovak Car Bunny. It makes my job very difficult. 11/10 https://t.co/VflvQLH2y5</td>\n",
       "      <td>NaN</td>\n",
       "      <td>NaN</td>\n",
       "      <td>NaN</td>\n",
       "      <td>https://twitter.com/dog_rates/status/737678689543020544/photo/1</td>\n",
       "      <td>11</td>\n",
       "      <td>10</td>\n",
       "      <td>None</td>\n",
       "      <td>None</td>\n",
       "      <td>None</td>\n",
       "      <td>None</td>\n",
       "      <td>None</td>\n",
       "    </tr>\n",
       "    <tr>\n",
       "      <th>711</th>\n",
       "      <td>784517518371221505</td>\n",
       "      <td>NaN</td>\n",
       "      <td>NaN</td>\n",
       "      <td>2016-10-07 22:15:26 +0000</td>\n",
       "      <td>&lt;a href=\"http://twitter.com/download/iphone\" rel=\"nofollow\"&gt;Twitter for iPhone&lt;/a&gt;</td>\n",
       "      <td>This is Frankie. He has yet to learn how to control his tongue. 11/10 maybe one day https://t.co/p6fgYe2dB6</td>\n",
       "      <td>NaN</td>\n",
       "      <td>NaN</td>\n",
       "      <td>NaN</td>\n",
       "      <td>https://twitter.com/dog_rates/status/784517518371221505/photo/1,https://twitter.com/dog_rates/status/784517518371221505/photo/1,https://twitter.com/dog_rates/status/784517518371221505/photo/1</td>\n",
       "      <td>11</td>\n",
       "      <td>10</td>\n",
       "      <td>Frankie</td>\n",
       "      <td>None</td>\n",
       "      <td>None</td>\n",
       "      <td>None</td>\n",
       "      <td>None</td>\n",
       "    </tr>\n",
       "    <tr>\n",
       "      <th>724</th>\n",
       "      <td>782747134529531904</td>\n",
       "      <td>NaN</td>\n",
       "      <td>NaN</td>\n",
       "      <td>2016-10-03 01:00:34 +0000</td>\n",
       "      <td>&lt;a href=\"http://twitter.com/download/iphone\" rel=\"nofollow\"&gt;Twitter for iPhone&lt;/a&gt;</td>\n",
       "      <td>This is Deacon. He's the happiest almost dry doggo I've ever seen. 11/10 would smile back https://t.co/C6fUMnHt1H</td>\n",
       "      <td>NaN</td>\n",
       "      <td>NaN</td>\n",
       "      <td>NaN</td>\n",
       "      <td>https://twitter.com/dog_rates/status/782747134529531904/photo/1</td>\n",
       "      <td>11</td>\n",
       "      <td>10</td>\n",
       "      <td>Deacon</td>\n",
       "      <td>doggo</td>\n",
       "      <td>None</td>\n",
       "      <td>None</td>\n",
       "      <td>None</td>\n",
       "    </tr>\n",
       "    <tr>\n",
       "      <th>957</th>\n",
       "      <td>751538714308972544</td>\n",
       "      <td>NaN</td>\n",
       "      <td>NaN</td>\n",
       "      <td>2016-07-08 22:09:27 +0000</td>\n",
       "      <td>&lt;a href=\"http://twitter.com/download/iphone\" rel=\"nofollow\"&gt;Twitter for iPhone&lt;/a&gt;</td>\n",
       "      <td>This is Max. She has one ear that's always slightly more alert than the other. 10/10 wonky af https://t.co/5eJg69G8vY</td>\n",
       "      <td>NaN</td>\n",
       "      <td>NaN</td>\n",
       "      <td>NaN</td>\n",
       "      <td>https://twitter.com/dog_rates/status/751538714308972544/photo/1,https://twitter.com/dog_rates/status/751538714308972544/photo/1,https://twitter.com/dog_rates/status/751538714308972544/photo/1</td>\n",
       "      <td>10</td>\n",
       "      <td>10</td>\n",
       "      <td>Max</td>\n",
       "      <td>None</td>\n",
       "      <td>None</td>\n",
       "      <td>None</td>\n",
       "      <td>None</td>\n",
       "    </tr>\n",
       "  </tbody>\n",
       "</table>\n",
       "</div>"
      ],
      "text/plain": [
       "                tweet_id  in_reply_to_status_id  in_reply_to_user_id  \\\n",
       "92    874296783580663808 NaN                    NaN                    \n",
       "1090  737678689543020544 NaN                    NaN                    \n",
       "711   784517518371221505 NaN                    NaN                    \n",
       "724   782747134529531904 NaN                    NaN                    \n",
       "957   751538714308972544 NaN                    NaN                    \n",
       "\n",
       "                      timestamp  \\\n",
       "92    2017-06-12 16:06:11 +0000   \n",
       "1090  2016-05-31 16:14:39 +0000   \n",
       "711   2016-10-07 22:15:26 +0000   \n",
       "724   2016-10-03 01:00:34 +0000   \n",
       "957   2016-07-08 22:09:27 +0000   \n",
       "\n",
       "                                                                                  source  \\\n",
       "92    <a href=\"http://twitter.com/download/iphone\" rel=\"nofollow\">Twitter for iPhone</a>   \n",
       "1090  <a href=\"http://twitter.com/download/iphone\" rel=\"nofollow\">Twitter for iPhone</a>   \n",
       "711   <a href=\"http://twitter.com/download/iphone\" rel=\"nofollow\">Twitter for iPhone</a>   \n",
       "724   <a href=\"http://twitter.com/download/iphone\" rel=\"nofollow\">Twitter for iPhone</a>   \n",
       "957   <a href=\"http://twitter.com/download/iphone\" rel=\"nofollow\">Twitter for iPhone</a>   \n",
       "\n",
       "                                                                                                                                              text  \\\n",
       "92    This is Jed. He may be the fanciest pupper in the game right now. Knows it too. 13/10 would sign modeling contract https://t.co/0YplNnSMEm     \n",
       "1090  We only rate dogs. Pls stop sending in non-canines like this Slovak Car Bunny. It makes my job very difficult. 11/10 https://t.co/VflvQLH2y5   \n",
       "711   This is Frankie. He has yet to learn how to control his tongue. 11/10 maybe one day https://t.co/p6fgYe2dB6                                    \n",
       "724   This is Deacon. He's the happiest almost dry doggo I've ever seen. 11/10 would smile back https://t.co/C6fUMnHt1H                              \n",
       "957   This is Max. She has one ear that's always slightly more alert than the other. 10/10 wonky af https://t.co/5eJg69G8vY                          \n",
       "\n",
       "      retweeted_status_id  retweeted_status_user_id  \\\n",
       "92   NaN                  NaN                         \n",
       "1090 NaN                  NaN                         \n",
       "711  NaN                  NaN                         \n",
       "724  NaN                  NaN                         \n",
       "957  NaN                  NaN                         \n",
       "\n",
       "     retweeted_status_timestamp  \\\n",
       "92    NaN                         \n",
       "1090  NaN                         \n",
       "711   NaN                         \n",
       "724   NaN                         \n",
       "957   NaN                         \n",
       "\n",
       "                                                                                                                                                                                        expanded_urls  \\\n",
       "92    https://twitter.com/dog_rates/status/874296783580663808/photo/1                                                                                                                                   \n",
       "1090  https://twitter.com/dog_rates/status/737678689543020544/photo/1                                                                                                                                   \n",
       "711   https://twitter.com/dog_rates/status/784517518371221505/photo/1,https://twitter.com/dog_rates/status/784517518371221505/photo/1,https://twitter.com/dog_rates/status/784517518371221505/photo/1   \n",
       "724   https://twitter.com/dog_rates/status/782747134529531904/photo/1                                                                                                                                   \n",
       "957   https://twitter.com/dog_rates/status/751538714308972544/photo/1,https://twitter.com/dog_rates/status/751538714308972544/photo/1,https://twitter.com/dog_rates/status/751538714308972544/photo/1   \n",
       "\n",
       "      rating_numerator  rating_denominator     name  doggo floofer  pupper  \\\n",
       "92    13                10                  Jed      None   None    pupper   \n",
       "1090  11                10                  None     None   None    None     \n",
       "711   11                10                  Frankie  None   None    None     \n",
       "724   11                10                  Deacon   doggo  None    None     \n",
       "957   10                10                  Max      None   None    None     \n",
       "\n",
       "     puppo  \n",
       "92    None  \n",
       "1090  None  \n",
       "711   None  \n",
       "724   None  \n",
       "957   None  "
      ]
     },
     "execution_count": 312,
     "metadata": {},
     "output_type": "execute_result"
    }
   ],
   "source": [
    "# Visually assess\n",
    "archive.sample(5)"
   ]
  },
  {
   "cell_type": "code",
   "execution_count": 313,
   "metadata": {},
   "outputs": [
    {
     "name": "stdout",
     "output_type": "stream",
     "text": [
      "<class 'pandas.core.frame.DataFrame'>\n",
      "RangeIndex: 2356 entries, 0 to 2355\n",
      "Data columns (total 17 columns):\n",
      "tweet_id                      2356 non-null int64\n",
      "in_reply_to_status_id         78 non-null float64\n",
      "in_reply_to_user_id           78 non-null float64\n",
      "timestamp                     2356 non-null object\n",
      "source                        2356 non-null object\n",
      "text                          2356 non-null object\n",
      "retweeted_status_id           181 non-null float64\n",
      "retweeted_status_user_id      181 non-null float64\n",
      "retweeted_status_timestamp    181 non-null object\n",
      "expanded_urls                 2297 non-null object\n",
      "rating_numerator              2356 non-null int64\n",
      "rating_denominator            2356 non-null int64\n",
      "name                          2356 non-null object\n",
      "doggo                         2356 non-null object\n",
      "floofer                       2356 non-null object\n",
      "pupper                        2356 non-null object\n",
      "puppo                         2356 non-null object\n",
      "dtypes: float64(4), int64(3), object(10)\n",
      "memory usage: 313.0+ KB\n"
     ]
    }
   ],
   "source": [
    "# Is there missing data/are the datatypes appropriate? \n",
    "archive.info()"
   ]
  },
  {
   "cell_type": "markdown",
   "metadata": {},
   "source": [
    "**RATINGS**"
   ]
  },
  {
   "cell_type": "code",
   "execution_count": 314,
   "metadata": {
    "scrolled": true
   },
   "outputs": [
    {
     "data": {
      "text/html": [
       "<div>\n",
       "<style scoped>\n",
       "    .dataframe tbody tr th:only-of-type {\n",
       "        vertical-align: middle;\n",
       "    }\n",
       "\n",
       "    .dataframe tbody tr th {\n",
       "        vertical-align: top;\n",
       "    }\n",
       "\n",
       "    .dataframe thead th {\n",
       "        text-align: right;\n",
       "    }\n",
       "</style>\n",
       "<table border=\"1\" class=\"dataframe\">\n",
       "  <thead>\n",
       "    <tr style=\"text-align: right;\">\n",
       "      <th></th>\n",
       "      <th>text</th>\n",
       "      <th>rating_numerator</th>\n",
       "      <th>rating_denominator</th>\n",
       "    </tr>\n",
       "  </thead>\n",
       "  <tbody>\n",
       "    <tr>\n",
       "      <th>2074</th>\n",
       "      <td>After so many requests... here you go.\\n\\nGood dogg. 420/10 https://t.co/yfAAo1gdeY</td>\n",
       "      <td>420</td>\n",
       "      <td>10</td>\n",
       "    </tr>\n",
       "    <tr>\n",
       "      <th>1433</th>\n",
       "      <td>Happy Wednesday here's a bucket of pups. 44/40 would pet all at once https://t.co/HppvrYuamZ</td>\n",
       "      <td>44</td>\n",
       "      <td>40</td>\n",
       "    </tr>\n",
       "    <tr>\n",
       "      <th>979</th>\n",
       "      <td>This is Atticus. He's quite simply America af. 1776/10 https://t.co/GRXwMxLBkh</td>\n",
       "      <td>1776</td>\n",
       "      <td>10</td>\n",
       "    </tr>\n",
       "    <tr>\n",
       "      <th>1351</th>\n",
       "      <td>Here is a whole flock of puppers.  60/50 I'll take the lot https://t.co/9dpcw6MdWa</td>\n",
       "      <td>60</td>\n",
       "      <td>50</td>\n",
       "    </tr>\n",
       "    <tr>\n",
       "      <th>188</th>\n",
       "      <td>@dhmontgomery We also gave snoop dogg a 420/10 but I think that predated your research</td>\n",
       "      <td>420</td>\n",
       "      <td>10</td>\n",
       "    </tr>\n",
       "  </tbody>\n",
       "</table>\n",
       "</div>"
      ],
      "text/plain": [
       "                                                                                              text  \\\n",
       "2074  After so many requests... here you go.\\n\\nGood dogg. 420/10 https://t.co/yfAAo1gdeY            \n",
       "1433  Happy Wednesday here's a bucket of pups. 44/40 would pet all at once https://t.co/HppvrYuamZ   \n",
       "979   This is Atticus. He's quite simply America af. 1776/10 https://t.co/GRXwMxLBkh                 \n",
       "1351  Here is a whole flock of puppers.  60/50 I'll take the lot https://t.co/9dpcw6MdWa             \n",
       "188   @dhmontgomery We also gave snoop dogg a 420/10 but I think that predated your research         \n",
       "\n",
       "      rating_numerator  rating_denominator  \n",
       "2074  420               10                  \n",
       "1433  44                40                  \n",
       "979   1776              10                  \n",
       "1351  60                50                  \n",
       "188   420               10                  "
      ]
     },
     "execution_count": 314,
     "metadata": {},
     "output_type": "execute_result"
    }
   ],
   "source": [
    "# Are all ratings reasonable (0 < numerator < 20 and denominator = 10)?\n",
    "weird_rates = archive[(archive['rating_numerator'] < 0) | \\\n",
    "                        (archive['rating_numerator'] > 20) | \\\n",
    "                        (archive['rating_denominator'] != 10) ]\n",
    "weird_rates[['text', 'rating_numerator', 'rating_denominator']].sample(5)"
   ]
  },
  {
   "cell_type": "markdown",
   "metadata": {},
   "source": [
    ">There are ratings that don't \"make sense,\" but the absurdity of the system is part of the appeal of the account (for example 1776 in the numerator for Atticus who is \"America af.\" I'll leave these alone."
   ]
  },
  {
   "cell_type": "markdown",
   "metadata": {},
   "source": [
    "**NAMES**"
   ]
  },
  {
   "cell_type": "code",
   "execution_count": 315,
   "metadata": {
    "scrolled": true
   },
   "outputs": [
    {
     "data": {
      "text/plain": [
       "Counter({'such': 1,\n",
       "         'a': 55,\n",
       "         'quite': 4,\n",
       "         'not': 2,\n",
       "         'one': 4,\n",
       "         'incredibly': 1,\n",
       "         'mad': 2,\n",
       "         'an': 7,\n",
       "         'very': 5,\n",
       "         'just': 4,\n",
       "         'my': 1,\n",
       "         'his': 1,\n",
       "         'actually': 2,\n",
       "         'getting': 2,\n",
       "         'this': 1,\n",
       "         'unacceptable': 1,\n",
       "         'all': 1,\n",
       "         'old': 1,\n",
       "         'infuriating': 1,\n",
       "         'the': 8,\n",
       "         'by': 1,\n",
       "         'officially': 1,\n",
       "         'life': 1,\n",
       "         'light': 1,\n",
       "         'space': 1})"
      ]
     },
     "execution_count": 315,
     "metadata": {},
     "output_type": "execute_result"
    }
   ],
   "source": [
    "# Are there any incorrect name recognitions? Most names observed are capitalized.\n",
    "low_names = []\n",
    "for pup in archive['name']:\n",
    "    if pup.islower():\n",
    "        low_names.append(pup)\n",
    "wrong_names = Counter(low_names) \n",
    "wrong_names"
   ]
  },
  {
   "cell_type": "code",
   "execution_count": 316,
   "metadata": {},
   "outputs": [
    {
     "data": {
      "text/html": [
       "<div>\n",
       "<style scoped>\n",
       "    .dataframe tbody tr th:only-of-type {\n",
       "        vertical-align: middle;\n",
       "    }\n",
       "\n",
       "    .dataframe tbody tr th {\n",
       "        vertical-align: top;\n",
       "    }\n",
       "\n",
       "    .dataframe thead th {\n",
       "        text-align: right;\n",
       "    }\n",
       "</style>\n",
       "<table border=\"1\" class=\"dataframe\">\n",
       "  <thead>\n",
       "    <tr style=\"text-align: right;\">\n",
       "      <th></th>\n",
       "      <th>text</th>\n",
       "      <th>name</th>\n",
       "    </tr>\n",
       "  </thead>\n",
       "  <tbody>\n",
       "    <tr>\n",
       "      <th>819</th>\n",
       "      <td>We only rate dogs. Pls stop sending in non-canines like this Arctic Floof Kangaroo. This is very frustrating. 11/10 https://t.co/qlUDuPoE3d</td>\n",
       "      <td>very</td>\n",
       "    </tr>\n",
       "    <tr>\n",
       "      <th>1724</th>\n",
       "      <td>This is by far the most coordinated series of pictures I was sent. Downright impressive in every way. 12/10 for all https://t.co/etzLo3sdZE</td>\n",
       "      <td>by</td>\n",
       "    </tr>\n",
       "    <tr>\n",
       "      <th>2204</th>\n",
       "      <td>This is an Irish Rigatoni terrier named Berta. Completely made of rope. No eyes. Quite large. Loves to dance. 10/10 https://t.co/EM5fDykrJg</td>\n",
       "      <td>an</td>\n",
       "    </tr>\n",
       "    <tr>\n",
       "      <th>1063</th>\n",
       "      <td>This is just downright precious af. 12/10 for both pupper and doggo https://t.co/o5J479bZUC</td>\n",
       "      <td>just</td>\n",
       "    </tr>\n",
       "    <tr>\n",
       "      <th>1017</th>\n",
       "      <td>This is a carrot. We only rate dogs. Please only send in dogs. You all really should know this by now ...11/10 https://t.co/9e48aPrBm2</td>\n",
       "      <td>a</td>\n",
       "    </tr>\n",
       "  </tbody>\n",
       "</table>\n",
       "</div>"
      ],
      "text/plain": [
       "                                                                                                                                             text  \\\n",
       "819   We only rate dogs. Pls stop sending in non-canines like this Arctic Floof Kangaroo. This is very frustrating. 11/10 https://t.co/qlUDuPoE3d   \n",
       "1724  This is by far the most coordinated series of pictures I was sent. Downright impressive in every way. 12/10 for all https://t.co/etzLo3sdZE   \n",
       "2204  This is an Irish Rigatoni terrier named Berta. Completely made of rope. No eyes. Quite large. Loves to dance. 10/10 https://t.co/EM5fDykrJg   \n",
       "1063  This is just downright precious af. 12/10 for both pupper and doggo https://t.co/o5J479bZUC                                                   \n",
       "1017  This is a carrot. We only rate dogs. Please only send in dogs. You all really should know this by now ...11/10 https://t.co/9e48aPrBm2        \n",
       "\n",
       "      name  \n",
       "819   very  \n",
       "1724  by    \n",
       "2204  an    \n",
       "1063  just  \n",
       "1017  a     "
      ]
     },
     "execution_count": 316,
     "metadata": {},
     "output_type": "execute_result"
    }
   ],
   "source": [
    "# Display examples of name misrecognitions \n",
    "bad_names_df = archive[archive['name'].isin(wrong_names)]\n",
    "bad_names_df[['text', 'name']].sample(5)"
   ]
  },
  {
   "cell_type": "code",
   "execution_count": 317,
   "metadata": {},
   "outputs": [
    {
     "data": {
      "text/plain": [
       "745"
      ]
     },
     "execution_count": 317,
     "metadata": {},
     "output_type": "execute_result"
    }
   ],
   "source": [
    "# Are there any tweets where no name was extracted?\n",
    "len(archive[archive['name'] == \"None\"])"
   ]
  },
  {
   "cell_type": "code",
   "execution_count": 318,
   "metadata": {},
   "outputs": [
    {
     "data": {
      "text/html": [
       "<div>\n",
       "<style scoped>\n",
       "    .dataframe tbody tr th:only-of-type {\n",
       "        vertical-align: middle;\n",
       "    }\n",
       "\n",
       "    .dataframe tbody tr th {\n",
       "        vertical-align: top;\n",
       "    }\n",
       "\n",
       "    .dataframe thead th {\n",
       "        text-align: right;\n",
       "    }\n",
       "</style>\n",
       "<table border=\"1\" class=\"dataframe\">\n",
       "  <thead>\n",
       "    <tr style=\"text-align: right;\">\n",
       "      <th></th>\n",
       "      <th>text</th>\n",
       "      <th>name</th>\n",
       "    </tr>\n",
       "  </thead>\n",
       "  <tbody>\n",
       "    <tr>\n",
       "      <th>1459</th>\n",
       "      <td>This may be the greatest video I've ever been sent. 4/10 for Charles the puppy, 13/10 overall. (Vid by @stevenxx_) https://t.co/uaJmNgXR2P</td>\n",
       "      <td>None</td>\n",
       "    </tr>\n",
       "    <tr>\n",
       "      <th>2320</th>\n",
       "      <td>Here we see a lone northeastern Cumberbatch. Half ladybug. Only builds with bricks. Very confident with body. 7/10 https://t.co/7LtjBS0GPK</td>\n",
       "      <td>None</td>\n",
       "    </tr>\n",
       "    <tr>\n",
       "      <th>1611</th>\n",
       "      <td>\"Tristan do not speak to me with that kind of tone or I will take away the Xbox.\" 10/10 https://t.co/VGPH0TfESw</td>\n",
       "      <td>None</td>\n",
       "    </tr>\n",
       "    <tr>\n",
       "      <th>154</th>\n",
       "      <td>We only rate dogs. Please don't send perfectly toasted marshmallows attempting to drive. Thank you... 13/10 https://t.co/nvZyyrp0kd</td>\n",
       "      <td>None</td>\n",
       "    </tr>\n",
       "    <tr>\n",
       "      <th>1625</th>\n",
       "      <td>This little fella really hates stairs. Prefers bush. 13/10 legendary pupper https://t.co/e3LPMAHj7p</td>\n",
       "      <td>None</td>\n",
       "    </tr>\n",
       "  </tbody>\n",
       "</table>\n",
       "</div>"
      ],
      "text/plain": [
       "                                                                                                                                            text  \\\n",
       "1459  This may be the greatest video I've ever been sent. 4/10 for Charles the puppy, 13/10 overall. (Vid by @stevenxx_) https://t.co/uaJmNgXR2P   \n",
       "2320  Here we see a lone northeastern Cumberbatch. Half ladybug. Only builds with bricks. Very confident with body. 7/10 https://t.co/7LtjBS0GPK   \n",
       "1611  \"Tristan do not speak to me with that kind of tone or I will take away the Xbox.\" 10/10 https://t.co/VGPH0TfESw                              \n",
       "154   We only rate dogs. Please don't send perfectly toasted marshmallows attempting to drive. Thank you... 13/10 https://t.co/nvZyyrp0kd          \n",
       "1625  This little fella really hates stairs. Prefers bush. 13/10 legendary pupper https://t.co/e3LPMAHj7p                                          \n",
       "\n",
       "      name  \n",
       "1459  None  \n",
       "2320  None  \n",
       "1611  None  \n",
       "154   None  \n",
       "1625  None  "
      ]
     },
     "execution_count": 318,
     "metadata": {},
     "output_type": "execute_result"
    }
   ],
   "source": [
    "# Display examples of missing names.\n",
    "no_names = archive[archive['name'] == 'None']\n",
    "no_names[['text', 'name']].sample(5)"
   ]
  },
  {
   "cell_type": "markdown",
   "metadata": {},
   "source": [
    ">Common formats for the appearance of names in text (as observed in visual assessment) are \n",
    "* \"This is _name_\".\n",
    "* \"Meet _name_\".\n",
    "* \"Say hello to _name_\".\n",
    "* \"Here is _name_\".\n",
    "* \"...named _name_\".\n"
   ]
  },
  {
   "cell_type": "code",
   "execution_count": 319,
   "metadata": {
    "scrolled": true
   },
   "outputs": [
    {
     "name": "stderr",
     "output_type": "stream",
     "text": [
      "/anaconda3/lib/python3.7/site-packages/ipykernel_launcher.py:3: UserWarning: This pattern has match groups. To actually get the groups, use str.extract.\n",
      "  This is separate from the ipykernel package so we can avoid doing imports until\n",
      "/anaconda3/lib/python3.7/site-packages/ipykernel_launcher.py:4: UserWarning: This pattern has match groups. To actually get the groups, use str.extract.\n",
      "  after removing the cwd from sys.path.\n",
      "/anaconda3/lib/python3.7/site-packages/ipykernel_launcher.py:5: UserWarning: This pattern has match groups. To actually get the groups, use str.extract.\n",
      "  \"\"\"\n",
      "/anaconda3/lib/python3.7/site-packages/ipykernel_launcher.py:6: UserWarning: This pattern has match groups. To actually get the groups, use str.extract.\n",
      "  \n",
      "/anaconda3/lib/python3.7/site-packages/ipykernel_launcher.py:7: UserWarning: This pattern has match groups. To actually get the groups, use str.extract.\n",
      "  import sys\n"
     ]
    },
    {
     "data": {
      "text/plain": [
       "(0, 0, 0, 0, 20)"
      ]
     },
     "execution_count": 319,
     "metadata": {},
     "output_type": "execute_result"
    }
   ],
   "source": [
    "# Look for instances of the main 5 phrases appearing in the tweet and either going unrecognized (None),\n",
    "# or being recognized as a wrong_name in wrong_names\n",
    "n1 = archive[(archive['text'].str.contains('This is ' + '([A-Z][a-z]+)' + '.'))  & (archive['name'].isin(wrong_names))];\n",
    "n2 = archive[(archive['text'].str.contains('Meet ' + '([A-Z][a-z]+)' + '.'))  & (archive['name'].isin(wrong_names))];\n",
    "n3 = archive[(archive['text'].str.contains('Say hello to ' + '([A-Z][a-z]+)' + '.'))  & (archive['name'].isin(wrong_names))];\n",
    "n4 = archive[(archive['text'].str.contains('Here is ' + '([A-Z][a-z]+)' + '.')) & (archive['name'].isin(wrong_names))];\n",
    "n5 = archive[(archive['text'].str.contains('named ' + '([A-Z][a-z]+)' + '.')) & (archive['name'].isin(wrong_names))];\n",
    "# Print length of these dataframes to see where our problems lie (if we have them)\n",
    "len(n1), len(n2), len(n3), len(n4), len(n5)\n"
   ]
  },
  {
   "cell_type": "code",
   "execution_count": 320,
   "metadata": {
    "scrolled": true
   },
   "outputs": [
    {
     "name": "stderr",
     "output_type": "stream",
     "text": [
      "/anaconda3/lib/python3.7/site-packages/ipykernel_launcher.py:3: UserWarning: This pattern has match groups. To actually get the groups, use str.extract.\n",
      "  This is separate from the ipykernel package so we can avoid doing imports until\n"
     ]
    },
    {
     "data": {
      "text/html": [
       "<div>\n",
       "<style scoped>\n",
       "    .dataframe tbody tr th:only-of-type {\n",
       "        vertical-align: middle;\n",
       "    }\n",
       "\n",
       "    .dataframe tbody tr th {\n",
       "        vertical-align: top;\n",
       "    }\n",
       "\n",
       "    .dataframe thead th {\n",
       "        text-align: right;\n",
       "    }\n",
       "</style>\n",
       "<table border=\"1\" class=\"dataframe\">\n",
       "  <thead>\n",
       "    <tr style=\"text-align: right;\">\n",
       "      <th></th>\n",
       "      <th>text</th>\n",
       "      <th>name</th>\n",
       "    </tr>\n",
       "  </thead>\n",
       "  <tbody>\n",
       "    <tr>\n",
       "      <th>2034</th>\n",
       "      <td>This is a Tuscaloosa Alcatraz named Jacob (Yacōb). Loves to sit in swing. Stellar tongue. 11/10 look at his feet https://t.co/2IslQ8ZSc7</td>\n",
       "      <td>a</td>\n",
       "    </tr>\n",
       "    <tr>\n",
       "      <th>2218</th>\n",
       "      <td>This is a Birmingham Quagmire named Chuk. Loves to relax and watch the game while sippin on that iced mocha. 10/10 https://t.co/HvNg9JWxFt</td>\n",
       "      <td>a</td>\n",
       "    </tr>\n",
       "    <tr>\n",
       "      <th>2227</th>\n",
       "      <td>Here we have an Azerbaijani Buttermilk named Guss. He sees a demon baby Hitler behind his owner. 10/10 stays alert https://t.co/aeZykWwiJN</td>\n",
       "      <td>None</td>\n",
       "    </tr>\n",
       "    <tr>\n",
       "      <th>2235</th>\n",
       "      <td>This is a Trans Siberian Kellogg named Alfonso. Huge ass eyeballs. Actually Dobby from Harry Potter. 7/10 https://t.co/XpseHBlAAb</td>\n",
       "      <td>a</td>\n",
       "    </tr>\n",
       "    <tr>\n",
       "      <th>2128</th>\n",
       "      <td>This is a Speckled Cauliflower Yosemite named Hemry. He's terrified of intruder dog. Not one bit comfortable. 9/10 https://t.co/yV3Qgjh8iN</td>\n",
       "      <td>a</td>\n",
       "    </tr>\n",
       "  </tbody>\n",
       "</table>\n",
       "</div>"
      ],
      "text/plain": [
       "                                                                                                                                            text  \\\n",
       "2034  This is a Tuscaloosa Alcatraz named Jacob (Yacōb). Loves to sit in swing. Stellar tongue. 11/10 look at his feet https://t.co/2IslQ8ZSc7     \n",
       "2218  This is a Birmingham Quagmire named Chuk. Loves to relax and watch the game while sippin on that iced mocha. 10/10 https://t.co/HvNg9JWxFt   \n",
       "2227  Here we have an Azerbaijani Buttermilk named Guss. He sees a demon baby Hitler behind his owner. 10/10 stays alert https://t.co/aeZykWwiJN   \n",
       "2235  This is a Trans Siberian Kellogg named Alfonso. Huge ass eyeballs. Actually Dobby from Harry Potter. 7/10 https://t.co/XpseHBlAAb            \n",
       "2128  This is a Speckled Cauliflower Yosemite named Hemry. He's terrified of intruder dog. Not one bit comfortable. 9/10 https://t.co/yV3Qgjh8iN   \n",
       "\n",
       "      name  \n",
       "2034  a     \n",
       "2218  a     \n",
       "2227  None  \n",
       "2235  a     \n",
       "2128  a     "
      ]
     },
     "execution_count": 320,
     "metadata": {},
     "output_type": "execute_result"
    }
   ],
   "source": [
    "# The phrase that seems to be slipping through the cracks is \"named ______.\"\n",
    "# Display dataframe of those tweets\n",
    "nn = archive[(archive['text'].str.contains('named ' + '([A-Z][a-z]+)' + '.'))]\n",
    "nn[['text', 'name']].sample(5)"
   ]
  },
  {
   "cell_type": "code",
   "execution_count": 321,
   "metadata": {
    "scrolled": true
   },
   "outputs": [
    {
     "data": {
      "text/html": [
       "<div>\n",
       "<style scoped>\n",
       "    .dataframe tbody tr th:only-of-type {\n",
       "        vertical-align: middle;\n",
       "    }\n",
       "\n",
       "    .dataframe tbody tr th {\n",
       "        vertical-align: top;\n",
       "    }\n",
       "\n",
       "    .dataframe thead th {\n",
       "        text-align: right;\n",
       "    }\n",
       "</style>\n",
       "<table border=\"1\" class=\"dataframe\">\n",
       "  <thead>\n",
       "    <tr style=\"text-align: right;\">\n",
       "      <th></th>\n",
       "      <th>text</th>\n",
       "      <th>name</th>\n",
       "    </tr>\n",
       "  </thead>\n",
       "  <tbody>\n",
       "    <tr>\n",
       "      <th>1121</th>\n",
       "      <td>We only rate dogs. Pls stop sending non-canines like this Bulgarian Eyeless Porch Bear. This is unacceptable... 9/10 https://t.co/2yctWAUZ3Z</td>\n",
       "      <td>unacceptable</td>\n",
       "    </tr>\n",
       "    <tr>\n",
       "      <th>759</th>\n",
       "      <td>RT @dog_rates: This is an East African Chalupa Seal. We only rate dogs. Please only send in dogs. Thank you... 10/10 https://t.co/iHe6liLwWR</td>\n",
       "      <td>an</td>\n",
       "    </tr>\n",
       "    <tr>\n",
       "      <th>22</th>\n",
       "      <td>I've yet to rate a Venezuelan Hover Wiener. This is such an honor. 14/10 paw-inspiring af (IG: roxy.thedoxy) https://t.co/20VrLAA8ba</td>\n",
       "      <td>such</td>\n",
       "    </tr>\n",
       "    <tr>\n",
       "      <th>2345</th>\n",
       "      <td>This is the happiest dog you will ever see. Very committed owner. Nice couch. 10/10 https://t.co/RhUEAloehK</td>\n",
       "      <td>the</td>\n",
       "    </tr>\n",
       "    <tr>\n",
       "      <th>1049</th>\n",
       "      <td>This is a very rare Great Alaskan Bush Pupper. Hard to stumble upon without spooking. 12/10 would pet passionately https://t.co/xOBKCdpzaa</td>\n",
       "      <td>a</td>\n",
       "    </tr>\n",
       "  </tbody>\n",
       "</table>\n",
       "</div>"
      ],
      "text/plain": [
       "                                                                                                                                              text  \\\n",
       "1121  We only rate dogs. Pls stop sending non-canines like this Bulgarian Eyeless Porch Bear. This is unacceptable... 9/10 https://t.co/2yctWAUZ3Z   \n",
       "759   RT @dog_rates: This is an East African Chalupa Seal. We only rate dogs. Please only send in dogs. Thank you... 10/10 https://t.co/iHe6liLwWR   \n",
       "22    I've yet to rate a Venezuelan Hover Wiener. This is such an honor. 14/10 paw-inspiring af (IG: roxy.thedoxy) https://t.co/20VrLAA8ba           \n",
       "2345  This is the happiest dog you will ever see. Very committed owner. Nice couch. 10/10 https://t.co/RhUEAloehK                                    \n",
       "1049  This is a very rare Great Alaskan Bush Pupper. Hard to stumble upon without spooking. 12/10 would pet passionately https://t.co/xOBKCdpzaa     \n",
       "\n",
       "              name  \n",
       "1121  unacceptable  \n",
       "759   an            \n",
       "22    such          \n",
       "2345  the           \n",
       "1049  a             "
      ]
     },
     "execution_count": 321,
     "metadata": {},
     "output_type": "execute_result"
    }
   ],
   "source": [
    "n_more2 = archive[(archive['name'].isin(wrong_names)) & (~archive.index.isin(nn.index))]\n",
    "n_more2[['text', 'name']].sample(5)"
   ]
  },
  {
   "cell_type": "markdown",
   "metadata": {},
   "source": [
    "**STAGES**"
   ]
  },
  {
   "cell_type": "code",
   "execution_count": 322,
   "metadata": {},
   "outputs": [
    {
     "data": {
      "text/html": [
       "<div>\n",
       "<style scoped>\n",
       "    .dataframe tbody tr th:only-of-type {\n",
       "        vertical-align: middle;\n",
       "    }\n",
       "\n",
       "    .dataframe tbody tr th {\n",
       "        vertical-align: top;\n",
       "    }\n",
       "\n",
       "    .dataframe thead th {\n",
       "        text-align: right;\n",
       "    }\n",
       "</style>\n",
       "<table border=\"1\" class=\"dataframe\">\n",
       "  <thead>\n",
       "    <tr style=\"text-align: right;\">\n",
       "      <th></th>\n",
       "      <th>stage</th>\n",
       "      <th>in_tweet</th>\n",
       "      <th>recognized</th>\n",
       "      <th>errors</th>\n",
       "    </tr>\n",
       "  </thead>\n",
       "  <tbody>\n",
       "    <tr>\n",
       "      <th>0</th>\n",
       "      <td>doggo</td>\n",
       "      <td>98</td>\n",
       "      <td>97</td>\n",
       "      <td>1</td>\n",
       "    </tr>\n",
       "    <tr>\n",
       "      <th>1</th>\n",
       "      <td>floofer</td>\n",
       "      <td>4</td>\n",
       "      <td>10</td>\n",
       "      <td>-6</td>\n",
       "    </tr>\n",
       "    <tr>\n",
       "      <th>2</th>\n",
       "      <td>pupper</td>\n",
       "      <td>272</td>\n",
       "      <td>257</td>\n",
       "      <td>15</td>\n",
       "    </tr>\n",
       "    <tr>\n",
       "      <th>3</th>\n",
       "      <td>puppo</td>\n",
       "      <td>37</td>\n",
       "      <td>30</td>\n",
       "      <td>7</td>\n",
       "    </tr>\n",
       "  </tbody>\n",
       "</table>\n",
       "</div>"
      ],
      "text/plain": [
       "     stage  in_tweet  recognized  errors\n",
       "0  doggo    98        97          1     \n",
       "1  floofer  4         10         -6     \n",
       "2  pupper   272       257         15    \n",
       "3  puppo    37        30          7     "
      ]
     },
     "execution_count": 322,
     "metadata": {},
     "output_type": "execute_result"
    }
   ],
   "source": [
    "# Are the dog stages always recognized correctly from the text? \n",
    "df_cat = {'stage': [], 'in_tweet': [], 'recognized': []}\n",
    "\n",
    "for cat in ['doggo', 'floofer', 'pupper', 'puppo']:\n",
    "    t = archive.text.str.contains(cat).sum()\n",
    "    r = (archive[cat] != 'None').sum()\n",
    "    df_cat['stage'].append(cat)\n",
    "    df_cat['in_tweet'].append(t)\n",
    "    df_cat['recognized'].append(r)\n",
    "    \n",
    "df_cat = pd.DataFrame(data=df_cat)\n",
    "df_cat['errors'] = df_cat['in_tweet'] - df_cat['recognized']\n",
    "df_cat"
   ]
  },
  {
   "cell_type": "code",
   "execution_count": 323,
   "metadata": {},
   "outputs": [],
   "source": [
    "# Are dogs ever classified as more than one type of dog?"
   ]
  },
  {
   "cell_type": "code",
   "execution_count": 324,
   "metadata": {},
   "outputs": [
    {
     "data": {
      "text/plain": [
       "[('doggo', 'floofer'),\n",
       " ('doggo', 'pupper'),\n",
       " ('doggo', 'puppo'),\n",
       " ('floofer', 'pupper'),\n",
       " ('floofer', 'puppo'),\n",
       " ('pupper', 'puppo')]"
      ]
     },
     "execution_count": 324,
     "metadata": {},
     "output_type": "execute_result"
    }
   ],
   "source": [
    "cats = ['doggo', 'floofer', 'pupper', 'puppo']\n",
    "pairs = list(it.combinations(cats, 2))\n",
    "pairs"
   ]
  },
  {
   "cell_type": "code",
   "execution_count": 325,
   "metadata": {
    "scrolled": true
   },
   "outputs": [
    {
     "data": {
      "text/plain": [
       "14"
      ]
     },
     "execution_count": 325,
     "metadata": {},
     "output_type": "execute_result"
    }
   ],
   "source": [
    "# Create list of dataframes with each type of double classifications\n",
    "frames = []\n",
    "for i in range(6):\n",
    "    a = archive[(archive[pairs[i][0]] == pairs[i][0]) & (archive[pairs[i][1]] == pairs[i][1])]\n",
    "    frames.append(a)\n",
    "\n",
    "doubles = pd.concat(frames)\n",
    "len(doubles)"
   ]
  },
  {
   "cell_type": "markdown",
   "metadata": {},
   "source": [
    "<a id='a_preds'></a>\n",
    "### `image_preds` table"
   ]
  },
  {
   "cell_type": "code",
   "execution_count": 326,
   "metadata": {
    "scrolled": true
   },
   "outputs": [
    {
     "data": {
      "text/html": [
       "<div>\n",
       "<style scoped>\n",
       "    .dataframe tbody tr th:only-of-type {\n",
       "        vertical-align: middle;\n",
       "    }\n",
       "\n",
       "    .dataframe tbody tr th {\n",
       "        vertical-align: top;\n",
       "    }\n",
       "\n",
       "    .dataframe thead th {\n",
       "        text-align: right;\n",
       "    }\n",
       "</style>\n",
       "<table border=\"1\" class=\"dataframe\">\n",
       "  <thead>\n",
       "    <tr style=\"text-align: right;\">\n",
       "      <th></th>\n",
       "      <th>tweet_id</th>\n",
       "      <th>jpg_url</th>\n",
       "      <th>img_num</th>\n",
       "      <th>p1</th>\n",
       "      <th>p1_conf</th>\n",
       "      <th>p1_dog</th>\n",
       "      <th>p2</th>\n",
       "      <th>p2_conf</th>\n",
       "      <th>p2_dog</th>\n",
       "      <th>p3</th>\n",
       "      <th>p3_conf</th>\n",
       "      <th>p3_dog</th>\n",
       "    </tr>\n",
       "  </thead>\n",
       "  <tbody>\n",
       "    <tr>\n",
       "      <th>639</th>\n",
       "      <td>681297372102656000</td>\n",
       "      <td>https://pbs.twimg.com/media/CXR0WJ_W8AMd_O8.jpg</td>\n",
       "      <td>1</td>\n",
       "      <td>Lhasa</td>\n",
       "      <td>0.482401</td>\n",
       "      <td>True</td>\n",
       "      <td>Shih-Tzu</td>\n",
       "      <td>0.113672</td>\n",
       "      <td>True</td>\n",
       "      <td>Pomeranian</td>\n",
       "      <td>0.096229</td>\n",
       "      <td>True</td>\n",
       "    </tr>\n",
       "    <tr>\n",
       "      <th>14</th>\n",
       "      <td>666094000022159362</td>\n",
       "      <td>https://pbs.twimg.com/media/CT5w9gUW4AAsBNN.jpg</td>\n",
       "      <td>1</td>\n",
       "      <td>bloodhound</td>\n",
       "      <td>0.195217</td>\n",
       "      <td>True</td>\n",
       "      <td>German_shepherd</td>\n",
       "      <td>0.078260</td>\n",
       "      <td>True</td>\n",
       "      <td>malinois</td>\n",
       "      <td>0.075628</td>\n",
       "      <td>True</td>\n",
       "    </tr>\n",
       "    <tr>\n",
       "      <th>1401</th>\n",
       "      <td>768855141948723200</td>\n",
       "      <td>https://pbs.twimg.com/media/CquFrCKWAAAr32m.jpg</td>\n",
       "      <td>1</td>\n",
       "      <td>chow</td>\n",
       "      <td>0.720219</td>\n",
       "      <td>True</td>\n",
       "      <td>Brabancon_griffon</td>\n",
       "      <td>0.058365</td>\n",
       "      <td>True</td>\n",
       "      <td>Rottweiler</td>\n",
       "      <td>0.055114</td>\n",
       "      <td>True</td>\n",
       "    </tr>\n",
       "    <tr>\n",
       "      <th>184</th>\n",
       "      <td>669354382627049472</td>\n",
       "      <td>https://pbs.twimg.com/media/CUoGQjdXAAAkaz2.jpg</td>\n",
       "      <td>1</td>\n",
       "      <td>Chihuahua</td>\n",
       "      <td>0.973990</td>\n",
       "      <td>True</td>\n",
       "      <td>French_bulldog</td>\n",
       "      <td>0.010832</td>\n",
       "      <td>True</td>\n",
       "      <td>Pekinese</td>\n",
       "      <td>0.002099</td>\n",
       "      <td>True</td>\n",
       "    </tr>\n",
       "    <tr>\n",
       "      <th>2032</th>\n",
       "      <td>883360690899218434</td>\n",
       "      <td>https://pbs.twimg.com/media/DEJT3FeXoAAtwUy.jpg</td>\n",
       "      <td>1</td>\n",
       "      <td>chow</td>\n",
       "      <td>0.987997</td>\n",
       "      <td>True</td>\n",
       "      <td>Tibetan_mastiff</td>\n",
       "      <td>0.007099</td>\n",
       "      <td>True</td>\n",
       "      <td>Newfoundland</td>\n",
       "      <td>0.002140</td>\n",
       "      <td>True</td>\n",
       "    </tr>\n",
       "  </tbody>\n",
       "</table>\n",
       "</div>"
      ],
      "text/plain": [
       "                tweet_id                                          jpg_url  \\\n",
       "639   681297372102656000  https://pbs.twimg.com/media/CXR0WJ_W8AMd_O8.jpg   \n",
       "14    666094000022159362  https://pbs.twimg.com/media/CT5w9gUW4AAsBNN.jpg   \n",
       "1401  768855141948723200  https://pbs.twimg.com/media/CquFrCKWAAAr32m.jpg   \n",
       "184   669354382627049472  https://pbs.twimg.com/media/CUoGQjdXAAAkaz2.jpg   \n",
       "2032  883360690899218434  https://pbs.twimg.com/media/DEJT3FeXoAAtwUy.jpg   \n",
       "\n",
       "      img_num          p1   p1_conf  p1_dog                 p2   p2_conf  \\\n",
       "639   1        Lhasa       0.482401  True    Shih-Tzu           0.113672   \n",
       "14    1        bloodhound  0.195217  True    German_shepherd    0.078260   \n",
       "1401  1        chow        0.720219  True    Brabancon_griffon  0.058365   \n",
       "184   1        Chihuahua   0.973990  True    French_bulldog     0.010832   \n",
       "2032  1        chow        0.987997  True    Tibetan_mastiff    0.007099   \n",
       "\n",
       "      p2_dog            p3   p3_conf  p3_dog  \n",
       "639   True    Pomeranian    0.096229  True    \n",
       "14    True    malinois      0.075628  True    \n",
       "1401  True    Rottweiler    0.055114  True    \n",
       "184   True    Pekinese      0.002099  True    \n",
       "2032  True    Newfoundland  0.002140  True    "
      ]
     },
     "execution_count": 326,
     "metadata": {},
     "output_type": "execute_result"
    }
   ],
   "source": [
    "# Visually assess\n",
    "image_preds.sample(5)"
   ]
  },
  {
   "cell_type": "code",
   "execution_count": 327,
   "metadata": {},
   "outputs": [
    {
     "name": "stdout",
     "output_type": "stream",
     "text": [
      "<class 'pandas.core.frame.DataFrame'>\n",
      "RangeIndex: 2075 entries, 0 to 2074\n",
      "Data columns (total 12 columns):\n",
      "tweet_id    2075 non-null int64\n",
      "jpg_url     2075 non-null object\n",
      "img_num     2075 non-null int64\n",
      "p1          2075 non-null object\n",
      "p1_conf     2075 non-null float64\n",
      "p1_dog      2075 non-null bool\n",
      "p2          2075 non-null object\n",
      "p2_conf     2075 non-null float64\n",
      "p2_dog      2075 non-null bool\n",
      "p3          2075 non-null object\n",
      "p3_conf     2075 non-null float64\n",
      "p3_dog      2075 non-null bool\n",
      "dtypes: bool(3), float64(3), int64(2), object(4)\n",
      "memory usage: 152.1+ KB\n"
     ]
    }
   ],
   "source": [
    "# Is there missing data/are the datatypes appropriate? \n",
    "image_preds.info() "
   ]
  },
  {
   "cell_type": "code",
   "execution_count": 328,
   "metadata": {},
   "outputs": [
    {
     "name": "stdout",
     "output_type": "stream",
     "text": [
      "0\n",
      "0\n",
      "0\n"
     ]
    }
   ],
   "source": [
    "# Check for p-values outside the interval [0,1]\n",
    "p_frames = []\n",
    "cols = ['p1_conf', 'p2_conf', 'p3_conf']\n",
    "for col in cols:\n",
    "    print(len(image_preds[(image_preds[col] < 0) | (image_preds[col] > 1)]))\n"
   ]
  },
  {
   "cell_type": "markdown",
   "metadata": {},
   "source": [
    "<a id='a_api'></a>\n",
    "### `api_data` table"
   ]
  },
  {
   "cell_type": "code",
   "execution_count": 329,
   "metadata": {
    "scrolled": true
   },
   "outputs": [
    {
     "data": {
      "text/html": [
       "<div>\n",
       "<style scoped>\n",
       "    .dataframe tbody tr th:only-of-type {\n",
       "        vertical-align: middle;\n",
       "    }\n",
       "\n",
       "    .dataframe tbody tr th {\n",
       "        vertical-align: top;\n",
       "    }\n",
       "\n",
       "    .dataframe thead th {\n",
       "        text-align: right;\n",
       "    }\n",
       "</style>\n",
       "<table border=\"1\" class=\"dataframe\">\n",
       "  <thead>\n",
       "    <tr style=\"text-align: right;\">\n",
       "      <th></th>\n",
       "      <th>tweet_id</th>\n",
       "      <th>retweet_count</th>\n",
       "      <th>favorite_count</th>\n",
       "      <th>tweet_length</th>\n",
       "    </tr>\n",
       "  </thead>\n",
       "  <tbody>\n",
       "    <tr>\n",
       "      <th>1396</th>\n",
       "      <td>698953797952008193</td>\n",
       "      <td>956</td>\n",
       "      <td>2811</td>\n",
       "      <td>140</td>\n",
       "    </tr>\n",
       "    <tr>\n",
       "      <th>102</th>\n",
       "      <td>871879754684805121</td>\n",
       "      <td>10957</td>\n",
       "      <td>37221</td>\n",
       "      <td>136</td>\n",
       "    </tr>\n",
       "    <tr>\n",
       "      <th>222</th>\n",
       "      <td>848212111729840128</td>\n",
       "      <td>3205</td>\n",
       "      <td>16779</td>\n",
       "      <td>138</td>\n",
       "    </tr>\n",
       "    <tr>\n",
       "      <th>1495</th>\n",
       "      <td>691416866452082688</td>\n",
       "      <td>8088</td>\n",
       "      <td>20116</td>\n",
       "      <td>107</td>\n",
       "    </tr>\n",
       "    <tr>\n",
       "      <th>1086</th>\n",
       "      <td>735274964362878976</td>\n",
       "      <td>5361</td>\n",
       "      <td>13517</td>\n",
       "      <td>116</td>\n",
       "    </tr>\n",
       "  </tbody>\n",
       "</table>\n",
       "</div>"
      ],
      "text/plain": [
       "                tweet_id retweet_count favorite_count tweet_length\n",
       "1396  698953797952008193  956           2811           140        \n",
       "102   871879754684805121  10957         37221          136        \n",
       "222   848212111729840128  3205          16779          138        \n",
       "1495  691416866452082688  8088          20116          107        \n",
       "1086  735274964362878976  5361          13517          116        "
      ]
     },
     "execution_count": 329,
     "metadata": {},
     "output_type": "execute_result"
    }
   ],
   "source": [
    "# Visually assess\n",
    "api_data.sample(5)"
   ]
  },
  {
   "cell_type": "code",
   "execution_count": 330,
   "metadata": {},
   "outputs": [
    {
     "name": "stdout",
     "output_type": "stream",
     "text": [
      "<class 'pandas.core.frame.DataFrame'>\n",
      "RangeIndex: 2339 entries, 0 to 2338\n",
      "Data columns (total 4 columns):\n",
      "tweet_id          2339 non-null object\n",
      "retweet_count     2339 non-null object\n",
      "favorite_count    2339 non-null object\n",
      "tweet_length      2339 non-null object\n",
      "dtypes: object(4)\n",
      "memory usage: 73.2+ KB\n"
     ]
    }
   ],
   "source": [
    "# Is there missing data/are the datatypes appropriate? \n",
    "api_data.info()"
   ]
  },
  {
   "cell_type": "code",
   "execution_count": 331,
   "metadata": {},
   "outputs": [
    {
     "data": {
      "text/plain": [
       "17"
      ]
     },
     "execution_count": 331,
     "metadata": {},
     "output_type": "execute_result"
    }
   ],
   "source": [
    "# How many tweets are missing api_data?\n",
    "len(archive) - len(api_data)"
   ]
  },
  {
   "cell_type": "markdown",
   "metadata": {},
   "source": [
    "### Assessment Summary:\n",
    "\n",
    "#### Quality\n",
    "##### `archive` \n",
    "- ~~78 retweets/replies included in dataset~~\n",
    "- Some expanded_urls are missing **(not addressing)**\n",
    "- ~~Tweet text contains url~~\n",
    "- ~~Erroneous datatypes: tweet_id, in_reply_to_status_id, in_reply_to_user_id, timestamp, retweeted_status_id, retweeted_status_user_id, retweeted_status_timestamp, and all dog stage columns~~\n",
    "- ~~Missing names & incorrect name recognitions~~\n",
    "- Some tweets are about two dogs second name of dog missing **(not addressing)**\n",
    "- ~~Missing classifications for `doggo`, `floofer`, `pupper`, or `puppo`~~\n",
    "- ~~Presence of more than one dog category in tweet~~\n",
    "- ~~Series for \"We only rate dogs\" reprimand unavailable~~\n",
    "\n",
    "##### `image_preds` \n",
    "- ~~Many predictions are lowercase and contain underscores~~\n",
    "- ~~There are fewer image_preds entries than there are tweets in the archive (perhaps a result of retweets, perhaps not)~~\n",
    "- ~~Erroneous datatype (tweet_id is integer, not string)~~\n",
    "\n",
    "##### `api_data` \n",
    "- ~~Erroneous datatype (tweet_id is integer, not string)~~\n",
    "- ~~There are 17 fewer entries in api_data than there are in archive~~\n",
    "\n",
    "#### Tidiness\n",
    "##### `archive` \n",
    "- ~~doggo, floofer, pupper, puppo violate \"Multiple columns shouldn't contain the same type of data\"~~\n",
    "\n",
    "##### `image_preds` \n",
    "- ~~p1, p2, p3, p1_conf, p2_conf, p3_conf, p1_dog, p2_dog, p3_dog violate \"Multiple columns shouldn't contain the same type of data\"~~\n",
    "\n",
    "##### `api_data` \n",
    "- ~~This dataset is separate from the rest of the data~~\n",
    "\n",
    "\n"
   ]
  },
  {
   "cell_type": "markdown",
   "metadata": {},
   "source": [
    "<a id='clean'></a>\n",
    "# Clean"
   ]
  },
  {
   "cell_type": "markdown",
   "metadata": {
    "collapsed": true,
    "scrolled": true
   },
   "source": [
    "#### Data Inclusion Criteria\n",
    "From Udacity - Exclude retweets and tweets without corresponding image predictions from analysis. "
   ]
  },
  {
   "cell_type": "code",
   "execution_count": 332,
   "metadata": {},
   "outputs": [],
   "source": [
    "# Make copies of the three datasets\n",
    "arch_clean = archive.copy()\n",
    "preds_clean = image_preds.copy()\n",
    "api_clean = api_data.copy()"
   ]
  },
  {
   "cell_type": "markdown",
   "metadata": {},
   "source": [
    "<a id='missing'></a>\n",
    "## 1) Missing Data\n",
    "1. Some expanded_urls are missing **(not addressing)**\n",
    "2. Missing classifications for `doggo`, `floofer`, `pupper`, or `puppo`\n",
    "3. Presence of more than one dog stage in tweet\n",
    "4. Missing names & incorrect name recognitions\n",
    "5. Some tweets are about two or more dogs, extra names missing **(not addressing)**"
   ]
  },
  {
   "cell_type": "markdown",
   "metadata": {},
   "source": [
    "### `archive`: Missing classifications for `doggo`, `floofer`, `pupper`, or `puppo`\n",
    "I will also address the issue: Presence of more than one dog stage in tweet\n"
   ]
  },
  {
   "cell_type": "markdown",
   "metadata": {},
   "source": [
    "##### Define\n",
    "Create list to hold accurate stages, then append identified stages to list using for loop to iterate through rows. The tweets containing more than one stage will read as \"multi.\""
   ]
  },
  {
   "cell_type": "markdown",
   "metadata": {},
   "source": [
    "##### Code"
   ]
  },
  {
   "cell_type": "code",
   "execution_count": 333,
   "metadata": {},
   "outputs": [
    {
     "data": {
      "text/plain": [
       "['doggo', 'floofer', 'pupper', 'puppo']"
      ]
     },
     "execution_count": 333,
     "metadata": {},
     "output_type": "execute_result"
    }
   ],
   "source": [
    "cats"
   ]
  },
  {
   "cell_type": "code",
   "execution_count": 334,
   "metadata": {},
   "outputs": [],
   "source": [
    "# Create empty list for final stages\n",
    "stage_list = []\n",
    "\n",
    "# For loop to fill above list\n",
    "for row in arch_clean['text']:\n",
    "    # List for each row, will fill with all instances of category\n",
    "    new_row = []\n",
    "    for cat in cats:\n",
    "        if cat in row:\n",
    "            new_row.append(cat)\n",
    "    if len(new_row) > 1:\n",
    "        new_row = 'multi'\n",
    "    elif not new_row:\n",
    "        new_row = np.NaN\n",
    "    else: \n",
    "        new_row = new_row[0]\n",
    "\n",
    "    stage_list.append(new_row)\n",
    "\n",
    "# Add dog_stage series to dataframe from stage_list\n",
    "arch_clean['dog_stage'] = stage_list"
   ]
  },
  {
   "cell_type": "markdown",
   "metadata": {},
   "source": [
    "##### Test"
   ]
  },
  {
   "cell_type": "code",
   "execution_count": 335,
   "metadata": {},
   "outputs": [
    {
     "data": {
      "text/html": [
       "<div>\n",
       "<style scoped>\n",
       "    .dataframe tbody tr th:only-of-type {\n",
       "        vertical-align: middle;\n",
       "    }\n",
       "\n",
       "    .dataframe tbody tr th {\n",
       "        vertical-align: top;\n",
       "    }\n",
       "\n",
       "    .dataframe thead th {\n",
       "        text-align: right;\n",
       "    }\n",
       "</style>\n",
       "<table border=\"1\" class=\"dataframe\">\n",
       "  <thead>\n",
       "    <tr style=\"text-align: right;\">\n",
       "      <th></th>\n",
       "      <th>text</th>\n",
       "      <th>dog_stage</th>\n",
       "    </tr>\n",
       "  </thead>\n",
       "  <tbody>\n",
       "    <tr>\n",
       "      <th>1665</th>\n",
       "      <td>Meet Taco. He's a speckled Garnier Fructis. Loves to shadow box. Ears out of control. Friend clearly impressed 9/10 https://t.co/85X1GHohFr</td>\n",
       "      <td>NaN</td>\n",
       "    </tr>\n",
       "    <tr>\n",
       "      <th>198</th>\n",
       "      <td>This is Einstein. He's having a really good day. Hopes you are too. H*ckin nifty tongue. 13/10 would snug intensely https://t.co/mdaQhhfpv6</td>\n",
       "      <td>NaN</td>\n",
       "    </tr>\n",
       "    <tr>\n",
       "      <th>1868</th>\n",
       "      <td>This is Arnold. He broke his leg saving a handicapped child from a forest fire. True hero. 10/10 inspirational dog https://t.co/bijCeHeX4C</td>\n",
       "      <td>NaN</td>\n",
       "    </tr>\n",
       "    <tr>\n",
       "      <th>1581</th>\n",
       "      <td>Say hello to Samson. He's a Firecracker Häagen-Dazs. 11/10 objects in mirror may be more petable than they appear https://t.co/03vR9dn7jy</td>\n",
       "      <td>NaN</td>\n",
       "    </tr>\n",
       "    <tr>\n",
       "      <th>2015</th>\n",
       "      <td>This is Opal. He's a Royal John Coctostan. Ready for transport. Basically indestructible. 9/10 good pupper https://t.co/yRBQF9OS7D</td>\n",
       "      <td>pupper</td>\n",
       "    </tr>\n",
       "    <tr>\n",
       "      <th>2335</th>\n",
       "      <td>This is an Albanian 3 1/2 legged  Episcopalian. Loves well-polished hardwood flooring. Penis on the collar. 9/10 https://t.co/d9NcXFKwLv</td>\n",
       "      <td>NaN</td>\n",
       "    </tr>\n",
       "    <tr>\n",
       "      <th>238</th>\n",
       "      <td>Unbelievable... We. Only. Rate. Dogs. Please stop sending in other things like this Blossoming Flop Kangaroo. Thank you... 11/10 https://t.co/EeeErAbso0</td>\n",
       "      <td>NaN</td>\n",
       "    </tr>\n",
       "    <tr>\n",
       "      <th>1865</th>\n",
       "      <td>Everyone needs to watch this. 13/10 https://t.co/Bb3xnpsWBC</td>\n",
       "      <td>NaN</td>\n",
       "    </tr>\n",
       "    <tr>\n",
       "      <th>103</th>\n",
       "      <td>We. Only. Rate. Dogs. Do not send in other things like this fluffy floor shark clearly ready to attack. Get it together guys... 12/10 https://t.co/BZHiKx3FpQ</td>\n",
       "      <td>NaN</td>\n",
       "    </tr>\n",
       "    <tr>\n",
       "      <th>284</th>\n",
       "      <td>This is Arlo. He's officially the king of snowy tongue slips. 13/10 would comfort during inevitable brain freeze https://t.co/oXVu9pNZZv</td>\n",
       "      <td>NaN</td>\n",
       "    </tr>\n",
       "  </tbody>\n",
       "</table>\n",
       "</div>"
      ],
      "text/plain": [
       "                                                                                                                                                               text  \\\n",
       "1665  Meet Taco. He's a speckled Garnier Fructis. Loves to shadow box. Ears out of control. Friend clearly impressed 9/10 https://t.co/85X1GHohFr                     \n",
       "198   This is Einstein. He's having a really good day. Hopes you are too. H*ckin nifty tongue. 13/10 would snug intensely https://t.co/mdaQhhfpv6                     \n",
       "1868  This is Arnold. He broke his leg saving a handicapped child from a forest fire. True hero. 10/10 inspirational dog https://t.co/bijCeHeX4C                      \n",
       "1581  Say hello to Samson. He's a Firecracker Häagen-Dazs. 11/10 objects in mirror may be more petable than they appear https://t.co/03vR9dn7jy                       \n",
       "2015  This is Opal. He's a Royal John Coctostan. Ready for transport. Basically indestructible. 9/10 good pupper https://t.co/yRBQF9OS7D                              \n",
       "2335  This is an Albanian 3 1/2 legged  Episcopalian. Loves well-polished hardwood flooring. Penis on the collar. 9/10 https://t.co/d9NcXFKwLv                        \n",
       "238   Unbelievable... We. Only. Rate. Dogs. Please stop sending in other things like this Blossoming Flop Kangaroo. Thank you... 11/10 https://t.co/EeeErAbso0        \n",
       "1865  Everyone needs to watch this. 13/10 https://t.co/Bb3xnpsWBC                                                                                                     \n",
       "103   We. Only. Rate. Dogs. Do not send in other things like this fluffy floor shark clearly ready to attack. Get it together guys... 12/10 https://t.co/BZHiKx3FpQ   \n",
       "284   This is Arlo. He's officially the king of snowy tongue slips. 13/10 would comfort during inevitable brain freeze https://t.co/oXVu9pNZZv                        \n",
       "\n",
       "     dog_stage  \n",
       "1665  NaN       \n",
       "198   NaN       \n",
       "1868  NaN       \n",
       "1581  NaN       \n",
       "2015  pupper    \n",
       "2335  NaN       \n",
       "238   NaN       \n",
       "1865  NaN       \n",
       "103   NaN       \n",
       "284   NaN       "
      ]
     },
     "execution_count": 335,
     "metadata": {},
     "output_type": "execute_result"
    }
   ],
   "source": [
    "arch_clean[['text', 'dog_stage']].sample(10)"
   ]
  },
  {
   "cell_type": "markdown",
   "metadata": {},
   "source": [
    "### `archive`: Missing names & incorrect name recognitions\n",
    "I will not be addressing the tweets with more than one dog. For another project/challenge. \n",
    "\n",
    "Things to keep in mind when planning resolution of issue:\n",
    "- Some names are presented in the context, \"...named ______.\"\n",
    "- All observations of names are capitalized.\n",
    "- The set of tweets containing \"This is _name_,\" \"Meet _name_,\" \"Say hello to _name_,\" and \"Here is _name_,\" and the set of tweets with names in `wrong_names` are mutually exclusive.\n"
   ]
  },
  {
   "cell_type": "markdown",
   "metadata": {},
   "source": [
    "##### Define\n",
    "Write function which accepts `text` and returns correct name. Function will use regular expressions to extract dog name from all tweets containing the regular expression \"...named _name_.\" Replace all names in `wrong_names` with NaN. "
   ]
  },
  {
   "cell_type": "markdown",
   "metadata": {},
   "source": [
    "##### Code"
   ]
  },
  {
   "cell_type": "code",
   "execution_count": 336,
   "metadata": {},
   "outputs": [],
   "source": [
    "# Function accepts a series, returns name from tweets with \"...named ___.\" \n",
    "def named_fix(tweety):\n",
    "    # Get row index of particular tweet\n",
    "    unique_index = pd.Index(arch_clean.text)\n",
    "    ind = unique_index.get_loc(tweety)\n",
    "    # Return extracted name if \"named __\" in tweet\n",
    "    if 'named ' in tweety:\n",
    "        m = re.search('(?<=named\\s)(\\w+)', tweety)\n",
    "        new_name = m.group(0)\n",
    "        return new_name\n",
    "    # Return original name if \"named ___\" not in tweet\n",
    "    else:\n",
    "        return arch_clean.name.iloc[ind]"
   ]
  },
  {
   "cell_type": "code",
   "execution_count": 337,
   "metadata": {},
   "outputs": [],
   "source": [
    "# Apply named_fix to arch_clean.text to repopulate arch_clean.name\n",
    "arch_clean.name = arch_clean.text.apply(named_fix)"
   ]
  },
  {
   "cell_type": "code",
   "execution_count": 338,
   "metadata": {},
   "outputs": [],
   "source": [
    "# Function accepts a series, returns np.NaN if value member of keys in wrong_names\n",
    "def wrong_names_fix(n):\n",
    "    # If the name is member of wrong_names key or entered as None, return NaN\n",
    "    if n in wrong_names or n == 'None':\n",
    "        newy = np.NaN\n",
    "        return newy\n",
    "    # If name is not member of wrong_names key, return input unchanged\n",
    "    else:\n",
    "        return n"
   ]
  },
  {
   "cell_type": "code",
   "execution_count": 339,
   "metadata": {},
   "outputs": [],
   "source": [
    "arch_clean.name = arch_clean.name.apply(wrong_names_fix)"
   ]
  },
  {
   "cell_type": "markdown",
   "metadata": {},
   "source": [
    "##### Test"
   ]
  },
  {
   "cell_type": "code",
   "execution_count": 340,
   "metadata": {
    "scrolled": true
   },
   "outputs": [
    {
     "data": {
      "text/html": [
       "<div>\n",
       "<style scoped>\n",
       "    .dataframe tbody tr th:only-of-type {\n",
       "        vertical-align: middle;\n",
       "    }\n",
       "\n",
       "    .dataframe tbody tr th {\n",
       "        vertical-align: top;\n",
       "    }\n",
       "\n",
       "    .dataframe thead th {\n",
       "        text-align: right;\n",
       "    }\n",
       "</style>\n",
       "<table border=\"1\" class=\"dataframe\">\n",
       "  <thead>\n",
       "    <tr style=\"text-align: right;\">\n",
       "      <th></th>\n",
       "      <th>text</th>\n",
       "      <th>name</th>\n",
       "    </tr>\n",
       "  </thead>\n",
       "  <tbody>\n",
       "    <tr>\n",
       "      <th>603</th>\n",
       "      <td>RT @dog_rates: This a Norwegian Pewterschmidt named Tickles. Ears for days. 12/10 I care deeply for Tickles https://t.co/0aDF62KVP7</td>\n",
       "      <td>Tickles</td>\n",
       "    </tr>\n",
       "    <tr>\n",
       "      <th>1853</th>\n",
       "      <td>This is a Sizzlin Menorah spaniel from Brooklyn named Wylie. Lovable eyes. Chiller as hell. 10/10 and I'm out.. poof https://t.co/7E0AiJXPmI</td>\n",
       "      <td>Wylie</td>\n",
       "    </tr>\n",
       "    <tr>\n",
       "      <th>1955</th>\n",
       "      <td>This is a Lofted Aphrodisiac Terrier named Kip. Big fan of bed n breakfasts. Fits perfectly. 10/10 would pet firmly https://t.co/gKlLpNzIl3</td>\n",
       "      <td>Kip</td>\n",
       "    </tr>\n",
       "    <tr>\n",
       "      <th>2034</th>\n",
       "      <td>This is a Tuscaloosa Alcatraz named Jacob (Yacōb). Loves to sit in swing. Stellar tongue. 11/10 look at his feet https://t.co/2IslQ8ZSc7</td>\n",
       "      <td>Jacob</td>\n",
       "    </tr>\n",
       "    <tr>\n",
       "      <th>2066</th>\n",
       "      <td>This is a Helvetica Listerine named Rufus. This time Rufus will be ready for the UPS guy. He'll never expect it 9/10 https://t.co/34OhVhMkVr</td>\n",
       "      <td>Rufus</td>\n",
       "    </tr>\n",
       "    <tr>\n",
       "      <th>2116</th>\n",
       "      <td>This is a Deciduous Trimester mix named Spork. Only 1 ear works. No seat belt. Incredibly reckless. 9/10 still cute https://t.co/CtuJoLHiDo</td>\n",
       "      <td>Spork</td>\n",
       "    </tr>\n",
       "    <tr>\n",
       "      <th>2125</th>\n",
       "      <td>This is a Rich Mahogany Seltzer named Cherokee. Just got destroyed by a snowball. Isn't very happy about it. 9/10 https://t.co/98ZBi6o4dj</td>\n",
       "      <td>Cherokee</td>\n",
       "    </tr>\n",
       "    <tr>\n",
       "      <th>2128</th>\n",
       "      <td>This is a Speckled Cauliflower Yosemite named Hemry. He's terrified of intruder dog. Not one bit comfortable. 9/10 https://t.co/yV3Qgjh8iN</td>\n",
       "      <td>Hemry</td>\n",
       "    </tr>\n",
       "    <tr>\n",
       "      <th>2146</th>\n",
       "      <td>This is a spotted Lipitor Rumpelstiltskin named Alphred. He can't wait for the Turkey. 10/10 would pet really well https://t.co/6GUGO7azNX</td>\n",
       "      <td>Alphred</td>\n",
       "    </tr>\n",
       "    <tr>\n",
       "      <th>2161</th>\n",
       "      <td>This is a Coriander Baton Rouge named Alfredo. Loves to cuddle with smaller well-dressed dog. 10/10 would hug lots https://t.co/eCRdwouKCl</td>\n",
       "      <td>Alfredo</td>\n",
       "    </tr>\n",
       "    <tr>\n",
       "      <th>2166</th>\n",
       "      <td>Here we have a Gingivitis Pumpernickel named Zeus. Unmatched tennis ball capacity. 10/10 would highly recommend https://t.co/jPkd7hhX7m</td>\n",
       "      <td>Zeus</td>\n",
       "    </tr>\n",
       "    <tr>\n",
       "      <th>2191</th>\n",
       "      <td>This is a Slovakian Helter Skelter Feta named Leroi. Likes to skip on roofs. Good traction. Much balance. 10/10 wow! https://t.co/Dmy2mY2Qj5</td>\n",
       "      <td>Leroi</td>\n",
       "    </tr>\n",
       "    <tr>\n",
       "      <th>2204</th>\n",
       "      <td>This is an Irish Rigatoni terrier named Berta. Completely made of rope. No eyes. Quite large. Loves to dance. 10/10 https://t.co/EM5fDykrJg</td>\n",
       "      <td>Berta</td>\n",
       "    </tr>\n",
       "    <tr>\n",
       "      <th>2218</th>\n",
       "      <td>This is a Birmingham Quagmire named Chuk. Loves to relax and watch the game while sippin on that iced mocha. 10/10 https://t.co/HvNg9JWxFt</td>\n",
       "      <td>Chuk</td>\n",
       "    </tr>\n",
       "    <tr>\n",
       "      <th>2227</th>\n",
       "      <td>Here we have an Azerbaijani Buttermilk named Guss. He sees a demon baby Hitler behind his owner. 10/10 stays alert https://t.co/aeZykWwiJN</td>\n",
       "      <td>Guss</td>\n",
       "    </tr>\n",
       "    <tr>\n",
       "      <th>2235</th>\n",
       "      <td>This is a Trans Siberian Kellogg named Alfonso. Huge ass eyeballs. Actually Dobby from Harry Potter. 7/10 https://t.co/XpseHBlAAb</td>\n",
       "      <td>Alfonso</td>\n",
       "    </tr>\n",
       "    <tr>\n",
       "      <th>2249</th>\n",
       "      <td>This is a Shotokon Macadamia mix named Cheryl. Sophisticated af. Looks like a disappointed librarian. Shh (lol) 9/10 https://t.co/J4GnJ5Swba</td>\n",
       "      <td>Cheryl</td>\n",
       "    </tr>\n",
       "    <tr>\n",
       "      <th>2255</th>\n",
       "      <td>This is a rare Hungarian Pinot named Jessiga. She is either mid-stroke or got stuck in the washing machine. 8/10 https://t.co/ZU0i0KJyqD</td>\n",
       "      <td>Jessiga</td>\n",
       "    </tr>\n",
       "    <tr>\n",
       "      <th>2264</th>\n",
       "      <td>This is a southwest Coriander named Klint. Hat looks expensive. Still on house arrest :(\\n9/10 https://t.co/IQTOMqDUIe</td>\n",
       "      <td>Klint</td>\n",
       "    </tr>\n",
       "    <tr>\n",
       "      <th>2269</th>\n",
       "      <td>This a Norwegian Pewterschmidt named Tickles. Ears for days. 12/10 I care deeply for Tickles https://t.co/0aDF62KVP7</td>\n",
       "      <td>Tickles</td>\n",
       "    </tr>\n",
       "    <tr>\n",
       "      <th>2273</th>\n",
       "      <td>This is a northern Wahoo named Kohl. He runs this town. Chases tumbleweeds. Draws gun wicked fast. 11/10 legendary https://t.co/J4vn2rOYFk</td>\n",
       "      <td>Kohl</td>\n",
       "    </tr>\n",
       "    <tr>\n",
       "      <th>2304</th>\n",
       "      <td>This is a curly Ticonderoga named Pepe. No feet. Loves to jet ski. 11/10 would hug until forever https://t.co/cyDfaK8NBc</td>\n",
       "      <td>Pepe</td>\n",
       "    </tr>\n",
       "    <tr>\n",
       "      <th>2311</th>\n",
       "      <td>This is a purebred Bacardi named Octaviath. Can shoot spaghetti out of mouth. 10/10 https://t.co/uEvsGLOFHa</td>\n",
       "      <td>Octaviath</td>\n",
       "    </tr>\n",
       "    <tr>\n",
       "      <th>2314</th>\n",
       "      <td>This is a golden Buckminsterfullerene named Johm. Drives trucks. Lumberjack (?). Enjoys wall. 8/10 would hug softly https://t.co/uQbZJM2DQB</td>\n",
       "      <td>Johm</td>\n",
       "    </tr>\n",
       "  </tbody>\n",
       "</table>\n",
       "</div>"
      ],
      "text/plain": [
       "                                                                                                                                              text  \\\n",
       "603   RT @dog_rates: This a Norwegian Pewterschmidt named Tickles. Ears for days. 12/10 I care deeply for Tickles https://t.co/0aDF62KVP7            \n",
       "1853  This is a Sizzlin Menorah spaniel from Brooklyn named Wylie. Lovable eyes. Chiller as hell. 10/10 and I'm out.. poof https://t.co/7E0AiJXPmI   \n",
       "1955  This is a Lofted Aphrodisiac Terrier named Kip. Big fan of bed n breakfasts. Fits perfectly. 10/10 would pet firmly https://t.co/gKlLpNzIl3    \n",
       "2034  This is a Tuscaloosa Alcatraz named Jacob (Yacōb). Loves to sit in swing. Stellar tongue. 11/10 look at his feet https://t.co/2IslQ8ZSc7       \n",
       "2066  This is a Helvetica Listerine named Rufus. This time Rufus will be ready for the UPS guy. He'll never expect it 9/10 https://t.co/34OhVhMkVr   \n",
       "2116  This is a Deciduous Trimester mix named Spork. Only 1 ear works. No seat belt. Incredibly reckless. 9/10 still cute https://t.co/CtuJoLHiDo    \n",
       "2125  This is a Rich Mahogany Seltzer named Cherokee. Just got destroyed by a snowball. Isn't very happy about it. 9/10 https://t.co/98ZBi6o4dj      \n",
       "2128  This is a Speckled Cauliflower Yosemite named Hemry. He's terrified of intruder dog. Not one bit comfortable. 9/10 https://t.co/yV3Qgjh8iN     \n",
       "2146  This is a spotted Lipitor Rumpelstiltskin named Alphred. He can't wait for the Turkey. 10/10 would pet really well https://t.co/6GUGO7azNX     \n",
       "2161  This is a Coriander Baton Rouge named Alfredo. Loves to cuddle with smaller well-dressed dog. 10/10 would hug lots https://t.co/eCRdwouKCl     \n",
       "2166  Here we have a Gingivitis Pumpernickel named Zeus. Unmatched tennis ball capacity. 10/10 would highly recommend https://t.co/jPkd7hhX7m        \n",
       "2191  This is a Slovakian Helter Skelter Feta named Leroi. Likes to skip on roofs. Good traction. Much balance. 10/10 wow! https://t.co/Dmy2mY2Qj5   \n",
       "2204  This is an Irish Rigatoni terrier named Berta. Completely made of rope. No eyes. Quite large. Loves to dance. 10/10 https://t.co/EM5fDykrJg    \n",
       "2218  This is a Birmingham Quagmire named Chuk. Loves to relax and watch the game while sippin on that iced mocha. 10/10 https://t.co/HvNg9JWxFt     \n",
       "2227  Here we have an Azerbaijani Buttermilk named Guss. He sees a demon baby Hitler behind his owner. 10/10 stays alert https://t.co/aeZykWwiJN     \n",
       "2235  This is a Trans Siberian Kellogg named Alfonso. Huge ass eyeballs. Actually Dobby from Harry Potter. 7/10 https://t.co/XpseHBlAAb              \n",
       "2249  This is a Shotokon Macadamia mix named Cheryl. Sophisticated af. Looks like a disappointed librarian. Shh (lol) 9/10 https://t.co/J4GnJ5Swba   \n",
       "2255  This is a rare Hungarian Pinot named Jessiga. She is either mid-stroke or got stuck in the washing machine. 8/10 https://t.co/ZU0i0KJyqD       \n",
       "2264  This is a southwest Coriander named Klint. Hat looks expensive. Still on house arrest :(\\n9/10 https://t.co/IQTOMqDUIe                         \n",
       "2269  This a Norwegian Pewterschmidt named Tickles. Ears for days. 12/10 I care deeply for Tickles https://t.co/0aDF62KVP7                           \n",
       "2273  This is a northern Wahoo named Kohl. He runs this town. Chases tumbleweeds. Draws gun wicked fast. 11/10 legendary https://t.co/J4vn2rOYFk     \n",
       "2304  This is a curly Ticonderoga named Pepe. No feet. Loves to jet ski. 11/10 would hug until forever https://t.co/cyDfaK8NBc                       \n",
       "2311  This is a purebred Bacardi named Octaviath. Can shoot spaghetti out of mouth. 10/10 https://t.co/uEvsGLOFHa                                    \n",
       "2314  This is a golden Buckminsterfullerene named Johm. Drives trucks. Lumberjack (?). Enjoys wall. 8/10 would hug softly https://t.co/uQbZJM2DQB    \n",
       "\n",
       "           name  \n",
       "603   Tickles    \n",
       "1853  Wylie      \n",
       "1955  Kip        \n",
       "2034  Jacob      \n",
       "2066  Rufus      \n",
       "2116  Spork      \n",
       "2125  Cherokee   \n",
       "2128  Hemry      \n",
       "2146  Alphred    \n",
       "2161  Alfredo    \n",
       "2166  Zeus       \n",
       "2191  Leroi      \n",
       "2204  Berta      \n",
       "2218  Chuk       \n",
       "2227  Guss       \n",
       "2235  Alfonso    \n",
       "2249  Cheryl     \n",
       "2255  Jessiga    \n",
       "2264  Klint      \n",
       "2269  Tickles    \n",
       "2273  Kohl       \n",
       "2304  Pepe       \n",
       "2311  Octaviath  \n",
       "2314  Johm       "
      ]
     },
     "execution_count": 340,
     "metadata": {},
     "output_type": "execute_result"
    }
   ],
   "source": [
    "# Check to see if all \"...named ____\" instances are caught and corrected\n",
    "named_check = arch_clean[(arch_clean['text'].str.contains('named '))]\n",
    "named_check[['text', 'name']]"
   ]
  },
  {
   "cell_type": "code",
   "execution_count": 341,
   "metadata": {},
   "outputs": [
    {
     "data": {
      "text/html": [
       "<div>\n",
       "<style scoped>\n",
       "    .dataframe tbody tr th:only-of-type {\n",
       "        vertical-align: middle;\n",
       "    }\n",
       "\n",
       "    .dataframe tbody tr th {\n",
       "        vertical-align: top;\n",
       "    }\n",
       "\n",
       "    .dataframe thead th {\n",
       "        text-align: right;\n",
       "    }\n",
       "</style>\n",
       "<table border=\"1\" class=\"dataframe\">\n",
       "  <thead>\n",
       "    <tr style=\"text-align: right;\">\n",
       "      <th></th>\n",
       "      <th>text</th>\n",
       "      <th>name</th>\n",
       "    </tr>\n",
       "  </thead>\n",
       "  <tbody>\n",
       "  </tbody>\n",
       "</table>\n",
       "</div>"
      ],
      "text/plain": [
       "Empty DataFrame\n",
       "Columns: [text, name]\n",
       "Index: []"
      ]
     },
     "execution_count": 341,
     "metadata": {},
     "output_type": "execute_result"
    }
   ],
   "source": [
    "# Check to see if all wrong names have been replaced by np.NaN \n",
    "wn_check = arch_clean[arch_clean['name'].isin(wrong_names)]\n",
    "wn_check[['text', 'name']]"
   ]
  },
  {
   "cell_type": "code",
   "execution_count": 342,
   "metadata": {
    "scrolled": true
   },
   "outputs": [
    {
     "data": {
      "text/html": [
       "<div>\n",
       "<style scoped>\n",
       "    .dataframe tbody tr th:only-of-type {\n",
       "        vertical-align: middle;\n",
       "    }\n",
       "\n",
       "    .dataframe tbody tr th {\n",
       "        vertical-align: top;\n",
       "    }\n",
       "\n",
       "    .dataframe thead th {\n",
       "        text-align: right;\n",
       "    }\n",
       "</style>\n",
       "<table border=\"1\" class=\"dataframe\">\n",
       "  <thead>\n",
       "    <tr style=\"text-align: right;\">\n",
       "      <th></th>\n",
       "      <th>text</th>\n",
       "      <th>name</th>\n",
       "    </tr>\n",
       "  </thead>\n",
       "  <tbody>\n",
       "    <tr>\n",
       "      <th>285</th>\n",
       "      <td>RT @KibaDva: I collected all the good dogs!! 15/10 @dog_rates #GoodDogs https://t.co/6UCGFczlOI</td>\n",
       "      <td>NaN</td>\n",
       "    </tr>\n",
       "    <tr>\n",
       "      <th>411</th>\n",
       "      <td>RT @dog_rates: We only rate dogs. Please don't send pics of men capturing low level clouds. Thank you... 11/10 https://t.co/rLi83ZyCL5</td>\n",
       "      <td>NaN</td>\n",
       "    </tr>\n",
       "    <tr>\n",
       "      <th>2258</th>\n",
       "      <td>What a dog to start the day with. Very calm. Likes to chill by pond. Corkscrews sticking out of head. Obedient. 7/10 https://t.co/0nIxPTDWAZ</td>\n",
       "      <td>NaN</td>\n",
       "    </tr>\n",
       "    <tr>\n",
       "      <th>2010</th>\n",
       "      <td>10/10 for dog. 7/10 for cat. 12/10 for human. Much skill. Would pet all https://t.co/uhx5gfpx5k</td>\n",
       "      <td>NaN</td>\n",
       "    </tr>\n",
       "    <tr>\n",
       "      <th>1893</th>\n",
       "      <td>Everyone please just appreciate how perfect these two photos are. 12/10 for both https://t.co/rLf7asnHxO</td>\n",
       "      <td>NaN</td>\n",
       "    </tr>\n",
       "    <tr>\n",
       "      <th>639</th>\n",
       "      <td>Oh h*ck look at this spookling right here. Fright level off the charts. 12/10 sufficiently spooked https://t.co/BNy9IIJMb0</td>\n",
       "      <td>NaN</td>\n",
       "    </tr>\n",
       "    <tr>\n",
       "      <th>1763</th>\n",
       "      <td>Touching scene here. Really stirs up the emotions. The bond between father &amp;amp; son. So beautiful. 10/10 for both pups https://t.co/AJWJHov5gx</td>\n",
       "      <td>NaN</td>\n",
       "    </tr>\n",
       "    <tr>\n",
       "      <th>1127</th>\n",
       "      <td>\"Challenge completed\" \\n(pupgraded to 12/10) https://t.co/85dTK7XCXB</td>\n",
       "      <td>NaN</td>\n",
       "    </tr>\n",
       "    <tr>\n",
       "      <th>2019</th>\n",
       "      <td>This is just impressive I have nothing else to say. 11/10 https://t.co/LquQZiZjJP</td>\n",
       "      <td>NaN</td>\n",
       "    </tr>\n",
       "    <tr>\n",
       "      <th>620</th>\n",
       "      <td>#ImWithThor 13/10\\nhttps://t.co/a18mzkhTf6</td>\n",
       "      <td>NaN</td>\n",
       "    </tr>\n",
       "  </tbody>\n",
       "</table>\n",
       "</div>"
      ],
      "text/plain": [
       "                                                                                                                                                 text  \\\n",
       "285   RT @KibaDva: I collected all the good dogs!! 15/10 @dog_rates #GoodDogs https://t.co/6UCGFczlOI                                                   \n",
       "411   RT @dog_rates: We only rate dogs. Please don't send pics of men capturing low level clouds. Thank you... 11/10 https://t.co/rLi83ZyCL5            \n",
       "2258  What a dog to start the day with. Very calm. Likes to chill by pond. Corkscrews sticking out of head. Obedient. 7/10 https://t.co/0nIxPTDWAZ      \n",
       "2010  10/10 for dog. 7/10 for cat. 12/10 for human. Much skill. Would pet all https://t.co/uhx5gfpx5k                                                   \n",
       "1893  Everyone please just appreciate how perfect these two photos are. 12/10 for both https://t.co/rLf7asnHxO                                          \n",
       "639   Oh h*ck look at this spookling right here. Fright level off the charts. 12/10 sufficiently spooked https://t.co/BNy9IIJMb0                        \n",
       "1763  Touching scene here. Really stirs up the emotions. The bond between father &amp; son. So beautiful. 10/10 for both pups https://t.co/AJWJHov5gx   \n",
       "1127  \"Challenge completed\" \\n(pupgraded to 12/10) https://t.co/85dTK7XCXB                                                                              \n",
       "2019  This is just impressive I have nothing else to say. 11/10 https://t.co/LquQZiZjJP                                                                 \n",
       "620   #ImWithThor 13/10\\nhttps://t.co/a18mzkhTf6                                                                                                        \n",
       "\n",
       "     name  \n",
       "285   NaN  \n",
       "411   NaN  \n",
       "2258  NaN  \n",
       "2010  NaN  \n",
       "1893  NaN  \n",
       "639   NaN  \n",
       "1763  NaN  \n",
       "1127  NaN  \n",
       "2019  NaN  \n",
       "620   NaN  "
      ]
     },
     "execution_count": 342,
     "metadata": {},
     "output_type": "execute_result"
    }
   ],
   "source": [
    "# Look at sample of name == np.NaN for instances of not catching the name\n",
    "nulls = arch_clean[arch_clean.name.isna()]\n",
    "nulls[['text', 'name']].sample(10)"
   ]
  },
  {
   "cell_type": "markdown",
   "metadata": {},
   "source": [
    ">We can see another structure of name introduction \"... name is ...\" as well as other one-off instances. I will fix the \"name is\" issue here and return to the one-off instances at another iteration of the project."
   ]
  },
  {
   "cell_type": "markdown",
   "metadata": {},
   "source": [
    "##### Code"
   ]
  },
  {
   "cell_type": "code",
   "execution_count": 343,
   "metadata": {
    "scrolled": true
   },
   "outputs": [
    {
     "name": "stderr",
     "output_type": "stream",
     "text": [
      "/anaconda3/lib/python3.7/site-packages/ipykernel_launcher.py:2: UserWarning: This pattern has match groups. To actually get the groups, use str.extract.\n",
      "  \n"
     ]
    },
    {
     "data": {
      "text/html": [
       "<div>\n",
       "<style scoped>\n",
       "    .dataframe tbody tr th:only-of-type {\n",
       "        vertical-align: middle;\n",
       "    }\n",
       "\n",
       "    .dataframe tbody tr th {\n",
       "        vertical-align: top;\n",
       "    }\n",
       "\n",
       "    .dataframe thead th {\n",
       "        text-align: right;\n",
       "    }\n",
       "</style>\n",
       "<table border=\"1\" class=\"dataframe\">\n",
       "  <thead>\n",
       "    <tr style=\"text-align: right;\">\n",
       "      <th></th>\n",
       "      <th>text</th>\n",
       "      <th>name</th>\n",
       "    </tr>\n",
       "  </thead>\n",
       "  <tbody>\n",
       "    <tr>\n",
       "      <th>35</th>\n",
       "      <td>I have a new hero and his name is Howard. 14/10 https://t.co/gzLHboL7Sk</td>\n",
       "      <td>NaN</td>\n",
       "    </tr>\n",
       "    <tr>\n",
       "      <th>168</th>\n",
       "      <td>Sorry for the lack of posts today. I came home from school and had to spend quality time with my puppo. Her name is Zoey and she's 13/10 https://t.co/BArWupFAn0</td>\n",
       "      <td>NaN</td>\n",
       "    </tr>\n",
       "    <tr>\n",
       "      <th>843</th>\n",
       "      <td>His name is Charley and he already has a new set of wheels thanks to donations. I heard his top speed was also increased. 13/10 for Charley</td>\n",
       "      <td>NaN</td>\n",
       "    </tr>\n",
       "    <tr>\n",
       "      <th>852</th>\n",
       "      <td>This is my dog. Her name is Zoey. She knows I've been rating other dogs. She's not happy. 13/10 no bias at all https://t.co/ep1NkYoiwB</td>\n",
       "      <td>NaN</td>\n",
       "    </tr>\n",
       "    <tr>\n",
       "      <th>1678</th>\n",
       "      <td>We normally don't rate bears but this one seems nice. Her name is Thea. Appears rather fluffy. 10/10 good bear https://t.co/fZc7MixeeT</td>\n",
       "      <td>NaN</td>\n",
       "    </tr>\n",
       "    <tr>\n",
       "      <th>1734</th>\n",
       "      <td>This pup's name is Sabertooth (parents must be cool). Ears for days. Jumps unannounced. 9/10 would pet diligently https://t.co/iazoiNUviP</td>\n",
       "      <td>NaN</td>\n",
       "    </tr>\n",
       "    <tr>\n",
       "      <th>2267</th>\n",
       "      <td>Another topnotch dog. His name is Big Jumpy Rat. Massive ass feet. Superior tail. Jumps high af. 12/10 great pup https://t.co/seESNzgsdm</td>\n",
       "      <td>NaN</td>\n",
       "    </tr>\n",
       "    <tr>\n",
       "      <th>2287</th>\n",
       "      <td>This is a Dasani Kingfisher from Maine. His name is Daryl. Daryl doesn't like being swallowed by a panda. 8/10 https://t.co/jpaeu6LNmW</td>\n",
       "      <td>NaN</td>\n",
       "    </tr>\n",
       "    <tr>\n",
       "      <th>2313</th>\n",
       "      <td>This is Lugan. He is a Bohemian Rhapsody. Very confused dog. Thinks his name is Rocky. Not amused by the snows 10/10 https://t.co/tI3uFLDHBI</td>\n",
       "      <td>Lugan</td>\n",
       "    </tr>\n",
       "  </tbody>\n",
       "</table>\n",
       "</div>"
      ],
      "text/plain": [
       "                                                                                                                                                                  text  \\\n",
       "35    I have a new hero and his name is Howard. 14/10 https://t.co/gzLHboL7Sk                                                                                            \n",
       "168   Sorry for the lack of posts today. I came home from school and had to spend quality time with my puppo. Her name is Zoey and she's 13/10 https://t.co/BArWupFAn0   \n",
       "843   His name is Charley and he already has a new set of wheels thanks to donations. I heard his top speed was also increased. 13/10 for Charley                        \n",
       "852   This is my dog. Her name is Zoey. She knows I've been rating other dogs. She's not happy. 13/10 no bias at all https://t.co/ep1NkYoiwB                             \n",
       "1678  We normally don't rate bears but this one seems nice. Her name is Thea. Appears rather fluffy. 10/10 good bear https://t.co/fZc7MixeeT                             \n",
       "1734  This pup's name is Sabertooth (parents must be cool). Ears for days. Jumps unannounced. 9/10 would pet diligently https://t.co/iazoiNUviP                          \n",
       "2267  Another topnotch dog. His name is Big Jumpy Rat. Massive ass feet. Superior tail. Jumps high af. 12/10 great pup https://t.co/seESNzgsdm                           \n",
       "2287  This is a Dasani Kingfisher from Maine. His name is Daryl. Daryl doesn't like being swallowed by a panda. 8/10 https://t.co/jpaeu6LNmW                             \n",
       "2313  This is Lugan. He is a Bohemian Rhapsody. Very confused dog. Thinks his name is Rocky. Not amused by the snows 10/10 https://t.co/tI3uFLDHBI                       \n",
       "\n",
       "       name  \n",
       "35    NaN    \n",
       "168   NaN    \n",
       "843   NaN    \n",
       "852   NaN    \n",
       "1678  NaN    \n",
       "1734  NaN    \n",
       "2267  NaN    \n",
       "2287  NaN    \n",
       "2313  Lugan  "
      ]
     },
     "execution_count": 343,
     "metadata": {},
     "output_type": "execute_result"
    }
   ],
   "source": [
    "# Create dataframe for all tweet rows containing the phrase \"name is\"\n",
    "df = arch_clean[(arch_clean['text'].str.contains('name is ' + '([A-Z][a-z]+)'))]\n",
    "df[['text', 'name']]"
   ]
  },
  {
   "cell_type": "code",
   "execution_count": 344,
   "metadata": {
    "scrolled": true
   },
   "outputs": [],
   "source": [
    "# Code to fix names with \"name is\" in text\n",
    "name_is_ind = df.index.tolist()\n",
    "name_is_ind\n",
    "name_is_names = ['Howard', 'Zoey', 'Charley', 'Zoey', 'Thea', 'Sabertooth', 'Big Jumpy Rat', 'Daryl', 'Lugan']\n",
    "\n",
    "j = 0\n",
    "for i in name_is_ind:\n",
    "    arch_clean.at[i, 'name'] = name_is_names[j]\n",
    "    j += 1"
   ]
  },
  {
   "cell_type": "markdown",
   "metadata": {},
   "source": [
    "##### Test"
   ]
  },
  {
   "cell_type": "code",
   "execution_count": 345,
   "metadata": {},
   "outputs": [
    {
     "name": "stderr",
     "output_type": "stream",
     "text": [
      "/anaconda3/lib/python3.7/site-packages/ipykernel_launcher.py:2: UserWarning: This pattern has match groups. To actually get the groups, use str.extract.\n",
      "  \n"
     ]
    },
    {
     "data": {
      "text/html": [
       "<div>\n",
       "<style scoped>\n",
       "    .dataframe tbody tr th:only-of-type {\n",
       "        vertical-align: middle;\n",
       "    }\n",
       "\n",
       "    .dataframe tbody tr th {\n",
       "        vertical-align: top;\n",
       "    }\n",
       "\n",
       "    .dataframe thead th {\n",
       "        text-align: right;\n",
       "    }\n",
       "</style>\n",
       "<table border=\"1\" class=\"dataframe\">\n",
       "  <thead>\n",
       "    <tr style=\"text-align: right;\">\n",
       "      <th></th>\n",
       "      <th>text</th>\n",
       "      <th>name</th>\n",
       "    </tr>\n",
       "  </thead>\n",
       "  <tbody>\n",
       "    <tr>\n",
       "      <th>35</th>\n",
       "      <td>I have a new hero and his name is Howard. 14/10 https://t.co/gzLHboL7Sk</td>\n",
       "      <td>Howard</td>\n",
       "    </tr>\n",
       "    <tr>\n",
       "      <th>168</th>\n",
       "      <td>Sorry for the lack of posts today. I came home from school and had to spend quality time with my puppo. Her name is Zoey and she's 13/10 https://t.co/BArWupFAn0</td>\n",
       "      <td>Zoey</td>\n",
       "    </tr>\n",
       "    <tr>\n",
       "      <th>843</th>\n",
       "      <td>His name is Charley and he already has a new set of wheels thanks to donations. I heard his top speed was also increased. 13/10 for Charley</td>\n",
       "      <td>Charley</td>\n",
       "    </tr>\n",
       "    <tr>\n",
       "      <th>852</th>\n",
       "      <td>This is my dog. Her name is Zoey. She knows I've been rating other dogs. She's not happy. 13/10 no bias at all https://t.co/ep1NkYoiwB</td>\n",
       "      <td>Zoey</td>\n",
       "    </tr>\n",
       "    <tr>\n",
       "      <th>1678</th>\n",
       "      <td>We normally don't rate bears but this one seems nice. Her name is Thea. Appears rather fluffy. 10/10 good bear https://t.co/fZc7MixeeT</td>\n",
       "      <td>Thea</td>\n",
       "    </tr>\n",
       "    <tr>\n",
       "      <th>1734</th>\n",
       "      <td>This pup's name is Sabertooth (parents must be cool). Ears for days. Jumps unannounced. 9/10 would pet diligently https://t.co/iazoiNUviP</td>\n",
       "      <td>Sabertooth</td>\n",
       "    </tr>\n",
       "    <tr>\n",
       "      <th>2267</th>\n",
       "      <td>Another topnotch dog. His name is Big Jumpy Rat. Massive ass feet. Superior tail. Jumps high af. 12/10 great pup https://t.co/seESNzgsdm</td>\n",
       "      <td>Big Jumpy Rat</td>\n",
       "    </tr>\n",
       "    <tr>\n",
       "      <th>2287</th>\n",
       "      <td>This is a Dasani Kingfisher from Maine. His name is Daryl. Daryl doesn't like being swallowed by a panda. 8/10 https://t.co/jpaeu6LNmW</td>\n",
       "      <td>Daryl</td>\n",
       "    </tr>\n",
       "    <tr>\n",
       "      <th>2313</th>\n",
       "      <td>This is Lugan. He is a Bohemian Rhapsody. Very confused dog. Thinks his name is Rocky. Not amused by the snows 10/10 https://t.co/tI3uFLDHBI</td>\n",
       "      <td>Lugan</td>\n",
       "    </tr>\n",
       "  </tbody>\n",
       "</table>\n",
       "</div>"
      ],
      "text/plain": [
       "                                                                                                                                                                  text  \\\n",
       "35    I have a new hero and his name is Howard. 14/10 https://t.co/gzLHboL7Sk                                                                                            \n",
       "168   Sorry for the lack of posts today. I came home from school and had to spend quality time with my puppo. Her name is Zoey and she's 13/10 https://t.co/BArWupFAn0   \n",
       "843   His name is Charley and he already has a new set of wheels thanks to donations. I heard his top speed was also increased. 13/10 for Charley                        \n",
       "852   This is my dog. Her name is Zoey. She knows I've been rating other dogs. She's not happy. 13/10 no bias at all https://t.co/ep1NkYoiwB                             \n",
       "1678  We normally don't rate bears but this one seems nice. Her name is Thea. Appears rather fluffy. 10/10 good bear https://t.co/fZc7MixeeT                             \n",
       "1734  This pup's name is Sabertooth (parents must be cool). Ears for days. Jumps unannounced. 9/10 would pet diligently https://t.co/iazoiNUviP                          \n",
       "2267  Another topnotch dog. His name is Big Jumpy Rat. Massive ass feet. Superior tail. Jumps high af. 12/10 great pup https://t.co/seESNzgsdm                           \n",
       "2287  This is a Dasani Kingfisher from Maine. His name is Daryl. Daryl doesn't like being swallowed by a panda. 8/10 https://t.co/jpaeu6LNmW                             \n",
       "2313  This is Lugan. He is a Bohemian Rhapsody. Very confused dog. Thinks his name is Rocky. Not amused by the snows 10/10 https://t.co/tI3uFLDHBI                       \n",
       "\n",
       "               name  \n",
       "35    Howard         \n",
       "168   Zoey           \n",
       "843   Charley        \n",
       "852   Zoey           \n",
       "1678  Thea           \n",
       "1734  Sabertooth     \n",
       "2267  Big Jumpy Rat  \n",
       "2287  Daryl          \n",
       "2313  Lugan          "
      ]
     },
     "execution_count": 345,
     "metadata": {},
     "output_type": "execute_result"
    }
   ],
   "source": [
    "# Test \"name is\" dogs\n",
    "df1 = arch_clean[(arch_clean['text'].str.contains('name is ' + '([A-Z][a-z]+)'))]\n",
    "df1[['text', 'name']]"
   ]
  },
  {
   "cell_type": "markdown",
   "metadata": {},
   "source": [
    "<a id='tidy'></a>\n",
    "## 2) Tidiness\n",
    "1. in `archive` doggo, floofer, pupper, puppo violate \"Multiple columns shouldn't contain the same type of data\"\n",
    "2. `image_preds` violates \"Multiple columns shouldn't contain the same type of data\"\n",
    "3. `api_data` is separate from rest of data"
   ]
  },
  {
   "cell_type": "markdown",
   "metadata": {},
   "source": [
    "### `archive`: doggo, floofer, pupper, puppo violate \"Multiple columns shouldn't contain the same type of data\""
   ]
  },
  {
   "cell_type": "markdown",
   "metadata": {},
   "source": [
    "##### Define\n",
    "We created a new column for dog stage in 1) Missing, so the only action necessary is to drop the four columns that are no longer needed."
   ]
  },
  {
   "cell_type": "markdown",
   "metadata": {},
   "source": [
    "##### Code"
   ]
  },
  {
   "cell_type": "code",
   "execution_count": 346,
   "metadata": {},
   "outputs": [],
   "source": [
    "arch_clean.drop(['doggo', 'floofer', 'pupper', 'puppo'], axis=1, inplace=True);"
   ]
  },
  {
   "cell_type": "markdown",
   "metadata": {},
   "source": [
    "##### Test"
   ]
  },
  {
   "cell_type": "code",
   "execution_count": 347,
   "metadata": {},
   "outputs": [
    {
     "data": {
      "text/plain": [
       "False"
      ]
     },
     "execution_count": 347,
     "metadata": {},
     "output_type": "execute_result"
    }
   ],
   "source": [
    "set(['doggo', 'floofer', 'pupper', 'puppo']).issubset(arch_clean.columns)"
   ]
  },
  {
   "cell_type": "markdown",
   "metadata": {},
   "source": [
    "### `image_preds`: p1, p2, p3, p1_conf, p2_conf, p3_conf, p1_dog, p2_dog, p3_dog violate \"Multiple columns shouldn't contain the same type of data\""
   ]
  },
  {
   "cell_type": "code",
   "execution_count": 348,
   "metadata": {},
   "outputs": [
    {
     "data": {
      "text/html": [
       "<div>\n",
       "<style scoped>\n",
       "    .dataframe tbody tr th:only-of-type {\n",
       "        vertical-align: middle;\n",
       "    }\n",
       "\n",
       "    .dataframe tbody tr th {\n",
       "        vertical-align: top;\n",
       "    }\n",
       "\n",
       "    .dataframe thead th {\n",
       "        text-align: right;\n",
       "    }\n",
       "</style>\n",
       "<table border=\"1\" class=\"dataframe\">\n",
       "  <thead>\n",
       "    <tr style=\"text-align: right;\">\n",
       "      <th></th>\n",
       "      <th>tweet_id</th>\n",
       "      <th>jpg_url</th>\n",
       "      <th>img_num</th>\n",
       "      <th>p1</th>\n",
       "      <th>p1_conf</th>\n",
       "      <th>p1_dog</th>\n",
       "      <th>p2</th>\n",
       "      <th>p2_conf</th>\n",
       "      <th>p2_dog</th>\n",
       "      <th>p3</th>\n",
       "      <th>p3_conf</th>\n",
       "      <th>p3_dog</th>\n",
       "    </tr>\n",
       "  </thead>\n",
       "  <tbody>\n",
       "    <tr>\n",
       "      <th>0</th>\n",
       "      <td>666020888022790149</td>\n",
       "      <td>https://pbs.twimg.com/media/CT4udn0WwAA0aMy.jpg</td>\n",
       "      <td>1</td>\n",
       "      <td>Welsh_springer_spaniel</td>\n",
       "      <td>0.465074</td>\n",
       "      <td>True</td>\n",
       "      <td>collie</td>\n",
       "      <td>0.156665</td>\n",
       "      <td>True</td>\n",
       "      <td>Shetland_sheepdog</td>\n",
       "      <td>0.061428</td>\n",
       "      <td>True</td>\n",
       "    </tr>\n",
       "  </tbody>\n",
       "</table>\n",
       "</div>"
      ],
      "text/plain": [
       "             tweet_id                                          jpg_url  \\\n",
       "0  666020888022790149  https://pbs.twimg.com/media/CT4udn0WwAA0aMy.jpg   \n",
       "\n",
       "   img_num                      p1   p1_conf  p1_dog      p2   p2_conf  \\\n",
       "0  1        Welsh_springer_spaniel  0.465074  True    collie  0.156665   \n",
       "\n",
       "   p2_dog                 p3   p3_conf  p3_dog  \n",
       "0  True    Shetland_sheepdog  0.061428  True    "
      ]
     },
     "execution_count": 348,
     "metadata": {},
     "output_type": "execute_result"
    }
   ],
   "source": [
    "preds_clean.head(1)"
   ]
  },
  {
   "cell_type": "markdown",
   "metadata": {},
   "source": [
    "##### Define\n",
    "* melt `p1`, `p2`, `p3` into a `predictions` column\n",
    "* melt `p1_conf`, `p2_conf`, `p3_conf` into a `confidence` column\n",
    "* melt `p1_dog`, `p2_dog`, `p3_dog` into a `accuracy` column\n",
    "\n",
    "Accomplish the melting using `pd.wide_to_long` after changing column names to make it possible."
   ]
  },
  {
   "cell_type": "markdown",
   "metadata": {},
   "source": [
    "##### Code"
   ]
  },
  {
   "cell_type": "code",
   "execution_count": 349,
   "metadata": {},
   "outputs": [],
   "source": [
    "# Update column names\n",
    "cols_new = ['tweet_id', 'jpg_url', 'img_num', \n",
    "             'prediction_1', 'confidence_1', 'accuracy_1', \n",
    "             'prediction_2', 'confidence_2', 'accuracy_2', \n",
    "             'prediction_3', 'confidence_3', 'accuracy_3']\n",
    "preds_clean.columns = cols_new"
   ]
  },
  {
   "cell_type": "code",
   "execution_count": 350,
   "metadata": {},
   "outputs": [],
   "source": [
    "# Apply pd.wide_to_long\n",
    "preds_clean = pd.wide_to_long(preds_clean, stubnames=['prediction','confidence','accuracy'],\\\n",
    "                i=['tweet_id', 'jpg_url', 'img_num'],\\\n",
    "                j='order', sep='_', suffix='.')\\\n",
    "                .reset_index().sort_index();"
   ]
  },
  {
   "cell_type": "markdown",
   "metadata": {},
   "source": [
    "##### Test"
   ]
  },
  {
   "cell_type": "code",
   "execution_count": 351,
   "metadata": {},
   "outputs": [
    {
     "data": {
      "text/html": [
       "<div>\n",
       "<style scoped>\n",
       "    .dataframe tbody tr th:only-of-type {\n",
       "        vertical-align: middle;\n",
       "    }\n",
       "\n",
       "    .dataframe tbody tr th {\n",
       "        vertical-align: top;\n",
       "    }\n",
       "\n",
       "    .dataframe thead th {\n",
       "        text-align: right;\n",
       "    }\n",
       "</style>\n",
       "<table border=\"1\" class=\"dataframe\">\n",
       "  <thead>\n",
       "    <tr style=\"text-align: right;\">\n",
       "      <th></th>\n",
       "      <th>tweet_id</th>\n",
       "      <th>jpg_url</th>\n",
       "      <th>img_num</th>\n",
       "      <th>order</th>\n",
       "      <th>prediction</th>\n",
       "      <th>confidence</th>\n",
       "      <th>accuracy</th>\n",
       "    </tr>\n",
       "  </thead>\n",
       "  <tbody>\n",
       "    <tr>\n",
       "      <th>0</th>\n",
       "      <td>666020888022790149</td>\n",
       "      <td>https://pbs.twimg.com/media/CT4udn0WwAA0aMy.jpg</td>\n",
       "      <td>1</td>\n",
       "      <td>1</td>\n",
       "      <td>Welsh_springer_spaniel</td>\n",
       "      <td>0.465074</td>\n",
       "      <td>True</td>\n",
       "    </tr>\n",
       "    <tr>\n",
       "      <th>1</th>\n",
       "      <td>666020888022790149</td>\n",
       "      <td>https://pbs.twimg.com/media/CT4udn0WwAA0aMy.jpg</td>\n",
       "      <td>1</td>\n",
       "      <td>2</td>\n",
       "      <td>collie</td>\n",
       "      <td>0.156665</td>\n",
       "      <td>True</td>\n",
       "    </tr>\n",
       "    <tr>\n",
       "      <th>2</th>\n",
       "      <td>666020888022790149</td>\n",
       "      <td>https://pbs.twimg.com/media/CT4udn0WwAA0aMy.jpg</td>\n",
       "      <td>1</td>\n",
       "      <td>3</td>\n",
       "      <td>Shetland_sheepdog</td>\n",
       "      <td>0.061428</td>\n",
       "      <td>True</td>\n",
       "    </tr>\n",
       "    <tr>\n",
       "      <th>3</th>\n",
       "      <td>666029285002620928</td>\n",
       "      <td>https://pbs.twimg.com/media/CT42GRgUYAA5iDo.jpg</td>\n",
       "      <td>1</td>\n",
       "      <td>1</td>\n",
       "      <td>redbone</td>\n",
       "      <td>0.506826</td>\n",
       "      <td>True</td>\n",
       "    </tr>\n",
       "    <tr>\n",
       "      <th>4</th>\n",
       "      <td>666029285002620928</td>\n",
       "      <td>https://pbs.twimg.com/media/CT42GRgUYAA5iDo.jpg</td>\n",
       "      <td>1</td>\n",
       "      <td>2</td>\n",
       "      <td>miniature_pinscher</td>\n",
       "      <td>0.074192</td>\n",
       "      <td>True</td>\n",
       "    </tr>\n",
       "  </tbody>\n",
       "</table>\n",
       "</div>"
      ],
      "text/plain": [
       "             tweet_id                                          jpg_url  \\\n",
       "0  666020888022790149  https://pbs.twimg.com/media/CT4udn0WwAA0aMy.jpg   \n",
       "1  666020888022790149  https://pbs.twimg.com/media/CT4udn0WwAA0aMy.jpg   \n",
       "2  666020888022790149  https://pbs.twimg.com/media/CT4udn0WwAA0aMy.jpg   \n",
       "3  666029285002620928  https://pbs.twimg.com/media/CT42GRgUYAA5iDo.jpg   \n",
       "4  666029285002620928  https://pbs.twimg.com/media/CT42GRgUYAA5iDo.jpg   \n",
       "\n",
       "   img_num  order              prediction  confidence  accuracy  \n",
       "0  1        1      Welsh_springer_spaniel  0.465074    True      \n",
       "1  1        2      collie                  0.156665    True      \n",
       "2  1        3      Shetland_sheepdog       0.061428    True      \n",
       "3  1        1      redbone                 0.506826    True      \n",
       "4  1        2      miniature_pinscher      0.074192    True      "
      ]
     },
     "execution_count": 351,
     "metadata": {},
     "output_type": "execute_result"
    }
   ],
   "source": [
    "preds_clean.head()"
   ]
  },
  {
   "cell_type": "code",
   "execution_count": 352,
   "metadata": {},
   "outputs": [
    {
     "name": "stdout",
     "output_type": "stream",
     "text": [
      "<class 'pandas.core.frame.DataFrame'>\n",
      "RangeIndex: 6225 entries, 0 to 6224\n",
      "Data columns (total 7 columns):\n",
      "tweet_id      6225 non-null int64\n",
      "jpg_url       6225 non-null object\n",
      "img_num       6225 non-null int64\n",
      "order         6225 non-null int64\n",
      "prediction    6225 non-null object\n",
      "confidence    6225 non-null float64\n",
      "accuracy      6225 non-null bool\n",
      "dtypes: bool(1), float64(1), int64(3), object(2)\n",
      "memory usage: 298.0+ KB\n"
     ]
    }
   ],
   "source": [
    "preds_clean.info()"
   ]
  },
  {
   "cell_type": "code",
   "execution_count": 353,
   "metadata": {},
   "outputs": [
    {
     "data": {
      "text/plain": [
       "2075.0"
      ]
     },
     "execution_count": 353,
     "metadata": {},
     "output_type": "execute_result"
    }
   ],
   "source": [
    "len(preds_clean)/3"
   ]
  },
  {
   "cell_type": "code",
   "execution_count": 354,
   "metadata": {},
   "outputs": [
    {
     "data": {
      "text/plain": [
       "2356"
      ]
     },
     "execution_count": 354,
     "metadata": {},
     "output_type": "execute_result"
    }
   ],
   "source": [
    "len(arch_clean)"
   ]
  },
  {
   "cell_type": "markdown",
   "metadata": {},
   "source": [
    ">We can see from the above calculation that not all tweets in `archive` are associated with image predictions. We will drop those which do not."
   ]
  },
  {
   "cell_type": "markdown",
   "metadata": {},
   "source": [
    "### `api_data`: This dataset is separate from the rest of the data"
   ]
  },
  {
   "cell_type": "code",
   "execution_count": 355,
   "metadata": {},
   "outputs": [
    {
     "data": {
      "text/plain": [
       "17"
      ]
     },
     "execution_count": 355,
     "metadata": {},
     "output_type": "execute_result"
    }
   ],
   "source": [
    "len(arch_clean)-len(api_clean)"
   ]
  },
  {
   "cell_type": "markdown",
   "metadata": {},
   "source": [
    "##### Define\n",
    "Merge `api_data` with `archive` using `tweet_id` as key (change `tweet_id` to object datatype in both dataframes first). Use `how='inner'` so only common tweets are retained."
   ]
  },
  {
   "cell_type": "markdown",
   "metadata": {},
   "source": [
    "##### Code"
   ]
  },
  {
   "cell_type": "code",
   "execution_count": 356,
   "metadata": {},
   "outputs": [],
   "source": [
    "# Cast tweet_id columns in arch_clean and api_clean as object datatypes\n",
    "arch_clean.tweet_id = arch_clean.tweet_id.astype(str)\n",
    "api_clean.tweet_id = api_clean.tweet_id.astype(str)"
   ]
  },
  {
   "cell_type": "code",
   "execution_count": 357,
   "metadata": {},
   "outputs": [
    {
     "data": {
      "text/plain": [
       "(0, 0)"
      ]
     },
     "execution_count": 357,
     "metadata": {},
     "output_type": "execute_result"
    }
   ],
   "source": [
    "# Check that there are no duplicate tweet_ids in either table\n",
    "arch_clean.tweet_id.duplicated().sum(), api_clean.tweet_id.duplicated().sum()"
   ]
  },
  {
   "cell_type": "code",
   "execution_count": 358,
   "metadata": {},
   "outputs": [
    {
     "data": {
      "text/plain": [
       "(2339, 2339)"
      ]
     },
     "execution_count": 358,
     "metadata": {},
     "output_type": "execute_result"
    }
   ],
   "source": [
    "# Check that all api_clean tweets map to arch_clean tweet_ids\n",
    "len(arch_clean[arch_clean['tweet_id'].isin(api_clean['tweet_id'].tolist())]), len(api_clean)"
   ]
  },
  {
   "cell_type": "code",
   "execution_count": 359,
   "metadata": {},
   "outputs": [],
   "source": [
    "# Merge the API and archive tables, only keeping tweet data from tweet_ids in both tables\n",
    "arch_clean = pd.merge(left=arch_clean, right=api_clean, how='inner', on='tweet_id')"
   ]
  },
  {
   "cell_type": "markdown",
   "metadata": {},
   "source": [
    "##### Test"
   ]
  },
  {
   "cell_type": "code",
   "execution_count": 360,
   "metadata": {},
   "outputs": [
    {
     "data": {
      "text/html": [
       "<div>\n",
       "<style scoped>\n",
       "    .dataframe tbody tr th:only-of-type {\n",
       "        vertical-align: middle;\n",
       "    }\n",
       "\n",
       "    .dataframe tbody tr th {\n",
       "        vertical-align: top;\n",
       "    }\n",
       "\n",
       "    .dataframe thead th {\n",
       "        text-align: right;\n",
       "    }\n",
       "</style>\n",
       "<table border=\"1\" class=\"dataframe\">\n",
       "  <thead>\n",
       "    <tr style=\"text-align: right;\">\n",
       "      <th></th>\n",
       "      <th>tweet_id</th>\n",
       "      <th>in_reply_to_status_id</th>\n",
       "      <th>in_reply_to_user_id</th>\n",
       "      <th>timestamp</th>\n",
       "      <th>source</th>\n",
       "      <th>text</th>\n",
       "      <th>retweeted_status_id</th>\n",
       "      <th>retweeted_status_user_id</th>\n",
       "      <th>retweeted_status_timestamp</th>\n",
       "      <th>expanded_urls</th>\n",
       "      <th>rating_numerator</th>\n",
       "      <th>rating_denominator</th>\n",
       "      <th>name</th>\n",
       "      <th>dog_stage</th>\n",
       "      <th>retweet_count</th>\n",
       "      <th>favorite_count</th>\n",
       "      <th>tweet_length</th>\n",
       "    </tr>\n",
       "  </thead>\n",
       "  <tbody>\n",
       "    <tr>\n",
       "      <th>1339</th>\n",
       "      <td>703611486317502464</td>\n",
       "      <td>NaN</td>\n",
       "      <td>NaN</td>\n",
       "      <td>2016-02-27 16:03:45 +0000</td>\n",
       "      <td>&lt;a href=\"http://twitter.com/download/iphone\" rel=\"nofollow\"&gt;Twitter for iPhone&lt;/a&gt;</td>\n",
       "      <td>Meet Scooter. He's experiencing the pupper equivalent of dropping ur phone in a toilet 10/10 put it in some rice pup https://t.co/JSmX1FIEaW</td>\n",
       "      <td>NaN</td>\n",
       "      <td>NaN</td>\n",
       "      <td>NaN</td>\n",
       "      <td>https://twitter.com/dog_rates/status/703611486317502464/photo/1</td>\n",
       "      <td>10</td>\n",
       "      <td>10</td>\n",
       "      <td>Scooter</td>\n",
       "      <td>pupper</td>\n",
       "      <td>1595</td>\n",
       "      <td>4010</td>\n",
       "      <td>140</td>\n",
       "    </tr>\n",
       "    <tr>\n",
       "      <th>2152</th>\n",
       "      <td>669353438988365824</td>\n",
       "      <td>6.678065e+17</td>\n",
       "      <td>4.196984e+09</td>\n",
       "      <td>2015-11-25 03:14:30 +0000</td>\n",
       "      <td>&lt;a href=\"http://twitter.com/download/iphone\" rel=\"nofollow\"&gt;Twitter for iPhone&lt;/a&gt;</td>\n",
       "      <td>This is Tessa. She is also very pleased after finally meeting her biological father. 10/10 https://t.co/qDS1aCqppv</td>\n",
       "      <td>NaN</td>\n",
       "      <td>NaN</td>\n",
       "      <td>NaN</td>\n",
       "      <td>https://twitter.com/dog_rates/status/669353438988365824/photo/1</td>\n",
       "      <td>10</td>\n",
       "      <td>10</td>\n",
       "      <td>Tessa</td>\n",
       "      <td>NaN</td>\n",
       "      <td>266</td>\n",
       "      <td>649</td>\n",
       "      <td>114</td>\n",
       "    </tr>\n",
       "    <tr>\n",
       "      <th>119</th>\n",
       "      <td>868639477480148993</td>\n",
       "      <td>NaN</td>\n",
       "      <td>NaN</td>\n",
       "      <td>2017-05-28 01:26:04 +0000</td>\n",
       "      <td>&lt;a href=\"http://twitter.com/download/iphone\" rel=\"nofollow\"&gt;Twitter for iPhone&lt;/a&gt;</td>\n",
       "      <td>RT @dog_rates: Say hello to Cooper. His expression is the same wet or dry. Absolute 12/10 but Coop desperately requests your help\\n\\nhttps://…</td>\n",
       "      <td>8.685523e+17</td>\n",
       "      <td>4.196984e+09</td>\n",
       "      <td>2017-05-27 19:39:34 +0000</td>\n",
       "      <td>https://www.gofundme.com/3ti3nps,https://twitter.com/dog_rates/status/868552278524837888/photo/1,https://twitter.com/dog_rates/status/868552278524837888/photo/1</td>\n",
       "      <td>12</td>\n",
       "      <td>10</td>\n",
       "      <td>Cooper</td>\n",
       "      <td>NaN</td>\n",
       "      <td>2078</td>\n",
       "      <td>0</td>\n",
       "      <td>140</td>\n",
       "    </tr>\n",
       "    <tr>\n",
       "      <th>838</th>\n",
       "      <td>765371061932261376</td>\n",
       "      <td>NaN</td>\n",
       "      <td>NaN</td>\n",
       "      <td>2016-08-16 02:14:15 +0000</td>\n",
       "      <td>&lt;a href=\"http://twitter.com/download/iphone\" rel=\"nofollow\"&gt;Twitter for iPhone&lt;/a&gt;</td>\n",
       "      <td>This is Louie. He's had a long day. Did a lot of pupper things. Also appears to be rather heckin pettable. 11/10 https://t.co/w2qDmoTIZ5</td>\n",
       "      <td>NaN</td>\n",
       "      <td>NaN</td>\n",
       "      <td>NaN</td>\n",
       "      <td>https://twitter.com/dog_rates/status/765371061932261376/photo/1,https://twitter.com/dog_rates/status/765371061932261376/photo/1</td>\n",
       "      <td>11</td>\n",
       "      <td>10</td>\n",
       "      <td>Louie</td>\n",
       "      <td>pupper</td>\n",
       "      <td>2321</td>\n",
       "      <td>7458</td>\n",
       "      <td>112</td>\n",
       "    </tr>\n",
       "    <tr>\n",
       "      <th>2128</th>\n",
       "      <td>669926384437997569</td>\n",
       "      <td>NaN</td>\n",
       "      <td>NaN</td>\n",
       "      <td>2015-11-26 17:11:11 +0000</td>\n",
       "      <td>&lt;a href=\"http://twitter.com/download/iphone\" rel=\"nofollow\"&gt;Twitter for iPhone&lt;/a&gt;</td>\n",
       "      <td>I've never seen a dog so genuinely happy about a tennis ball. 12/10 s'cute https://t.co/9RYY2NtHDw</td>\n",
       "      <td>NaN</td>\n",
       "      <td>NaN</td>\n",
       "      <td>NaN</td>\n",
       "      <td>https://twitter.com/dog_rates/status/669926384437997569/photo/1</td>\n",
       "      <td>12</td>\n",
       "      <td>10</td>\n",
       "      <td>NaN</td>\n",
       "      <td>NaN</td>\n",
       "      <td>106</td>\n",
       "      <td>375</td>\n",
       "      <td>98</td>\n",
       "    </tr>\n",
       "  </tbody>\n",
       "</table>\n",
       "</div>"
      ],
      "text/plain": [
       "                tweet_id  in_reply_to_status_id  in_reply_to_user_id  \\\n",
       "1339  703611486317502464 NaN                    NaN                    \n",
       "2152  669353438988365824  6.678065e+17           4.196984e+09          \n",
       "119   868639477480148993 NaN                    NaN                    \n",
       "838   765371061932261376 NaN                    NaN                    \n",
       "2128  669926384437997569 NaN                    NaN                    \n",
       "\n",
       "                      timestamp  \\\n",
       "1339  2016-02-27 16:03:45 +0000   \n",
       "2152  2015-11-25 03:14:30 +0000   \n",
       "119   2017-05-28 01:26:04 +0000   \n",
       "838   2016-08-16 02:14:15 +0000   \n",
       "2128  2015-11-26 17:11:11 +0000   \n",
       "\n",
       "                                                                                  source  \\\n",
       "1339  <a href=\"http://twitter.com/download/iphone\" rel=\"nofollow\">Twitter for iPhone</a>   \n",
       "2152  <a href=\"http://twitter.com/download/iphone\" rel=\"nofollow\">Twitter for iPhone</a>   \n",
       "119   <a href=\"http://twitter.com/download/iphone\" rel=\"nofollow\">Twitter for iPhone</a>   \n",
       "838   <a href=\"http://twitter.com/download/iphone\" rel=\"nofollow\">Twitter for iPhone</a>   \n",
       "2128  <a href=\"http://twitter.com/download/iphone\" rel=\"nofollow\">Twitter for iPhone</a>   \n",
       "\n",
       "                                                                                                                                                text  \\\n",
       "1339  Meet Scooter. He's experiencing the pupper equivalent of dropping ur phone in a toilet 10/10 put it in some rice pup https://t.co/JSmX1FIEaW     \n",
       "2152  This is Tessa. She is also very pleased after finally meeting her biological father. 10/10 https://t.co/qDS1aCqppv                               \n",
       "119   RT @dog_rates: Say hello to Cooper. His expression is the same wet or dry. Absolute 12/10 but Coop desperately requests your help\\n\\nhttps://…   \n",
       "838   This is Louie. He's had a long day. Did a lot of pupper things. Also appears to be rather heckin pettable. 11/10 https://t.co/w2qDmoTIZ5         \n",
       "2128  I've never seen a dog so genuinely happy about a tennis ball. 12/10 s'cute https://t.co/9RYY2NtHDw                                               \n",
       "\n",
       "      retweeted_status_id  retweeted_status_user_id  \\\n",
       "1339 NaN                  NaN                         \n",
       "2152 NaN                  NaN                         \n",
       "119   8.685523e+17         4.196984e+09               \n",
       "838  NaN                  NaN                         \n",
       "2128 NaN                  NaN                         \n",
       "\n",
       "     retweeted_status_timestamp  \\\n",
       "1339  NaN                         \n",
       "2152  NaN                         \n",
       "119   2017-05-27 19:39:34 +0000   \n",
       "838   NaN                         \n",
       "2128  NaN                         \n",
       "\n",
       "                                                                                                                                                         expanded_urls  \\\n",
       "1339  https://twitter.com/dog_rates/status/703611486317502464/photo/1                                                                                                    \n",
       "2152  https://twitter.com/dog_rates/status/669353438988365824/photo/1                                                                                                    \n",
       "119   https://www.gofundme.com/3ti3nps,https://twitter.com/dog_rates/status/868552278524837888/photo/1,https://twitter.com/dog_rates/status/868552278524837888/photo/1   \n",
       "838   https://twitter.com/dog_rates/status/765371061932261376/photo/1,https://twitter.com/dog_rates/status/765371061932261376/photo/1                                    \n",
       "2128  https://twitter.com/dog_rates/status/669926384437997569/photo/1                                                                                                    \n",
       "\n",
       "      rating_numerator  rating_denominator     name dog_stage retweet_count  \\\n",
       "1339  10                10                  Scooter  pupper    1595           \n",
       "2152  10                10                  Tessa    NaN       266            \n",
       "119   12                10                  Cooper   NaN       2078           \n",
       "838   11                10                  Louie    pupper    2321           \n",
       "2128  12                10                  NaN      NaN       106            \n",
       "\n",
       "     favorite_count tweet_length  \n",
       "1339  4010           140          \n",
       "2152  649            114          \n",
       "119   0              140          \n",
       "838   7458           112          \n",
       "2128  375            98           "
      ]
     },
     "execution_count": 360,
     "metadata": {},
     "output_type": "execute_result"
    }
   ],
   "source": [
    "# Look at random sample of tweets in arch_clean\n",
    "arch_clean.sample(5)"
   ]
  },
  {
   "cell_type": "code",
   "execution_count": 361,
   "metadata": {},
   "outputs": [
    {
     "name": "stdout",
     "output_type": "stream",
     "text": [
      "<class 'pandas.core.frame.DataFrame'>\n",
      "Int64Index: 2339 entries, 0 to 2338\n",
      "Data columns (total 17 columns):\n",
      "tweet_id                      2339 non-null object\n",
      "in_reply_to_status_id         78 non-null float64\n",
      "in_reply_to_user_id           78 non-null float64\n",
      "timestamp                     2339 non-null object\n",
      "source                        2339 non-null object\n",
      "text                          2339 non-null object\n",
      "retweeted_status_id           167 non-null float64\n",
      "retweeted_status_user_id      167 non-null float64\n",
      "retweeted_status_timestamp    167 non-null object\n",
      "expanded_urls                 2280 non-null object\n",
      "rating_numerator              2339 non-null int64\n",
      "rating_denominator            2339 non-null int64\n",
      "name                          1525 non-null object\n",
      "dog_stage                     397 non-null object\n",
      "retweet_count                 2339 non-null object\n",
      "favorite_count                2339 non-null object\n",
      "tweet_length                  2339 non-null object\n",
      "dtypes: float64(4), int64(2), object(11)\n",
      "memory usage: 328.9+ KB\n"
     ]
    }
   ],
   "source": [
    "# Check summary of arch_clean for correct columns and NaNs\n",
    "arch_clean.info()"
   ]
  },
  {
   "cell_type": "code",
   "execution_count": 362,
   "metadata": {},
   "outputs": [
    {
     "data": {
      "text/plain": [
       "17"
      ]
     },
     "execution_count": 362,
     "metadata": {},
     "output_type": "execute_result"
    }
   ],
   "source": [
    "2356 - len(arch_clean)"
   ]
  },
  {
   "cell_type": "markdown",
   "metadata": {},
   "source": [
    ">We lost 17 tweets from archive because they had no API data.. "
   ]
  },
  {
   "cell_type": "markdown",
   "metadata": {},
   "source": [
    "<a id='quality'></a>\n",
    "## 3) Quality"
   ]
  },
  {
   "cell_type": "markdown",
   "metadata": {},
   "source": [
    "I'll be addressing the following quality issues in this section\n",
    "1. Replies and retweets still in `archive`\n",
    "2. `archive` and `image_preds` have erroneous datatypes\n",
    "3. Series for \"We only rate dogs\" reprimand unavailable in `archive`\n",
    "4. Many predictions are lowercase and contain underscores in `image_preds`\n",
    "5. Tweet url part of tweet text in `archive`"
   ]
  },
  {
   "cell_type": "markdown",
   "metadata": {},
   "source": [
    "### `archive`: 78 replies/167 retweets included in dataset"
   ]
  },
  {
   "cell_type": "markdown",
   "metadata": {},
   "source": [
    "##### Define\n",
    "Check for overlap/examine differences between replies and retweets. Drop all rows where `retweeted_status_id` is not null and `in_reply_to_status_id` is not null."
   ]
  },
  {
   "cell_type": "markdown",
   "metadata": {},
   "source": [
    "##### Code"
   ]
  },
  {
   "cell_type": "code",
   "execution_count": 363,
   "metadata": {},
   "outputs": [
    {
     "data": {
      "text/plain": [
       "True"
      ]
     },
     "execution_count": 363,
     "metadata": {},
     "output_type": "execute_result"
    }
   ],
   "source": [
    "# Check for overlap between replies and retweets\n",
    "replies = arch_clean[arch_clean['in_reply_to_status_id'].notnull()].index.tolist()\n",
    "retweets = arch_clean[arch_clean['retweeted_status_id'].notnull()].index.tolist()\n",
    "set(replies).isdisjoint(retweets)"
   ]
  },
  {
   "cell_type": "markdown",
   "metadata": {},
   "source": [
    "Replies and retweets do not overlap."
   ]
  },
  {
   "cell_type": "code",
   "execution_count": 364,
   "metadata": {},
   "outputs": [
    {
     "data": {
      "text/plain": [
       "2094"
      ]
     },
     "execution_count": 364,
     "metadata": {},
     "output_type": "execute_result"
    }
   ],
   "source": [
    "# How long should new dataframe be after dropping replies and retweets?\n",
    "new_length = len(arch_clean) - len(replies) - len(retweets)\n",
    "new_length"
   ]
  },
  {
   "cell_type": "code",
   "execution_count": 365,
   "metadata": {},
   "outputs": [],
   "source": [
    "# Create and sort list of indicies to use with df.drop feature\n",
    "all_drops = replies + retweets\n",
    "all_drops.sort()"
   ]
  },
  {
   "cell_type": "code",
   "execution_count": 366,
   "metadata": {},
   "outputs": [],
   "source": [
    "# Drop all rows with indicies in all_drops\n",
    "arch_clean.drop(all_drops, axis=0, inplace=True)"
   ]
  },
  {
   "cell_type": "markdown",
   "metadata": {},
   "source": [
    "##### Test"
   ]
  },
  {
   "cell_type": "code",
   "execution_count": 367,
   "metadata": {},
   "outputs": [
    {
     "data": {
      "text/html": [
       "<div>\n",
       "<style scoped>\n",
       "    .dataframe tbody tr th:only-of-type {\n",
       "        vertical-align: middle;\n",
       "    }\n",
       "\n",
       "    .dataframe tbody tr th {\n",
       "        vertical-align: top;\n",
       "    }\n",
       "\n",
       "    .dataframe thead th {\n",
       "        text-align: right;\n",
       "    }\n",
       "</style>\n",
       "<table border=\"1\" class=\"dataframe\">\n",
       "  <thead>\n",
       "    <tr style=\"text-align: right;\">\n",
       "      <th></th>\n",
       "      <th>tweet_id</th>\n",
       "      <th>in_reply_to_status_id</th>\n",
       "      <th>in_reply_to_user_id</th>\n",
       "      <th>timestamp</th>\n",
       "      <th>source</th>\n",
       "      <th>text</th>\n",
       "      <th>retweeted_status_id</th>\n",
       "      <th>retweeted_status_user_id</th>\n",
       "      <th>retweeted_status_timestamp</th>\n",
       "      <th>expanded_urls</th>\n",
       "      <th>rating_numerator</th>\n",
       "      <th>rating_denominator</th>\n",
       "      <th>name</th>\n",
       "      <th>dog_stage</th>\n",
       "      <th>retweet_count</th>\n",
       "      <th>favorite_count</th>\n",
       "      <th>tweet_length</th>\n",
       "    </tr>\n",
       "  </thead>\n",
       "  <tbody>\n",
       "  </tbody>\n",
       "</table>\n",
       "</div>"
      ],
      "text/plain": [
       "Empty DataFrame\n",
       "Columns: [tweet_id, in_reply_to_status_id, in_reply_to_user_id, timestamp, source, text, retweeted_status_id, retweeted_status_user_id, retweeted_status_timestamp, expanded_urls, rating_numerator, rating_denominator, name, dog_stage, retweet_count, favorite_count, tweet_length]\n",
       "Index: []"
      ]
     },
     "execution_count": 367,
     "metadata": {},
     "output_type": "execute_result"
    }
   ],
   "source": [
    "# See if any tweets are left with non-null values in relevant columns\n",
    "arch_clean[(arch_clean['in_reply_to_status_id'].notnull()) \\\n",
    "          | (arch_clean['retweeted_status_id'].notnull())]"
   ]
  },
  {
   "cell_type": "code",
   "execution_count": 368,
   "metadata": {},
   "outputs": [
    {
     "data": {
      "text/plain": [
       "2094"
      ]
     },
     "execution_count": 368,
     "metadata": {},
     "output_type": "execute_result"
    }
   ],
   "source": [
    "# Verify length of adjusted data set, should be 2094\n",
    "len(arch_clean)\n"
   ]
  },
  {
   "cell_type": "markdown",
   "metadata": {},
   "source": [
    "### `archive` and `image_preds`: Erroneous datatypes - tweet_id, in_reply_to_status_id, in_reply_to_user_id, timestamp, retweeted_status_id, retweeted_status_user_id, retweeted_status_timestamp, and all dog stage columns"
   ]
  },
  {
   "cell_type": "markdown",
   "metadata": {},
   "source": [
    "##### Define\n",
    "* Drop `in_reply_to_status_id`, `in_reply_to_user_id`, `retweeted_status_id`, `retweeted_status_user_id`, and `retweeted_status_timestamp` since they are not being used anymore.\n",
    "* Check datatype of dog_stage column (should be object), fix if not\n",
    "* Use pandas `.to_datetime()` to cast `timestamp` to datetime and `.astype()` to cast `tweet_id` to string.\n",
    "* Cast all columns merged from `api_data` to int64, they are currently strings."
   ]
  },
  {
   "cell_type": "markdown",
   "metadata": {},
   "source": [
    "##### Code"
   ]
  },
  {
   "cell_type": "code",
   "execution_count": 369,
   "metadata": {},
   "outputs": [],
   "source": [
    "# Drop all columns related to retweets and replies since they are all NaN values now\n",
    "arch_clean.drop(columns=['in_reply_to_status_id', 'in_reply_to_user_id', 'retweeted_status_id', \n",
    "                         'retweeted_status_user_id', 'retweeted_status_timestamp'], inplace=True)"
   ]
  },
  {
   "cell_type": "code",
   "execution_count": 370,
   "metadata": {},
   "outputs": [
    {
     "data": {
      "text/plain": [
       "dtype('O')"
      ]
     },
     "execution_count": 370,
     "metadata": {},
     "output_type": "execute_result"
    }
   ],
   "source": [
    "# Confirm that dog_stage is object/string\n",
    "arch_clean.dog_stage.dtype"
   ]
  },
  {
   "cell_type": "code",
   "execution_count": 371,
   "metadata": {},
   "outputs": [],
   "source": [
    "# Cast erroneous columns to correct dtypes\n",
    "arch_clean.timestamp = pd.to_datetime(arch_clean.timestamp)\n",
    "arch_clean[['retweet_count', 'favorite_count', 'tweet_length']] = arch_clean[['retweet_count', 'favorite_count', 'tweet_length']].astype(int)\n",
    "preds_clean.tweet_id = preds_clean.tweet_id.astype(str)\n"
   ]
  },
  {
   "cell_type": "markdown",
   "metadata": {},
   "source": [
    "##### Test"
   ]
  },
  {
   "cell_type": "code",
   "execution_count": 372,
   "metadata": {},
   "outputs": [
    {
     "data": {
      "text/plain": [
       "Index(['tweet_id', 'timestamp', 'source', 'text', 'expanded_urls',\n",
       "       'rating_numerator', 'rating_denominator', 'name', 'dog_stage',\n",
       "       'retweet_count', 'favorite_count', 'tweet_length'],\n",
       "      dtype='object')"
      ]
     },
     "execution_count": 372,
     "metadata": {},
     "output_type": "execute_result"
    }
   ],
   "source": [
    "# Are columns dropped? Yes.\n",
    "arch_clean.columns"
   ]
  },
  {
   "cell_type": "code",
   "execution_count": 373,
   "metadata": {},
   "outputs": [
    {
     "name": "stdout",
     "output_type": "stream",
     "text": [
      "<class 'pandas.core.frame.DataFrame'>\n",
      "Int64Index: 2094 entries, 0 to 2338\n",
      "Data columns (total 12 columns):\n",
      "tweet_id              2094 non-null object\n",
      "timestamp             2094 non-null datetime64[ns]\n",
      "source                2094 non-null object\n",
      "text                  2094 non-null object\n",
      "expanded_urls         2091 non-null object\n",
      "rating_numerator      2094 non-null int64\n",
      "rating_denominator    2094 non-null int64\n",
      "name                  1417 non-null object\n",
      "dog_stage             353 non-null object\n",
      "retweet_count         2094 non-null int64\n",
      "favorite_count        2094 non-null int64\n",
      "tweet_length          2094 non-null int64\n",
      "dtypes: datetime64[ns](1), int64(5), object(6)\n",
      "memory usage: 212.7+ KB\n"
     ]
    }
   ],
   "source": [
    "# Are datatypes correct?\n",
    "arch_clean.info()"
   ]
  },
  {
   "cell_type": "code",
   "execution_count": 374,
   "metadata": {},
   "outputs": [
    {
     "name": "stdout",
     "output_type": "stream",
     "text": [
      "<class 'pandas.core.frame.DataFrame'>\n",
      "RangeIndex: 6225 entries, 0 to 6224\n",
      "Data columns (total 7 columns):\n",
      "tweet_id      6225 non-null object\n",
      "jpg_url       6225 non-null object\n",
      "img_num       6225 non-null int64\n",
      "order         6225 non-null int64\n",
      "prediction    6225 non-null object\n",
      "confidence    6225 non-null float64\n",
      "accuracy      6225 non-null bool\n",
      "dtypes: bool(1), float64(1), int64(2), object(3)\n",
      "memory usage: 298.0+ KB\n"
     ]
    }
   ],
   "source": [
    "preds_clean.info()"
   ]
  },
  {
   "cell_type": "code",
   "execution_count": 375,
   "metadata": {},
   "outputs": [
    {
     "data": {
      "text/plain": [
       "2075.0"
      ]
     },
     "execution_count": 375,
     "metadata": {},
     "output_type": "execute_result"
    }
   ],
   "source": [
    "len(preds_clean)/3"
   ]
  },
  {
   "cell_type": "markdown",
   "metadata": {},
   "source": [
    "### `archive`: Series for \"We only rate dogs\" reprimand unavailable"
   ]
  },
  {
   "cell_type": "markdown",
   "metadata": {},
   "source": [
    "##### Define\n",
    "Many tweets sarcastically reprimand submissions for not being pictures of dogs. Although sometimes the photos are of dogs, I want to create a column called WORD which captures whether or not the tweet text contains the phrase \"we only rate dogs\" in some manner. Sometimes the phrase is capitalized, sometimes not. \n",
    "\n",
    "I'll write a function which I can apply to each row and if the tweet contains some form of the phrase \"we only rate dogs\" return True to WORD column, False if it does not."
   ]
  },
  {
   "cell_type": "markdown",
   "metadata": {},
   "source": [
    "##### Code"
   ]
  },
  {
   "cell_type": "code",
   "execution_count": 376,
   "metadata": {},
   "outputs": [],
   "source": [
    "# Function accepts a series, returns True or False depending on whether phrase in tweet.\" \n",
    "def WORD_detector(tweety):\n",
    "    match = re.search(r'\\we\\.? \\wnly\\.? \\wate\\.? \\wogs\\.?', tweety)\n",
    "    # If-statement after search() tests if it succeeded\n",
    "    if match:\n",
    "        return True\n",
    "    else:\n",
    "        return False\n"
   ]
  },
  {
   "cell_type": "code",
   "execution_count": 377,
   "metadata": {},
   "outputs": [],
   "source": [
    "# Create empty series in arch_clean\n",
    "arch_clean['WORD'] = ''\n",
    "# Populate new series w/ boolean indicating presence of \"we only rate dogs\"\n",
    "arch_clean.WORD = arch_clean.text.apply(WORD_detector)"
   ]
  },
  {
   "cell_type": "markdown",
   "metadata": {},
   "source": [
    "##### Test"
   ]
  },
  {
   "cell_type": "code",
   "execution_count": 378,
   "metadata": {},
   "outputs": [
    {
     "data": {
      "text/plain": [
       "False    2040\n",
       "True     54  \n",
       "Name: WORD, dtype: int64"
      ]
     },
     "execution_count": 378,
     "metadata": {},
     "output_type": "execute_result"
    }
   ],
   "source": [
    "# How many tweets contain some version of this phrase?\n",
    "arch_clean.WORD.value_counts()"
   ]
  },
  {
   "cell_type": "code",
   "execution_count": 379,
   "metadata": {},
   "outputs": [
    {
     "data": {
      "text/html": [
       "<div>\n",
       "<style scoped>\n",
       "    .dataframe tbody tr th:only-of-type {\n",
       "        vertical-align: middle;\n",
       "    }\n",
       "\n",
       "    .dataframe tbody tr th {\n",
       "        vertical-align: top;\n",
       "    }\n",
       "\n",
       "    .dataframe thead th {\n",
       "        text-align: right;\n",
       "    }\n",
       "</style>\n",
       "<table border=\"1\" class=\"dataframe\">\n",
       "  <thead>\n",
       "    <tr style=\"text-align: right;\">\n",
       "      <th></th>\n",
       "      <th>text</th>\n",
       "      <th>WORD</th>\n",
       "    </tr>\n",
       "  </thead>\n",
       "  <tbody>\n",
       "    <tr>\n",
       "      <th>417</th>\n",
       "      <td>This is Luca. He got caught howling. H*ckin embarrassed. 12/10 https://t.co/r8DxA8DYJ2</td>\n",
       "      <td>False</td>\n",
       "    </tr>\n",
       "    <tr>\n",
       "      <th>1924</th>\n",
       "      <td>This is a heavily opinionated dog. Loves walls. Nobody knows how the hair works. Always ready for a kiss. 4/10 https://t.co/dFiaKZ9cDl</td>\n",
       "      <td>False</td>\n",
       "    </tr>\n",
       "    <tr>\n",
       "      <th>769</th>\n",
       "      <td>This is Finley. He's an independent doggo still adjusting to life on his own. 11/10 https://t.co/7FNcBaKbci</td>\n",
       "      <td>False</td>\n",
       "    </tr>\n",
       "    <tr>\n",
       "      <th>290</th>\n",
       "      <td>This is Meera. She just heard about taxes and how much a doghouse in a nice area costs. Not pupared to be a  doggo anymore. 12/10 https://t.co/GZmNEdyoJY</td>\n",
       "      <td>False</td>\n",
       "    </tr>\n",
       "    <tr>\n",
       "      <th>1954</th>\n",
       "      <td>This is Mac. His dad's probably a lawyer. 11/10 https://t.co/mjC0QpXGum</td>\n",
       "      <td>False</td>\n",
       "    </tr>\n",
       "    <tr>\n",
       "      <th>1929</th>\n",
       "      <td>This is Dot. He found out you only pretended to throw the ball that one time. You don't fuck with Dot. 8/10 https://t.co/Ymg4fwKlZd</td>\n",
       "      <td>False</td>\n",
       "    </tr>\n",
       "    <tr>\n",
       "      <th>1570</th>\n",
       "      <td>This pupper forgot how to walk. 12/10 happens to all of us (vid by @bbuckley96) https://t.co/KFTrkSOuu3</td>\n",
       "      <td>False</td>\n",
       "    </tr>\n",
       "    <tr>\n",
       "      <th>245</th>\n",
       "      <td>This is Luna. It's her first time outside and a bee stung her nose. Completely h*ckin uncalled for. 13/10 where's the bee I just wanna talk https://t.co/2RYiLGHuPN</td>\n",
       "      <td>False</td>\n",
       "    </tr>\n",
       "    <tr>\n",
       "      <th>1324</th>\n",
       "      <td>Here is a heartbreaking scene of an incredible pupper being laid to rest. 10/10 RIP pupper https://t.co/81mvJ0rGRu</td>\n",
       "      <td>False</td>\n",
       "    </tr>\n",
       "    <tr>\n",
       "      <th>1381</th>\n",
       "      <td>Take all my money. 10/10 https://t.co/B28ebc5LzQ</td>\n",
       "      <td>False</td>\n",
       "    </tr>\n",
       "  </tbody>\n",
       "</table>\n",
       "</div>"
      ],
      "text/plain": [
       "                                                                                                                                                                     text  \\\n",
       "417   This is Luca. He got caught howling. H*ckin embarrassed. 12/10 https://t.co/r8DxA8DYJ2                                                                                \n",
       "1924  This is a heavily opinionated dog. Loves walls. Nobody knows how the hair works. Always ready for a kiss. 4/10 https://t.co/dFiaKZ9cDl                                \n",
       "769   This is Finley. He's an independent doggo still adjusting to life on his own. 11/10 https://t.co/7FNcBaKbci                                                           \n",
       "290   This is Meera. She just heard about taxes and how much a doghouse in a nice area costs. Not pupared to be a  doggo anymore. 12/10 https://t.co/GZmNEdyoJY             \n",
       "1954  This is Mac. His dad's probably a lawyer. 11/10 https://t.co/mjC0QpXGum                                                                                               \n",
       "1929  This is Dot. He found out you only pretended to throw the ball that one time. You don't fuck with Dot. 8/10 https://t.co/Ymg4fwKlZd                                   \n",
       "1570  This pupper forgot how to walk. 12/10 happens to all of us (vid by @bbuckley96) https://t.co/KFTrkSOuu3                                                               \n",
       "245   This is Luna. It's her first time outside and a bee stung her nose. Completely h*ckin uncalled for. 13/10 where's the bee I just wanna talk https://t.co/2RYiLGHuPN   \n",
       "1324  Here is a heartbreaking scene of an incredible pupper being laid to rest. 10/10 RIP pupper https://t.co/81mvJ0rGRu                                                    \n",
       "1381  Take all my money. 10/10 https://t.co/B28ebc5LzQ                                                                                                                      \n",
       "\n",
       "       WORD  \n",
       "417   False  \n",
       "1924  False  \n",
       "769   False  \n",
       "290   False  \n",
       "1954  False  \n",
       "1929  False  \n",
       "1570  False  \n",
       "245   False  \n",
       "1324  False  \n",
       "1381  False  "
      ]
     },
     "execution_count": 379,
     "metadata": {},
     "output_type": "execute_result"
    }
   ],
   "source": [
    "# Examine sample of arch_clean\n",
    "samp = arch_clean[['text', 'WORD']].sample(10)\n",
    "samp"
   ]
  },
  {
   "cell_type": "markdown",
   "metadata": {},
   "source": [
    "### `archive`: Tweet text contains URL"
   ]
  },
  {
   "cell_type": "markdown",
   "metadata": {},
   "source": [
    "##### Define:\n",
    "Write function to accept the tweet text. Will append URL to a list (later to be added as a column in `arch_clean`) and return the tweet without the URL in it. Use `str.split()`."
   ]
  },
  {
   "cell_type": "markdown",
   "metadata": {},
   "source": [
    "##### Code:"
   ]
  },
  {
   "cell_type": "code",
   "execution_count": 380,
   "metadata": {},
   "outputs": [],
   "source": [
    "# Empty list to hold urls and np.NaN for tweets without urls\n",
    "url_list = []\n",
    "def url_fix(tweety):\n",
    "    # Search for http in the text\n",
    "    if 'http' in tweety:\n",
    "        # Split the tweet at http\n",
    "        x = tweety.split('http')\n",
    "        # Concatenate http with the rest of the url and append to list\n",
    "        url_list.append('http' + x[1])\n",
    "        # Return all the tweet text to the left of http\n",
    "        return x[0]\n",
    "    # If no url in link\n",
    "    else:\n",
    "        # Append a null to the list\n",
    "        url_list.append(np.NaN)\n",
    "        # Return the tweet unchanged.\n",
    "        return tweety\n"
   ]
  },
  {
   "cell_type": "code",
   "execution_count": 381,
   "metadata": {},
   "outputs": [],
   "source": [
    "# Apply function to text series\n",
    "arch_clean.text = arch_clean.text.apply(url_fix)"
   ]
  },
  {
   "cell_type": "code",
   "execution_count": 382,
   "metadata": {},
   "outputs": [],
   "source": [
    "# Create new series from url_list\n",
    "arch_clean['tweet_url'] = url_list"
   ]
  },
  {
   "cell_type": "markdown",
   "metadata": {},
   "source": [
    "##### Test"
   ]
  },
  {
   "cell_type": "code",
   "execution_count": 383,
   "metadata": {},
   "outputs": [
    {
     "data": {
      "text/html": [
       "<div>\n",
       "<style scoped>\n",
       "    .dataframe tbody tr th:only-of-type {\n",
       "        vertical-align: middle;\n",
       "    }\n",
       "\n",
       "    .dataframe tbody tr th {\n",
       "        vertical-align: top;\n",
       "    }\n",
       "\n",
       "    .dataframe thead th {\n",
       "        text-align: right;\n",
       "    }\n",
       "</style>\n",
       "<table border=\"1\" class=\"dataframe\">\n",
       "  <thead>\n",
       "    <tr style=\"text-align: right;\">\n",
       "      <th></th>\n",
       "      <th>text</th>\n",
       "      <th>tweet_url</th>\n",
       "    </tr>\n",
       "  </thead>\n",
       "  <tbody>\n",
       "    <tr>\n",
       "      <th>1228</th>\n",
       "      <td>Meet Roosevelt. He's calculating the best case scenario if he drops out instead of doing math hw. 11/10 relatable af</td>\n",
       "      <td>https://t.co/QcSIRDpfVg</td>\n",
       "    </tr>\n",
       "    <tr>\n",
       "      <th>1494</th>\n",
       "      <td>This is Bailey. She likes flowers. 12/10</td>\n",
       "      <td>https://t.co/YBENhr24FV</td>\n",
       "    </tr>\n",
       "    <tr>\n",
       "      <th>2258</th>\n",
       "      <td>Meet Cupcake. I would do unspeakable things for Cupcake. 11/10</td>\n",
       "      <td>https://t.co/6uLCWR9Efa</td>\n",
       "    </tr>\n",
       "    <tr>\n",
       "      <th>36</th>\n",
       "      <td>Here we have a corgi undercover as a malamute. Pawbably doing important investigative work. Zero control over tongue happenings. 13/10</td>\n",
       "      <td>https://t.co/44ItaMubBf</td>\n",
       "    </tr>\n",
       "    <tr>\n",
       "      <th>1904</th>\n",
       "      <td>This is Gus. He's super stoked about being an elephant. Couldn't be happier. 9/10 for elephant pupper</td>\n",
       "      <td>https://t.co/gJS1qU0jP7</td>\n",
       "    </tr>\n",
       "    <tr>\n",
       "      <th>1750</th>\n",
       "      <td>These little fellas have opposite facial expressions. Both 12/10</td>\n",
       "      <td>https://t.co/LmThv0GWen</td>\n",
       "    </tr>\n",
       "    <tr>\n",
       "      <th>1020</th>\n",
       "      <td>Say hello to Indie and Jupiter. They're having a stellar day out on the boat. Both 12/10 adorbz af</td>\n",
       "      <td>https://t.co/KgSEkrPA3r</td>\n",
       "    </tr>\n",
       "    <tr>\n",
       "      <th>1662</th>\n",
       "      <td>We normally don't rate bears but this one seems nice. Her name is Thea. Appears rather fluffy. 10/10 good bear</td>\n",
       "      <td>https://t.co/fZc7MixeeT</td>\n",
       "    </tr>\n",
       "    <tr>\n",
       "      <th>1413</th>\n",
       "      <td>Here's a pupper with a piece of pizza. Two of everybody's favorite things in one photo. 11/10</td>\n",
       "      <td>https://t.co/5USjFjKI7Z</td>\n",
       "    </tr>\n",
       "    <tr>\n",
       "      <th>1308</th>\n",
       "      <td>He was doing his best. 12/10 I'll be his lawyer\\n</td>\n",
       "      <td>https://t.co/WN4C6miCzR</td>\n",
       "    </tr>\n",
       "  </tbody>\n",
       "</table>\n",
       "</div>"
      ],
      "text/plain": [
       "                                                                                                                                         text  \\\n",
       "1228  Meet Roosevelt. He's calculating the best case scenario if he drops out instead of doing math hw. 11/10 relatable af                      \n",
       "1494  This is Bailey. She likes flowers. 12/10                                                                                                  \n",
       "2258  Meet Cupcake. I would do unspeakable things for Cupcake. 11/10                                                                            \n",
       "36    Here we have a corgi undercover as a malamute. Pawbably doing important investigative work. Zero control over tongue happenings. 13/10    \n",
       "1904  This is Gus. He's super stoked about being an elephant. Couldn't be happier. 9/10 for elephant pupper                                     \n",
       "1750  These little fellas have opposite facial expressions. Both 12/10                                                                          \n",
       "1020  Say hello to Indie and Jupiter. They're having a stellar day out on the boat. Both 12/10 adorbz af                                        \n",
       "1662  We normally don't rate bears but this one seems nice. Her name is Thea. Appears rather fluffy. 10/10 good bear                            \n",
       "1413  Here's a pupper with a piece of pizza. Two of everybody's favorite things in one photo. 11/10                                             \n",
       "1308  He was doing his best. 12/10 I'll be his lawyer\\n                                                                                         \n",
       "\n",
       "                    tweet_url  \n",
       "1228  https://t.co/QcSIRDpfVg  \n",
       "1494  https://t.co/YBENhr24FV  \n",
       "2258  https://t.co/6uLCWR9Efa  \n",
       "36    https://t.co/44ItaMubBf  \n",
       "1904  https://t.co/gJS1qU0jP7  \n",
       "1750  https://t.co/LmThv0GWen  \n",
       "1020  https://t.co/KgSEkrPA3r  \n",
       "1662  https://t.co/fZc7MixeeT  \n",
       "1413  https://t.co/5USjFjKI7Z  \n",
       "1308  https://t.co/WN4C6miCzR  "
      ]
     },
     "execution_count": 383,
     "metadata": {},
     "output_type": "execute_result"
    }
   ],
   "source": [
    "arch_clean[['text', 'tweet_url']].sample(10)"
   ]
  },
  {
   "cell_type": "code",
   "execution_count": 384,
   "metadata": {},
   "outputs": [
    {
     "data": {
      "text/plain": [
       "2094"
      ]
     },
     "execution_count": 384,
     "metadata": {},
     "output_type": "execute_result"
    }
   ],
   "source": [
    "len(arch_clean)"
   ]
  },
  {
   "cell_type": "markdown",
   "metadata": {},
   "source": [
    "### `image_preds`: Many predictions are lowercase and contain underscores"
   ]
  },
  {
   "cell_type": "code",
   "execution_count": 385,
   "metadata": {},
   "outputs": [
    {
     "data": {
      "text/html": [
       "<div>\n",
       "<style scoped>\n",
       "    .dataframe tbody tr th:only-of-type {\n",
       "        vertical-align: middle;\n",
       "    }\n",
       "\n",
       "    .dataframe tbody tr th {\n",
       "        vertical-align: top;\n",
       "    }\n",
       "\n",
       "    .dataframe thead th {\n",
       "        text-align: right;\n",
       "    }\n",
       "</style>\n",
       "<table border=\"1\" class=\"dataframe\">\n",
       "  <thead>\n",
       "    <tr style=\"text-align: right;\">\n",
       "      <th></th>\n",
       "      <th>tweet_id</th>\n",
       "      <th>jpg_url</th>\n",
       "      <th>img_num</th>\n",
       "      <th>order</th>\n",
       "      <th>prediction</th>\n",
       "      <th>confidence</th>\n",
       "      <th>accuracy</th>\n",
       "    </tr>\n",
       "  </thead>\n",
       "  <tbody>\n",
       "    <tr>\n",
       "      <th>442</th>\n",
       "      <td>668631377374486528</td>\n",
       "      <td>https://pbs.twimg.com/media/CUd0sSvWsAA85wO.jpg</td>\n",
       "      <td>1</td>\n",
       "      <td>2</td>\n",
       "      <td>Australian_terrier</td>\n",
       "      <td>0.022529</td>\n",
       "      <td>True</td>\n",
       "    </tr>\n",
       "    <tr>\n",
       "      <th>1133</th>\n",
       "      <td>673213039743795200</td>\n",
       "      <td>https://pbs.twimg.com/media/CVe7r7QVEAAc4Bg.jpg</td>\n",
       "      <td>1</td>\n",
       "      <td>3</td>\n",
       "      <td>kelpie</td>\n",
       "      <td>0.041398</td>\n",
       "      <td>True</td>\n",
       "    </tr>\n",
       "    <tr>\n",
       "      <th>2514</th>\n",
       "      <td>694352839993344000</td>\n",
       "      <td>https://pbs.twimg.com/media/CaLWOPfWkAAo2Dt.jpg</td>\n",
       "      <td>2</td>\n",
       "      <td>1</td>\n",
       "      <td>Australian_terrier</td>\n",
       "      <td>0.407886</td>\n",
       "      <td>True</td>\n",
       "    </tr>\n",
       "    <tr>\n",
       "      <th>3577</th>\n",
       "      <td>739979191639244800</td>\n",
       "      <td>https://pbs.twimg.com/media/CkTvJTdXAAAEfbT.jpg</td>\n",
       "      <td>1</td>\n",
       "      <td>2</td>\n",
       "      <td>wig</td>\n",
       "      <td>0.240653</td>\n",
       "      <td>False</td>\n",
       "    </tr>\n",
       "    <tr>\n",
       "      <th>2046</th>\n",
       "      <td>683834909291606017</td>\n",
       "      <td>https://pbs.twimg.com/ext_tw_video_thumb/683834825250320385/pu/img/yZdrqMlyky4KGOu6.jpg</td>\n",
       "      <td>1</td>\n",
       "      <td>1</td>\n",
       "      <td>Maltese_dog</td>\n",
       "      <td>0.738449</td>\n",
       "      <td>True</td>\n",
       "    </tr>\n",
       "  </tbody>\n",
       "</table>\n",
       "</div>"
      ],
      "text/plain": [
       "                tweet_id  \\\n",
       "442   668631377374486528   \n",
       "1133  673213039743795200   \n",
       "2514  694352839993344000   \n",
       "3577  739979191639244800   \n",
       "2046  683834909291606017   \n",
       "\n",
       "                                                                                      jpg_url  \\\n",
       "442   https://pbs.twimg.com/media/CUd0sSvWsAA85wO.jpg                                           \n",
       "1133  https://pbs.twimg.com/media/CVe7r7QVEAAc4Bg.jpg                                           \n",
       "2514  https://pbs.twimg.com/media/CaLWOPfWkAAo2Dt.jpg                                           \n",
       "3577  https://pbs.twimg.com/media/CkTvJTdXAAAEfbT.jpg                                           \n",
       "2046  https://pbs.twimg.com/ext_tw_video_thumb/683834825250320385/pu/img/yZdrqMlyky4KGOu6.jpg   \n",
       "\n",
       "      img_num  order          prediction  confidence  accuracy  \n",
       "442   1        2      Australian_terrier  0.022529    True      \n",
       "1133  1        3      kelpie              0.041398    True      \n",
       "2514  2        1      Australian_terrier  0.407886    True      \n",
       "3577  1        2      wig                 0.240653    False     \n",
       "2046  1        1      Maltese_dog         0.738449    True      "
      ]
     },
     "execution_count": 385,
     "metadata": {},
     "output_type": "execute_result"
    }
   ],
   "source": [
    "preds_clean.sample(5)"
   ]
  },
  {
   "cell_type": "markdown",
   "metadata": {},
   "source": [
    "##### Define\n",
    "Write function to apply to  `prediction` column: use `str.replace()` and `str.title()` to remove underscores and capitalize all predictions."
   ]
  },
  {
   "cell_type": "markdown",
   "metadata": {},
   "source": [
    "##### Code"
   ]
  },
  {
   "cell_type": "code",
   "execution_count": 386,
   "metadata": {},
   "outputs": [],
   "source": [
    "# Function\n",
    "def fix_preds(pred):\n",
    "    return pred.replace('_', ' ').title()"
   ]
  },
  {
   "cell_type": "code",
   "execution_count": 387,
   "metadata": {},
   "outputs": [],
   "source": [
    "# Apply function to prediction series\n",
    "preds_clean.prediction = preds_clean.prediction.apply(fix_preds)"
   ]
  },
  {
   "cell_type": "markdown",
   "metadata": {},
   "source": [
    "##### Test"
   ]
  },
  {
   "cell_type": "code",
   "execution_count": 388,
   "metadata": {},
   "outputs": [
    {
     "data": {
      "text/plain": [
       "0"
      ]
     },
     "execution_count": 388,
     "metadata": {},
     "output_type": "execute_result"
    }
   ],
   "source": [
    "# Are there any lowercase predictions left in column\n",
    "preds_clean.prediction.str.islower().sum()"
   ]
  },
  {
   "cell_type": "code",
   "execution_count": 389,
   "metadata": {},
   "outputs": [
    {
     "data": {
      "text/plain": [
       "1399    Golden Retriever  \n",
       "892     Tiger             \n",
       "4933    Labrador Retriever\n",
       "3768    Tibetan Terrier   \n",
       "3513    Cup               \n",
       "459     Beagle            \n",
       "779     Boston Bull       \n",
       "316     Siberian Husky    \n",
       "2882    Golden Retriever  \n",
       "1910    Assault Rifle     \n",
       "Name: prediction, dtype: object"
      ]
     },
     "execution_count": 389,
     "metadata": {},
     "output_type": "execute_result"
    }
   ],
   "source": [
    "preds_clean.prediction.sample(10)"
   ]
  },
  {
   "cell_type": "markdown",
   "metadata": {},
   "source": [
    "### `image_preds`:  There are fewer image_preds entries than there are tweets in the archive (perhaps a result of retweets, perhaps not)"
   ]
  },
  {
   "cell_type": "markdown",
   "metadata": {},
   "source": [
    "##### Define\n",
    "* Examine intersection of `preds_clean` and `arch_clean`.\n",
    "* Get list of `tweet_id`s in intersection of above dataframes.\n",
    "* Create sub-dataframe for each dataframe keeping only tweet data for tweet ids in both.\n",
    "* Will need to accommodate for duplicates in `preds_clean` using set()\n"
   ]
  },
  {
   "cell_type": "markdown",
   "metadata": {},
   "source": [
    "##### Code"
   ]
  },
  {
   "cell_type": "code",
   "execution_count": 390,
   "metadata": {},
   "outputs": [
    {
     "data": {
      "text/plain": [
       "(False, True)"
      ]
     },
     "execution_count": 390,
     "metadata": {},
     "output_type": "execute_result"
    }
   ],
   "source": [
    "# What is the overlap like for the set of tweets in both dataframes?\n",
    "p = list(set(preds_clean.tweet_id.tolist()))\n",
    "a = arch_clean.tweet_id.tolist()\n",
    "set(p).issubset(a), len(a) > len(p)"
   ]
  },
  {
   "cell_type": "markdown",
   "metadata": {},
   "source": [
    "We know that there are `tweet_ids` in `preds_clean` that are not in `arch_clean`, and vice versa (no duplicates in either and `len(a)` > `len(p)`)."
   ]
  },
  {
   "cell_type": "code",
   "execution_count": 391,
   "metadata": {},
   "outputs": [
    {
     "data": {
      "text/plain": [
       "(2075, 2094, 1968)"
      ]
     },
     "execution_count": 391,
     "metadata": {},
     "output_type": "execute_result"
    }
   ],
   "source": [
    "# Create a set that is the intersection of tweet_ids in a and p\n",
    "inter = set(p) & set(a)\n",
    "len(p), len(a), len(inter)"
   ]
  },
  {
   "cell_type": "markdown",
   "metadata": {},
   "source": [
    "There are 1968 tweets in common between the dataframes. We will keep those for both."
   ]
  },
  {
   "cell_type": "code",
   "execution_count": 392,
   "metadata": {},
   "outputs": [],
   "source": [
    "# Redefine preds_clean and arch_clean with only tweet info in both dataframes\n",
    "preds_clean = preds_clean[preds_clean['tweet_id'].isin(inter)]\n",
    "arch_clean = arch_clean[arch_clean['tweet_id'].isin(inter)]"
   ]
  },
  {
   "cell_type": "markdown",
   "metadata": {},
   "source": [
    "##### Test"
   ]
  },
  {
   "cell_type": "code",
   "execution_count": 393,
   "metadata": {},
   "outputs": [
    {
     "data": {
      "text/plain": [
       "(True, True)"
      ]
     },
     "execution_count": 393,
     "metadata": {},
     "output_type": "execute_result"
    }
   ],
   "source": [
    "# Are both sets of tweet_ids subsets of each other? If true, implies they are the same set\n",
    "set(arch_clean['tweet_id']).issubset(inter), set(preds_clean['tweet_id']).issubset(inter)"
   ]
  },
  {
   "cell_type": "code",
   "execution_count": 394,
   "metadata": {},
   "outputs": [
    {
     "data": {
      "text/plain": [
       "(1968, 1968.0)"
      ]
     },
     "execution_count": 394,
     "metadata": {},
     "output_type": "execute_result"
    }
   ],
   "source": [
    "# Check length of both dataframes\n",
    "len(arch_clean), len(preds_clean)/3"
   ]
  },
  {
   "cell_type": "markdown",
   "metadata": {},
   "source": [
    "## Save Cleaned Data"
   ]
  },
  {
   "cell_type": "code",
   "execution_count": 395,
   "metadata": {},
   "outputs": [],
   "source": [
    "arch_clean.to_csv('twitter_archive_master.csv', index=False)\n",
    "preds_clean.to_csv('image_predictions_master.csv', index=False)"
   ]
  },
  {
   "cell_type": "markdown",
   "metadata": {},
   "source": [
    "<a id='ref1'></a>\n",
    "\n",
    "# Wrangling References"
   ]
  },
  {
   "cell_type": "markdown",
   "metadata": {},
   "source": [
    "- [Tweepy for Python intro](https://www.pythoncentral.io/introduction-to-tweepy-twitter-for-python/)\n",
    "- [Create a twitter application](https://docs.inboundnow.com/guide/create-twitter-application/)\n",
    "- [Tweepy API documentation](http://docs.tweepy.org/en/3.7.0/api.html)\n",
    "- [Convert tweepy status object to JSON](https://stackoverflow.com/questions/27900451/convert-tweepy-status-object-into-json)\n",
    "- [Python documentation for open()](https://docs.python.org/3/library/functions.html#open)\n",
    "- [Create, then close file to free up resources](https://stackoverflow.com/questions/12654772/create-empty-file-using-python/12654798)\n",
    "- [Difference between .exists and .isfile](https://stackoverflow.com/questions/17752078/difference-between-os-path-exists-and-os-path-isfile-in-python)\n",
    "- [Write JSON data to txt file](https://stackoverflow.com/questions/12309269/how-do-i-write-json-data-to-a-file)\n",
    "- [JSON data structure overview](https://www.w3resource.com/JSON/structures.php)\n",
    "- [Add new keys to dictionary](https://stackoverflow.com/questions/1024847/add-new-keys-to-a-dictionary)\n",
    "- [What are Twitter rate limits?](https://support.onelouder.com/hc/en-us/articles/203931090-Why-am-I-getting-a-rate-limit-)\n",
    "- [DataFrame indexing](https://brohrer.github.io/dataframe_indexing.html)\n",
    "- [Counting occurrances in a list](https://stackoverflow.com/questions/2600191/how-can-i-count-the-occurrences-of-a-list-item)\n",
    "- [List of Indices](https://stackoverflow.com/questions/55270808/append-index-element-to-list-if-condition-is-met-pandas-and-python/55270831#55270831)\n",
    "- [pd.wide_to_long Stack Overflow](https://stackoverflow.com/questions/50103549/melt-group-of-columns-into-target-columns-by-name)\n",
    "- [pd.wide_to_long Documentation](https://pandas.pydata.org/pandas-docs/stable/reference/api/pandas.wide_to_long.html)"
   ]
  },
  {
   "cell_type": "markdown",
   "metadata": {},
   "source": [
    "# Analysis"
   ]
  },
  {
   "cell_type": "code",
   "execution_count": 396,
   "metadata": {},
   "outputs": [],
   "source": [
    "archive = arch_clean.copy()\n",
    "predictions = preds_clean.copy()"
   ]
  },
  {
   "cell_type": "markdown",
   "metadata": {},
   "source": [
    "The Association of Vastly Superior House Cats (AVSHC) has commissioned a report. They recently recieved news that dogs are more popular than cats among humans. They hope the insights from the report will guide their future plans to retake their rightful place at the top of the common pet hierarchy."
   ]
  },
  {
   "cell_type": "markdown",
   "metadata": {},
   "source": [
    "### 1. Should cats change their names and embrace human slang?\n",
    "##### Most popular names\n"
   ]
  },
  {
   "cell_type": "code",
   "execution_count": 397,
   "metadata": {},
   "outputs": [
    {
     "data": {
      "text/plain": [
       "Lucy       10\n",
       "Oliver     10\n",
       "Charlie    10\n",
       "Cooper     10\n",
       "Penny      9 \n",
       "Tucker     9 \n",
       "Sadie      8 \n",
       "Winston    8 \n",
       "Lola       7 \n",
       "Daisy      7 \n",
       "Name: name, dtype: int64"
      ]
     },
     "execution_count": 397,
     "metadata": {},
     "output_type": "execute_result"
    }
   ],
   "source": [
    "archive.name.value_counts().head(10)"
   ]
  },
  {
   "cell_type": "markdown",
   "metadata": {},
   "source": [
    "##### Doggo lingo "
   ]
  },
  {
   "cell_type": "markdown",
   "metadata": {},
   "source": [
    "### 2. Is there a relationship between retweet and favorite count?"
   ]
  },
  {
   "cell_type": "markdown",
   "metadata": {},
   "source": [
    "##### Retweets and favorites"
   ]
  },
  {
   "cell_type": "code",
   "execution_count": 398,
   "metadata": {},
   "outputs": [
    {
     "name": "stderr",
     "output_type": "stream",
     "text": [
      "/anaconda3/lib/python3.7/site-packages/scipy/stats/stats.py:1713: FutureWarning: Using a non-tuple sequence for multidimensional indexing is deprecated; use `arr[tuple(seq)]` instead of `arr[seq]`. In the future this will be interpreted as an array index, `arr[np.array(seq)]`, which will result either in an error or a different result.\n",
      "  return np.add.reduce(sorted[indexer] * weights, axis=axis) / sumval\n"
     ]
    },
    {
     "data": {
      "image/png": "[encoded data removed]",
      "text/plain": [
       "<Figure size 360x360 with 1 Axes>"
      ]
     },
     "metadata": {
      "needs_background": "light"
     },
     "output_type": "display_data"
    }
   ],
   "source": [
    "# Plot number of retweets agains number of favorites\n",
    "sns.lmplot(x='retweet_count', y='favorite_count', data=archive)\n",
    "ax = plt.gca()\n",
    "ax.set_title('Retweets and Favorites');"
   ]
  },
  {
   "cell_type": "code",
   "execution_count": 399,
   "metadata": {},
   "outputs": [
    {
     "name": "stdout",
     "output_type": "stream",
     "text": [
      "[[1.         0.92978349]\n",
      " [0.92978349 1.        ]]\n"
     ]
    }
   ],
   "source": [
    "# Print correlation coefficient for retweets and favorites\n",
    "print(np.corrcoef(archive['retweet_count'], archive['favorite_count']))"
   ]
  },
  {
   "cell_type": "markdown",
   "metadata": {},
   "source": [
    ">Favorites and retweets have a very strong positive correlation (0.93). It makes logical sense: when a person enjoys a tweet, they're probably more likely to share it with their followers."
   ]
  },
  {
   "cell_type": "markdown",
   "metadata": {},
   "source": [
    "### 3. Do humans care about mathematical integrity?"
   ]
  },
  {
   "cell_type": "markdown",
   "metadata": {},
   "source": [
    "##### Rating ratios and tweet performance"
   ]
  },
  {
   "cell_type": "code",
   "execution_count": 400,
   "metadata": {},
   "outputs": [],
   "source": [
    "# Create new series with the ratio of numerator to denominator\n",
    "# Create new series summing retweet and favorite count for each tweet\n",
    "archive['rate_prop'] = archive['rating_numerator'] / archive['rating_denominator']\n",
    "archive['rt_fav_total'] = archive['retweet_count'] + archive['favorite_count']"
   ]
  },
  {
   "cell_type": "code",
   "execution_count": 401,
   "metadata": {},
   "outputs": [
    {
     "data": {
      "text/plain": [
       "(1137, 831)"
      ]
     },
     "execution_count": 401,
     "metadata": {},
     "output_type": "execute_result"
    }
   ],
   "source": [
    "# Check sizes of sub-samples\n",
    "len(archive[archive['rate_prop'] > 1]), len(archive[archive['rate_prop'] <= 1])"
   ]
  },
  {
   "cell_type": "markdown",
   "metadata": {},
   "source": [
    "##### Set up hypothesis test and bootstrapping\n",
    "I'm interested in studying whether the average number of positive reactions for ratings > 1 is greater than the average number of positive reactions for ratings <= 1. This will form my null and alternative hypotheses, stated below. A \"positive action\" is an action taken by a twitter user intended to share or show appreciation of post (a favorite or a retweet. Granted, a retweet does not necessily imply appreciation, but given the light-hearted nature of this account, I'm lumping both actions into a positive category.\n",
    "\n",
    "$\\mu_{G1}, \\mu_{LE1}$: average number of positive reactions for tweets with rating > 1, tweets with rating <= 1, respectively\n",
    "\n",
    "\n",
    "\n",
    "**$H_{0}: \\mu_{G1} - \\mu_{LE1} \\leq 0$**  (tweets with ratings > 1 earn a smaller or equal number of + reactions on average)\n",
    "\n",
    "**$H_{1}: \\mu_{G1} - \\mu_{LE1} > 0$**  (tweets with ratings > 1 earn a greater number of + reactions on average)"
   ]
  },
  {
   "cell_type": "code",
   "execution_count": 402,
   "metadata": {},
   "outputs": [
    {
     "data": {
      "text/html": [
       "<div>\n",
       "<style scoped>\n",
       "    .dataframe tbody tr th:only-of-type {\n",
       "        vertical-align: middle;\n",
       "    }\n",
       "\n",
       "    .dataframe tbody tr th {\n",
       "        vertical-align: top;\n",
       "    }\n",
       "\n",
       "    .dataframe thead th {\n",
       "        text-align: right;\n",
       "    }\n",
       "</style>\n",
       "<table border=\"1\" class=\"dataframe\">\n",
       "  <thead>\n",
       "    <tr style=\"text-align: right;\">\n",
       "      <th></th>\n",
       "      <th>retweet_count</th>\n",
       "      <th>favorite_count</th>\n",
       "      <th>rt_fav_total</th>\n",
       "      <th>rate_prop</th>\n",
       "    </tr>\n",
       "  </thead>\n",
       "  <tbody>\n",
       "    <tr>\n",
       "      <th>0</th>\n",
       "      <td>8231</td>\n",
       "      <td>37782</td>\n",
       "      <td>46013</td>\n",
       "      <td>1.3</td>\n",
       "    </tr>\n",
       "    <tr>\n",
       "      <th>1</th>\n",
       "      <td>6083</td>\n",
       "      <td>32454</td>\n",
       "      <td>38537</td>\n",
       "      <td>1.3</td>\n",
       "    </tr>\n",
       "    <tr>\n",
       "      <th>2</th>\n",
       "      <td>4026</td>\n",
       "      <td>24436</td>\n",
       "      <td>28462</td>\n",
       "      <td>1.2</td>\n",
       "    </tr>\n",
       "    <tr>\n",
       "      <th>3</th>\n",
       "      <td>8389</td>\n",
       "      <td>41114</td>\n",
       "      <td>49503</td>\n",
       "      <td>1.3</td>\n",
       "    </tr>\n",
       "    <tr>\n",
       "      <th>4</th>\n",
       "      <td>9088</td>\n",
       "      <td>39322</td>\n",
       "      <td>48410</td>\n",
       "      <td>1.2</td>\n",
       "    </tr>\n",
       "  </tbody>\n",
       "</table>\n",
       "</div>"
      ],
      "text/plain": [
       "   retweet_count  favorite_count  rt_fav_total  rate_prop\n",
       "0  8231           37782           46013         1.3      \n",
       "1  6083           32454           38537         1.3      \n",
       "2  4026           24436           28462         1.2      \n",
       "3  8389           41114           49503         1.3      \n",
       "4  9088           39322           48410         1.2      "
      ]
     },
     "execution_count": 402,
     "metadata": {},
     "output_type": "execute_result"
    }
   ],
   "source": [
    "# Simplify archive to minimize load\n",
    "df = archive[['retweet_count', 'favorite_count', 'rt_fav_total', 'rate_prop']]\n",
    "df.head()"
   ]
  },
  {
   "cell_type": "code",
   "execution_count": 403,
   "metadata": {},
   "outputs": [
    {
     "data": {
      "text/plain": [
       "(16327.4, 4551.2)"
      ]
     },
     "execution_count": 403,
     "metadata": {},
     "output_type": "execute_result"
    }
   ],
   "source": [
    "# Get average number of positive reactions for each group\n",
    "obs_G1_mean = df.query('rate_prop > 1').rt_fav_total.mean()\n",
    "obs_LE1_mean = df.query('rate_prop <= 1').rt_fav_total.mean()\n",
    "\n",
    "# Display average positive reactions\n",
    "round(obs_G1_mean,1), round(obs_LE1_mean,1)\n"
   ]
  },
  {
   "cell_type": "code",
   "execution_count": 404,
   "metadata": {},
   "outputs": [
    {
     "data": {
      "text/plain": [
       "11776.1"
      ]
     },
     "execution_count": 404,
     "metadata": {},
     "output_type": "execute_result"
    }
   ],
   "source": [
    "# Store and display observed difference in averages\n",
    "obs_mean_diff = obs_G1_mean - obs_LE1_mean\n",
    "round(obs_mean_diff,1)"
   ]
  },
  {
   "cell_type": "code",
   "execution_count": 405,
   "metadata": {},
   "outputs": [],
   "source": [
    "# Create a sampling distribution of the difference in means using bootstrapping method\n",
    "diffs = []\n",
    "size = df.shape[0]\n",
    "for _ in range(10000):\n",
    "    b_samp = df.sample(size, replace=True)\n",
    "    G1_mean = b_samp.query('rate_prop > 1').rt_fav_total.mean()\n",
    "    LE1_mean = b_samp.query('rate_prop <= 1').rt_fav_total.mean()\n",
    "    diffs.append(G1_mean - LE1_mean)"
   ]
  },
  {
   "cell_type": "code",
   "execution_count": 406,
   "metadata": {},
   "outputs": [],
   "source": [
    "# Convert to numpy array\n",
    "diffs = np.array(diffs)"
   ]
  },
  {
   "cell_type": "code",
   "execution_count": 407,
   "metadata": {},
   "outputs": [
    {
     "data": {
      "image/png": "[encoded data removed]",
      "text/plain": [
       "<Figure size 432x288 with 1 Axes>"
      ]
     },
     "metadata": {
      "needs_background": "light"
     },
     "output_type": "display_data"
    }
   ],
   "source": [
    "# Histogram simulated under the null hypothesis plotted with the observed difference\n",
    "plt.hist(null_vals, alpha=0.5)\n",
    "plt.title(\"Differences in Mean Positive Actions (Simulated Under Null)\")\n",
    "plt.xlabel(\"\\n Difference in Mean Positive Actions\")\n",
    "plt.axvline(obs_mean_diff, color='red');"
   ]
  },
  {
   "cell_type": "code",
   "execution_count": 408,
   "metadata": {},
   "outputs": [
    {
     "data": {
      "text/plain": [
       "0.0"
      ]
     },
     "execution_count": 408,
     "metadata": {},
     "output_type": "execute_result"
    }
   ],
   "source": [
    "# Compute p-value\n",
    "(null_vals > obs_mean_diff).mean()"
   ]
  },
  {
   "cell_type": "markdown",
   "metadata": {},
   "source": [
    "> We have evidence, with a 0.05 p-value, to reject the null hypothesis that tweets with rating ratios greater than 1 earn a smaller or equal number of + reactions on average when compared to tweets with rating ratios less than or equal to 1."
   ]
  },
  {
   "cell_type": "markdown",
   "metadata": {},
   "source": [
    "### 4. Image predictions"
   ]
  },
  {
   "cell_type": "markdown",
   "metadata": {},
   "source": [
    "##### Cats or dogs\n",
    "A little exploration revealed that sometimes the algorithm thinks that the animal in the image is a type of cat, inlcuding Polecat, Cat, Lion, Tiger, Tiger Cat, Egyptian Cat, Madagascar Cat, Persian Cat, or Siamese Cat."
   ]
  },
  {
   "cell_type": "code",
   "execution_count": 409,
   "metadata": {},
   "outputs": [],
   "source": [
    "felines = ['Polecat', 'Cat', 'Lion', 'Tiger', \n",
    "           'Tiger Cat', 'Egyptian Cat', 'Madagascar Cat', 'Persian Cat', 'Siamese Cat']\n",
    "cat_preds = predictions[predictions['prediction'].isin(felines)]\n"
   ]
  },
  {
   "cell_type": "code",
   "execution_count": 410,
   "metadata": {},
   "outputs": [
    {
     "data": {
      "text/html": [
       "<div>\n",
       "<style scoped>\n",
       "    .dataframe tbody tr th:only-of-type {\n",
       "        vertical-align: middle;\n",
       "    }\n",
       "\n",
       "    .dataframe tbody tr th {\n",
       "        vertical-align: top;\n",
       "    }\n",
       "\n",
       "    .dataframe thead th {\n",
       "        text-align: right;\n",
       "    }\n",
       "</style>\n",
       "<table border=\"1\" class=\"dataframe\">\n",
       "  <thead>\n",
       "    <tr style=\"text-align: right;\">\n",
       "      <th></th>\n",
       "      <th>tweet_id</th>\n",
       "      <th>jpg_url</th>\n",
       "      <th>img_num</th>\n",
       "      <th>order</th>\n",
       "      <th>prediction</th>\n",
       "      <th>confidence</th>\n",
       "      <th>accuracy</th>\n",
       "    </tr>\n",
       "  </thead>\n",
       "  <tbody>\n",
       "    <tr>\n",
       "      <th>598</th>\n",
       "      <td>669661792646373376</td>\n",
       "      <td>https://pbs.twimg.com/media/CUsd2TfWwAAmdjb.jpg</td>\n",
       "      <td>1</td>\n",
       "      <td>2</td>\n",
       "      <td>Siamese Cat</td>\n",
       "      <td>0.148263</td>\n",
       "      <td>False</td>\n",
       "    </tr>\n",
       "    <tr>\n",
       "      <th>761</th>\n",
       "      <td>670727704916926465</td>\n",
       "      <td>https://pbs.twimg.com/media/CU7nSZEW4AA6r5u.jpg</td>\n",
       "      <td>1</td>\n",
       "      <td>3</td>\n",
       "      <td>Egyptian Cat</td>\n",
       "      <td>0.154914</td>\n",
       "      <td>False</td>\n",
       "    </tr>\n",
       "    <tr>\n",
       "      <th>823</th>\n",
       "      <td>670833812859932673</td>\n",
       "      <td>https://pbs.twimg.com/media/CU9HyzSWIAAVcte.jpg</td>\n",
       "      <td>1</td>\n",
       "      <td>2</td>\n",
       "      <td>Persian Cat</td>\n",
       "      <td>0.265442</td>\n",
       "      <td>False</td>\n",
       "    </tr>\n",
       "    <tr>\n",
       "      <th>892</th>\n",
       "      <td>671390180817915904</td>\n",
       "      <td>https://pbs.twimg.com/media/CVFBzpXVEAAHIOv.jpg</td>\n",
       "      <td>1</td>\n",
       "      <td>2</td>\n",
       "      <td>Tiger</td>\n",
       "      <td>0.000837</td>\n",
       "      <td>False</td>\n",
       "    </tr>\n",
       "    <tr>\n",
       "      <th>1037</th>\n",
       "      <td>672272411274932228</td>\n",
       "      <td>https://pbs.twimg.com/media/CVRkLuJWUAAhhYp.jpg</td>\n",
       "      <td>2</td>\n",
       "      <td>3</td>\n",
       "      <td>Siamese Cat</td>\n",
       "      <td>0.009221</td>\n",
       "      <td>False</td>\n",
       "    </tr>\n",
       "    <tr>\n",
       "      <th>1056</th>\n",
       "      <td>672538107540070400</td>\n",
       "      <td>https://pbs.twimg.com/media/CVVV1wJWoAEcOyk.jpg</td>\n",
       "      <td>1</td>\n",
       "      <td>1</td>\n",
       "      <td>Siamese Cat</td>\n",
       "      <td>0.383937</td>\n",
       "      <td>False</td>\n",
       "    </tr>\n",
       "    <tr>\n",
       "      <th>1222</th>\n",
       "      <td>673709992831262724</td>\n",
       "      <td>https://pbs.twimg.com/media/CVl_qbjW4AA8Mam.jpg</td>\n",
       "      <td>1</td>\n",
       "      <td>2</td>\n",
       "      <td>Siamese Cat</td>\n",
       "      <td>0.181580</td>\n",
       "      <td>False</td>\n",
       "    </tr>\n",
       "    <tr>\n",
       "      <th>1253</th>\n",
       "      <td>674024893172875264</td>\n",
       "      <td>https://pbs.twimg.com/media/CVqeEKLW4AA1wXH.jpg</td>\n",
       "      <td>1</td>\n",
       "      <td>3</td>\n",
       "      <td>Persian Cat</td>\n",
       "      <td>0.006448</td>\n",
       "      <td>False</td>\n",
       "    </tr>\n",
       "    <tr>\n",
       "      <th>1370</th>\n",
       "      <td>674774481756377088</td>\n",
       "      <td>https://pbs.twimg.com/media/CV1HztsWoAAuZwo.jpg</td>\n",
       "      <td>1</td>\n",
       "      <td>3</td>\n",
       "      <td>Siamese Cat</td>\n",
       "      <td>0.227677</td>\n",
       "      <td>False</td>\n",
       "    </tr>\n",
       "    <tr>\n",
       "      <th>1606</th>\n",
       "      <td>676942428000112642</td>\n",
       "      <td>https://pbs.twimg.com/media/CWT7imQXIAMwpQ2.jpg</td>\n",
       "      <td>1</td>\n",
       "      <td>2</td>\n",
       "      <td>Polecat</td>\n",
       "      <td>0.154630</td>\n",
       "      <td>False</td>\n",
       "    </tr>\n",
       "    <tr>\n",
       "      <th>1963</th>\n",
       "      <td>682059653698686977</td>\n",
       "      <td>https://pbs.twimg.com/media/CXcpovWWMAAMcfv.jpg</td>\n",
       "      <td>2</td>\n",
       "      <td>2</td>\n",
       "      <td>Siamese Cat</td>\n",
       "      <td>0.000781</td>\n",
       "      <td>False</td>\n",
       "    </tr>\n",
       "    <tr>\n",
       "      <th>2090</th>\n",
       "      <td>684481074559381504</td>\n",
       "      <td>https://pbs.twimg.com/media/CX_D6AJWwAAnBIw.jpg</td>\n",
       "      <td>1</td>\n",
       "      <td>3</td>\n",
       "      <td>Polecat</td>\n",
       "      <td>0.017357</td>\n",
       "      <td>False</td>\n",
       "    </tr>\n",
       "    <tr>\n",
       "      <th>2114</th>\n",
       "      <td>684926975086034944</td>\n",
       "      <td>https://pbs.twimg.com/media/CYFZXdiU0AAc_kw.jpg</td>\n",
       "      <td>1</td>\n",
       "      <td>3</td>\n",
       "      <td>Lion</td>\n",
       "      <td>0.021440</td>\n",
       "      <td>False</td>\n",
       "    </tr>\n",
       "    <tr>\n",
       "      <th>2435</th>\n",
       "      <td>692417313023332352</td>\n",
       "      <td>https://pbs.twimg.com/media/CZv13u5WYAA6wQe.jpg</td>\n",
       "      <td>1</td>\n",
       "      <td>3</td>\n",
       "      <td>Polecat</td>\n",
       "      <td>0.144494</td>\n",
       "      <td>False</td>\n",
       "    </tr>\n",
       "    <tr>\n",
       "      <th>2482</th>\n",
       "      <td>693486665285931008</td>\n",
       "      <td>https://pbs.twimg.com/ext_tw_video_thumb/693486485266247680/pu/img/KhapmUYPQTpbwNf8.jpg</td>\n",
       "      <td>1</td>\n",
       "      <td>2</td>\n",
       "      <td>Siamese Cat</td>\n",
       "      <td>0.290971</td>\n",
       "      <td>False</td>\n",
       "    </tr>\n",
       "    <tr>\n",
       "      <th>2486</th>\n",
       "      <td>693590843962331137</td>\n",
       "      <td>https://pbs.twimg.com/media/CaAhMb1XEAAB6Bz.jpg</td>\n",
       "      <td>1</td>\n",
       "      <td>3</td>\n",
       "      <td>Siamese Cat</td>\n",
       "      <td>0.098256</td>\n",
       "      <td>False</td>\n",
       "    </tr>\n",
       "    <tr>\n",
       "      <th>2584</th>\n",
       "      <td>697242256848379904</td>\n",
       "      <td>https://pbs.twimg.com/media/Ca0aIR9WcAAHiPy.jpg</td>\n",
       "      <td>1</td>\n",
       "      <td>2</td>\n",
       "      <td>Siamese Cat</td>\n",
       "      <td>0.165791</td>\n",
       "      <td>False</td>\n",
       "    </tr>\n",
       "    <tr>\n",
       "      <th>2601</th>\n",
       "      <td>697575480820686848</td>\n",
       "      <td>https://pbs.twimg.com/media/Ca5JMvMUsAAGMll.jpg</td>\n",
       "      <td>1</td>\n",
       "      <td>1</td>\n",
       "      <td>Siamese Cat</td>\n",
       "      <td>0.256698</td>\n",
       "      <td>False</td>\n",
       "    </tr>\n",
       "    <tr>\n",
       "      <th>2780</th>\n",
       "      <td>702598099714314240</td>\n",
       "      <td>https://pbs.twimg.com/media/CcAhPevW8AAoknv.jpg</td>\n",
       "      <td>1</td>\n",
       "      <td>3</td>\n",
       "      <td>Siamese Cat</td>\n",
       "      <td>0.074440</td>\n",
       "      <td>False</td>\n",
       "    </tr>\n",
       "    <tr>\n",
       "      <th>2839</th>\n",
       "      <td>704499785726889984</td>\n",
       "      <td>https://pbs.twimg.com/media/Ccbi0UGWoAA4fwg.jpg</td>\n",
       "      <td>1</td>\n",
       "      <td>2</td>\n",
       "      <td>Siamese Cat</td>\n",
       "      <td>0.098057</td>\n",
       "      <td>False</td>\n",
       "    </tr>\n",
       "    <tr>\n",
       "      <th>2841</th>\n",
       "      <td>704761120771465216</td>\n",
       "      <td>https://pbs.twimg.com/media/CcfQgHVWoAAxauy.jpg</td>\n",
       "      <td>1</td>\n",
       "      <td>1</td>\n",
       "      <td>Siamese Cat</td>\n",
       "      <td>0.202294</td>\n",
       "      <td>False</td>\n",
       "    </tr>\n",
       "    <tr>\n",
       "      <th>2862</th>\n",
       "      <td>705223444686888960</td>\n",
       "      <td>https://pbs.twimg.com/media/Ccl0-HVVAAAf8aK.jpg</td>\n",
       "      <td>1</td>\n",
       "      <td>1</td>\n",
       "      <td>Egyptian Cat</td>\n",
       "      <td>0.090508</td>\n",
       "      <td>False</td>\n",
       "    </tr>\n",
       "    <tr>\n",
       "      <th>2975</th>\n",
       "      <td>708026248782585858</td>\n",
       "      <td>https://pbs.twimg.com/ext_tw_video_thumb/708026062568087553/pu/img/rNhylAwIfb6YthGu.jpg</td>\n",
       "      <td>1</td>\n",
       "      <td>3</td>\n",
       "      <td>Siamese Cat</td>\n",
       "      <td>0.029304</td>\n",
       "      <td>False</td>\n",
       "    </tr>\n",
       "    <tr>\n",
       "      <th>3260</th>\n",
       "      <td>718631497683582976</td>\n",
       "      <td>https://pbs.twimg.com/media/CfkXiX6W4AAmICF.jpg</td>\n",
       "      <td>1</td>\n",
       "      <td>3</td>\n",
       "      <td>Persian Cat</td>\n",
       "      <td>0.000525</td>\n",
       "      <td>False</td>\n",
       "    </tr>\n",
       "    <tr>\n",
       "      <th>3330</th>\n",
       "      <td>724004602748780546</td>\n",
       "      <td>https://pbs.twimg.com/media/CgwuWCeW4AAsgbD.jpg</td>\n",
       "      <td>3</td>\n",
       "      <td>1</td>\n",
       "      <td>Siamese Cat</td>\n",
       "      <td>0.950526</td>\n",
       "      <td>False</td>\n",
       "    </tr>\n",
       "    <tr>\n",
       "      <th>3399</th>\n",
       "      <td>728409960103686147</td>\n",
       "      <td>https://pbs.twimg.com/media/ChvU_DwWMAArx5L.jpg</td>\n",
       "      <td>1</td>\n",
       "      <td>1</td>\n",
       "      <td>Siamese Cat</td>\n",
       "      <td>0.478278</td>\n",
       "      <td>False</td>\n",
       "    </tr>\n",
       "    <tr>\n",
       "      <th>3441</th>\n",
       "      <td>730924654643314689</td>\n",
       "      <td>https://pbs.twimg.com/media/CiTEFjDXAAAqU6I.jpg</td>\n",
       "      <td>1</td>\n",
       "      <td>1</td>\n",
       "      <td>Polecat</td>\n",
       "      <td>0.185382</td>\n",
       "      <td>False</td>\n",
       "    </tr>\n",
       "    <tr>\n",
       "      <th>3593</th>\n",
       "      <td>740676976021798912</td>\n",
       "      <td>https://pbs.twimg.com/media/Ckdpx5KWsAANF6b.jpg</td>\n",
       "      <td>1</td>\n",
       "      <td>3</td>\n",
       "      <td>Siamese Cat</td>\n",
       "      <td>0.043559</td>\n",
       "      <td>False</td>\n",
       "    </tr>\n",
       "    <tr>\n",
       "      <th>3599</th>\n",
       "      <td>740711788199743490</td>\n",
       "      <td>https://pbs.twimg.com/media/CkeJcNkXEAAcrks.jpg</td>\n",
       "      <td>1</td>\n",
       "      <td>3</td>\n",
       "      <td>Persian Cat</td>\n",
       "      <td>0.049656</td>\n",
       "      <td>False</td>\n",
       "    </tr>\n",
       "    <tr>\n",
       "      <th>3618</th>\n",
       "      <td>742150209887731712</td>\n",
       "      <td>https://pbs.twimg.com/media/CkylrVWWsAAiXJE.jpg</td>\n",
       "      <td>1</td>\n",
       "      <td>1</td>\n",
       "      <td>Siamese Cat</td>\n",
       "      <td>0.112413</td>\n",
       "      <td>False</td>\n",
       "    </tr>\n",
       "    <tr>\n",
       "      <th>3884</th>\n",
       "      <td>751830394383790080</td>\n",
       "      <td>https://pbs.twimg.com/media/Cm8JwBqW8AAFOEn.jpg</td>\n",
       "      <td>1</td>\n",
       "      <td>3</td>\n",
       "      <td>Siamese Cat</td>\n",
       "      <td>0.045959</td>\n",
       "      <td>False</td>\n",
       "    </tr>\n",
       "    <tr>\n",
       "      <th>3962</th>\n",
       "      <td>756288534030475264</td>\n",
       "      <td>https://pbs.twimg.com/media/Cn7gaHrWIAAZJMt.jpg</td>\n",
       "      <td>3</td>\n",
       "      <td>3</td>\n",
       "      <td>Tiger Cat</td>\n",
       "      <td>0.006679</td>\n",
       "      <td>False</td>\n",
       "    </tr>\n",
       "    <tr>\n",
       "      <th>3998</th>\n",
       "      <td>757725642876129280</td>\n",
       "      <td>https://pbs.twimg.com/media/CoP7c4bWcAAr55g.jpg</td>\n",
       "      <td>2</td>\n",
       "      <td>3</td>\n",
       "      <td>Siamese Cat</td>\n",
       "      <td>0.091241</td>\n",
       "      <td>False</td>\n",
       "    </tr>\n",
       "    <tr>\n",
       "      <th>4010</th>\n",
       "      <td>758355060040593408</td>\n",
       "      <td>https://pbs.twimg.com/media/CoY324eWYAEiDOG.jpg</td>\n",
       "      <td>1</td>\n",
       "      <td>3</td>\n",
       "      <td>Siamese Cat</td>\n",
       "      <td>0.000117</td>\n",
       "      <td>False</td>\n",
       "    </tr>\n",
       "    <tr>\n",
       "      <th>4114</th>\n",
       "      <td>762316489655476224</td>\n",
       "      <td>https://pbs.twimg.com/media/CpRKzZKWAAABGh7.jpg</td>\n",
       "      <td>1</td>\n",
       "      <td>2</td>\n",
       "      <td>Madagascar Cat</td>\n",
       "      <td>0.076187</td>\n",
       "      <td>False</td>\n",
       "    </tr>\n",
       "    <tr>\n",
       "      <th>4191</th>\n",
       "      <td>768193404517830656</td>\n",
       "      <td>https://pbs.twimg.com/media/Cqkr0wiW8AAn2Oi.jpg</td>\n",
       "      <td>1</td>\n",
       "      <td>1</td>\n",
       "      <td>Lion</td>\n",
       "      <td>0.396984</td>\n",
       "      <td>False</td>\n",
       "    </tr>\n",
       "    <tr>\n",
       "      <th>4230</th>\n",
       "      <td>770655142660169732</td>\n",
       "      <td>https://pbs.twimg.com/media/CrHqwjWXgAAgJSe.jpg</td>\n",
       "      <td>1</td>\n",
       "      <td>1</td>\n",
       "      <td>Madagascar Cat</td>\n",
       "      <td>0.494803</td>\n",
       "      <td>False</td>\n",
       "    </tr>\n",
       "    <tr>\n",
       "      <th>4501</th>\n",
       "      <td>783839966405230592</td>\n",
       "      <td>https://pbs.twimg.com/media/CuDCSM-XEAAJw1W.jpg</td>\n",
       "      <td>1</td>\n",
       "      <td>2</td>\n",
       "      <td>Siamese Cat</td>\n",
       "      <td>0.136245</td>\n",
       "      <td>False</td>\n",
       "    </tr>\n",
       "    <tr>\n",
       "      <th>4546</th>\n",
       "      <td>786709082849828864</td>\n",
       "      <td>https://pbs.twimg.com/media/CurzvFTXgAA2_AP.jpg</td>\n",
       "      <td>1</td>\n",
       "      <td>2</td>\n",
       "      <td>Persian Cat</td>\n",
       "      <td>0.122978</td>\n",
       "      <td>False</td>\n",
       "    </tr>\n",
       "    <tr>\n",
       "      <th>4742</th>\n",
       "      <td>796387464403357696</td>\n",
       "      <td>https://pbs.twimg.com/media/Cw1WKu1UQAAvWsu.jpg</td>\n",
       "      <td>1</td>\n",
       "      <td>3</td>\n",
       "      <td>Siamese Cat</td>\n",
       "      <td>0.052423</td>\n",
       "      <td>False</td>\n",
       "    </tr>\n",
       "    <tr>\n",
       "      <th>5025</th>\n",
       "      <td>813157409116065792</td>\n",
       "      <td>https://pbs.twimg.com/media/C0jqVVOXUAAGJ0G.jpg</td>\n",
       "      <td>2</td>\n",
       "      <td>1</td>\n",
       "      <td>Siamese Cat</td>\n",
       "      <td>0.843911</td>\n",
       "      <td>False</td>\n",
       "    </tr>\n",
       "    <tr>\n",
       "      <th>5296</th>\n",
       "      <td>826598365270007810</td>\n",
       "      <td>https://pbs.twimg.com/media/C3iq0EEXUAAdBYC.jpg</td>\n",
       "      <td>1</td>\n",
       "      <td>2</td>\n",
       "      <td>Siamese Cat</td>\n",
       "      <td>0.117397</td>\n",
       "      <td>False</td>\n",
       "    </tr>\n",
       "    <tr>\n",
       "      <th>5348</th>\n",
       "      <td>828770345708580865</td>\n",
       "      <td>https://pbs.twimg.com/media/C4BiOXOXAAAf6IS.jpg</td>\n",
       "      <td>1</td>\n",
       "      <td>3</td>\n",
       "      <td>Polecat</td>\n",
       "      <td>0.027252</td>\n",
       "      <td>False</td>\n",
       "    </tr>\n",
       "    <tr>\n",
       "      <th>5423</th>\n",
       "      <td>832397543355072512</td>\n",
       "      <td>https://pbs.twimg.com/media/C41FIiAW8AA7lMr.jpg</td>\n",
       "      <td>1</td>\n",
       "      <td>3</td>\n",
       "      <td>Siamese Cat</td>\n",
       "      <td>0.001126</td>\n",
       "      <td>False</td>\n",
       "    </tr>\n",
       "    <tr>\n",
       "      <th>5767</th>\n",
       "      <td>856543823941562368</td>\n",
       "      <td>https://pbs.twimg.com/media/C-MOEDCXYAEjp7o.jpg</td>\n",
       "      <td>1</td>\n",
       "      <td>2</td>\n",
       "      <td>Siamese Cat</td>\n",
       "      <td>0.191218</td>\n",
       "      <td>False</td>\n",
       "    </tr>\n",
       "    <tr>\n",
       "      <th>5798</th>\n",
       "      <td>859196978902773760</td>\n",
       "      <td>https://pbs.twimg.com/ext_tw_video_thumb/859196962498805762/pu/img/-yBpr4-o4GJZECYE.jpg</td>\n",
       "      <td>1</td>\n",
       "      <td>3</td>\n",
       "      <td>Persian Cat</td>\n",
       "      <td>0.128383</td>\n",
       "      <td>False</td>\n",
       "    </tr>\n",
       "    <tr>\n",
       "      <th>6038</th>\n",
       "      <td>879050749262655488</td>\n",
       "      <td>https://pbs.twimg.com/media/DDMD_phXoAQ1qf0.jpg</td>\n",
       "      <td>1</td>\n",
       "      <td>3</td>\n",
       "      <td>Egyptian Cat</td>\n",
       "      <td>0.132932</td>\n",
       "      <td>False</td>\n",
       "    </tr>\n",
       "    <tr>\n",
       "      <th>6071</th>\n",
       "      <td>881536004380872706</td>\n",
       "      <td>https://pbs.twimg.com/ext_tw_video_thumb/881535971568889856/pu/img/9bawiZ--8FKywTkz.jpg</td>\n",
       "      <td>1</td>\n",
       "      <td>3</td>\n",
       "      <td>Persian Cat</td>\n",
       "      <td>0.114854</td>\n",
       "      <td>False</td>\n",
       "    </tr>\n",
       "    <tr>\n",
       "      <th>6134</th>\n",
       "      <td>886258384151887873</td>\n",
       "      <td>https://pbs.twimg.com/media/DEyfTG4UMAE4aE9.jpg</td>\n",
       "      <td>1</td>\n",
       "      <td>3</td>\n",
       "      <td>Siamese Cat</td>\n",
       "      <td>0.002849</td>\n",
       "      <td>False</td>\n",
       "    </tr>\n",
       "  </tbody>\n",
       "</table>\n",
       "</div>"
      ],
      "text/plain": [
       "                tweet_id  \\\n",
       "598   669661792646373376   \n",
       "761   670727704916926465   \n",
       "823   670833812859932673   \n",
       "892   671390180817915904   \n",
       "1037  672272411274932228   \n",
       "1056  672538107540070400   \n",
       "1222  673709992831262724   \n",
       "1253  674024893172875264   \n",
       "1370  674774481756377088   \n",
       "1606  676942428000112642   \n",
       "1963  682059653698686977   \n",
       "2090  684481074559381504   \n",
       "2114  684926975086034944   \n",
       "2435  692417313023332352   \n",
       "2482  693486665285931008   \n",
       "2486  693590843962331137   \n",
       "2584  697242256848379904   \n",
       "2601  697575480820686848   \n",
       "2780  702598099714314240   \n",
       "2839  704499785726889984   \n",
       "2841  704761120771465216   \n",
       "2862  705223444686888960   \n",
       "2975  708026248782585858   \n",
       "3260  718631497683582976   \n",
       "3330  724004602748780546   \n",
       "3399  728409960103686147   \n",
       "3441  730924654643314689   \n",
       "3593  740676976021798912   \n",
       "3599  740711788199743490   \n",
       "3618  742150209887731712   \n",
       "3884  751830394383790080   \n",
       "3962  756288534030475264   \n",
       "3998  757725642876129280   \n",
       "4010  758355060040593408   \n",
       "4114  762316489655476224   \n",
       "4191  768193404517830656   \n",
       "4230  770655142660169732   \n",
       "4501  783839966405230592   \n",
       "4546  786709082849828864   \n",
       "4742  796387464403357696   \n",
       "5025  813157409116065792   \n",
       "5296  826598365270007810   \n",
       "5348  828770345708580865   \n",
       "5423  832397543355072512   \n",
       "5767  856543823941562368   \n",
       "5798  859196978902773760   \n",
       "6038  879050749262655488   \n",
       "6071  881536004380872706   \n",
       "6134  886258384151887873   \n",
       "\n",
       "                                                                                      jpg_url  \\\n",
       "598   https://pbs.twimg.com/media/CUsd2TfWwAAmdjb.jpg                                           \n",
       "761   https://pbs.twimg.com/media/CU7nSZEW4AA6r5u.jpg                                           \n",
       "823   https://pbs.twimg.com/media/CU9HyzSWIAAVcte.jpg                                           \n",
       "892   https://pbs.twimg.com/media/CVFBzpXVEAAHIOv.jpg                                           \n",
       "1037  https://pbs.twimg.com/media/CVRkLuJWUAAhhYp.jpg                                           \n",
       "1056  https://pbs.twimg.com/media/CVVV1wJWoAEcOyk.jpg                                           \n",
       "1222  https://pbs.twimg.com/media/CVl_qbjW4AA8Mam.jpg                                           \n",
       "1253  https://pbs.twimg.com/media/CVqeEKLW4AA1wXH.jpg                                           \n",
       "1370  https://pbs.twimg.com/media/CV1HztsWoAAuZwo.jpg                                           \n",
       "1606  https://pbs.twimg.com/media/CWT7imQXIAMwpQ2.jpg                                           \n",
       "1963  https://pbs.twimg.com/media/CXcpovWWMAAMcfv.jpg                                           \n",
       "2090  https://pbs.twimg.com/media/CX_D6AJWwAAnBIw.jpg                                           \n",
       "2114  https://pbs.twimg.com/media/CYFZXdiU0AAc_kw.jpg                                           \n",
       "2435  https://pbs.twimg.com/media/CZv13u5WYAA6wQe.jpg                                           \n",
       "2482  https://pbs.twimg.com/ext_tw_video_thumb/693486485266247680/pu/img/KhapmUYPQTpbwNf8.jpg   \n",
       "2486  https://pbs.twimg.com/media/CaAhMb1XEAAB6Bz.jpg                                           \n",
       "2584  https://pbs.twimg.com/media/Ca0aIR9WcAAHiPy.jpg                                           \n",
       "2601  https://pbs.twimg.com/media/Ca5JMvMUsAAGMll.jpg                                           \n",
       "2780  https://pbs.twimg.com/media/CcAhPevW8AAoknv.jpg                                           \n",
       "2839  https://pbs.twimg.com/media/Ccbi0UGWoAA4fwg.jpg                                           \n",
       "2841  https://pbs.twimg.com/media/CcfQgHVWoAAxauy.jpg                                           \n",
       "2862  https://pbs.twimg.com/media/Ccl0-HVVAAAf8aK.jpg                                           \n",
       "2975  https://pbs.twimg.com/ext_tw_video_thumb/708026062568087553/pu/img/rNhylAwIfb6YthGu.jpg   \n",
       "3260  https://pbs.twimg.com/media/CfkXiX6W4AAmICF.jpg                                           \n",
       "3330  https://pbs.twimg.com/media/CgwuWCeW4AAsgbD.jpg                                           \n",
       "3399  https://pbs.twimg.com/media/ChvU_DwWMAArx5L.jpg                                           \n",
       "3441  https://pbs.twimg.com/media/CiTEFjDXAAAqU6I.jpg                                           \n",
       "3593  https://pbs.twimg.com/media/Ckdpx5KWsAANF6b.jpg                                           \n",
       "3599  https://pbs.twimg.com/media/CkeJcNkXEAAcrks.jpg                                           \n",
       "3618  https://pbs.twimg.com/media/CkylrVWWsAAiXJE.jpg                                           \n",
       "3884  https://pbs.twimg.com/media/Cm8JwBqW8AAFOEn.jpg                                           \n",
       "3962  https://pbs.twimg.com/media/Cn7gaHrWIAAZJMt.jpg                                           \n",
       "3998  https://pbs.twimg.com/media/CoP7c4bWcAAr55g.jpg                                           \n",
       "4010  https://pbs.twimg.com/media/CoY324eWYAEiDOG.jpg                                           \n",
       "4114  https://pbs.twimg.com/media/CpRKzZKWAAABGh7.jpg                                           \n",
       "4191  https://pbs.twimg.com/media/Cqkr0wiW8AAn2Oi.jpg                                           \n",
       "4230  https://pbs.twimg.com/media/CrHqwjWXgAAgJSe.jpg                                           \n",
       "4501  https://pbs.twimg.com/media/CuDCSM-XEAAJw1W.jpg                                           \n",
       "4546  https://pbs.twimg.com/media/CurzvFTXgAA2_AP.jpg                                           \n",
       "4742  https://pbs.twimg.com/media/Cw1WKu1UQAAvWsu.jpg                                           \n",
       "5025  https://pbs.twimg.com/media/C0jqVVOXUAAGJ0G.jpg                                           \n",
       "5296  https://pbs.twimg.com/media/C3iq0EEXUAAdBYC.jpg                                           \n",
       "5348  https://pbs.twimg.com/media/C4BiOXOXAAAf6IS.jpg                                           \n",
       "5423  https://pbs.twimg.com/media/C41FIiAW8AA7lMr.jpg                                           \n",
       "5767  https://pbs.twimg.com/media/C-MOEDCXYAEjp7o.jpg                                           \n",
       "5798  https://pbs.twimg.com/ext_tw_video_thumb/859196962498805762/pu/img/-yBpr4-o4GJZECYE.jpg   \n",
       "6038  https://pbs.twimg.com/media/DDMD_phXoAQ1qf0.jpg                                           \n",
       "6071  https://pbs.twimg.com/ext_tw_video_thumb/881535971568889856/pu/img/9bawiZ--8FKywTkz.jpg   \n",
       "6134  https://pbs.twimg.com/media/DEyfTG4UMAE4aE9.jpg                                           \n",
       "\n",
       "      img_num  order      prediction  confidence  accuracy  \n",
       "598   1        2      Siamese Cat     0.148263    False     \n",
       "761   1        3      Egyptian Cat    0.154914    False     \n",
       "823   1        2      Persian Cat     0.265442    False     \n",
       "892   1        2      Tiger           0.000837    False     \n",
       "1037  2        3      Siamese Cat     0.009221    False     \n",
       "1056  1        1      Siamese Cat     0.383937    False     \n",
       "1222  1        2      Siamese Cat     0.181580    False     \n",
       "1253  1        3      Persian Cat     0.006448    False     \n",
       "1370  1        3      Siamese Cat     0.227677    False     \n",
       "1606  1        2      Polecat         0.154630    False     \n",
       "1963  2        2      Siamese Cat     0.000781    False     \n",
       "2090  1        3      Polecat         0.017357    False     \n",
       "2114  1        3      Lion            0.021440    False     \n",
       "2435  1        3      Polecat         0.144494    False     \n",
       "2482  1        2      Siamese Cat     0.290971    False     \n",
       "2486  1        3      Siamese Cat     0.098256    False     \n",
       "2584  1        2      Siamese Cat     0.165791    False     \n",
       "2601  1        1      Siamese Cat     0.256698    False     \n",
       "2780  1        3      Siamese Cat     0.074440    False     \n",
       "2839  1        2      Siamese Cat     0.098057    False     \n",
       "2841  1        1      Siamese Cat     0.202294    False     \n",
       "2862  1        1      Egyptian Cat    0.090508    False     \n",
       "2975  1        3      Siamese Cat     0.029304    False     \n",
       "3260  1        3      Persian Cat     0.000525    False     \n",
       "3330  3        1      Siamese Cat     0.950526    False     \n",
       "3399  1        1      Siamese Cat     0.478278    False     \n",
       "3441  1        1      Polecat         0.185382    False     \n",
       "3593  1        3      Siamese Cat     0.043559    False     \n",
       "3599  1        3      Persian Cat     0.049656    False     \n",
       "3618  1        1      Siamese Cat     0.112413    False     \n",
       "3884  1        3      Siamese Cat     0.045959    False     \n",
       "3962  3        3      Tiger Cat       0.006679    False     \n",
       "3998  2        3      Siamese Cat     0.091241    False     \n",
       "4010  1        3      Siamese Cat     0.000117    False     \n",
       "4114  1        2      Madagascar Cat  0.076187    False     \n",
       "4191  1        1      Lion            0.396984    False     \n",
       "4230  1        1      Madagascar Cat  0.494803    False     \n",
       "4501  1        2      Siamese Cat     0.136245    False     \n",
       "4546  1        2      Persian Cat     0.122978    False     \n",
       "4742  1        3      Siamese Cat     0.052423    False     \n",
       "5025  2        1      Siamese Cat     0.843911    False     \n",
       "5296  1        2      Siamese Cat     0.117397    False     \n",
       "5348  1        3      Polecat         0.027252    False     \n",
       "5423  1        3      Siamese Cat     0.001126    False     \n",
       "5767  1        2      Siamese Cat     0.191218    False     \n",
       "5798  1        3      Persian Cat     0.128383    False     \n",
       "6038  1        3      Egyptian Cat    0.132932    False     \n",
       "6071  1        3      Persian Cat     0.114854    False     \n",
       "6134  1        3      Siamese Cat     0.002849    False     "
      ]
     },
     "execution_count": 410,
     "metadata": {},
     "output_type": "execute_result"
    }
   ],
   "source": [
    "cat_preds"
   ]
  },
  {
   "cell_type": "code",
   "execution_count": 411,
   "metadata": {},
   "outputs": [
    {
     "data": {
      "text/plain": [
       "0"
      ]
     },
     "execution_count": 411,
     "metadata": {},
     "output_type": "execute_result"
    }
   ],
   "source": [
    "# Check to see if any of the cat predictions are for the same tweet\n",
    "cat_preds.duplicated(subset='tweet_id').sum()"
   ]
  },
  {
   "cell_type": "code",
   "execution_count": 412,
   "metadata": {},
   "outputs": [
    {
     "data": {
      "image/png": "[encoded data removed]",
      "text/plain": [
       "<Figure size 432x288 with 1 Axes>"
      ]
     },
     "metadata": {},
     "output_type": "display_data"
    }
   ],
   "source": [
    "# Donut chart\n",
    "labels = ['Cat Predictions',  'Other Predictions']\n",
    "sizes = [len(cat_preds), (len(predictions)/3) - len(cat_preds)]\n",
    "# Colors\n",
    "colors = ['#ff9999','#ffcc99']\n",
    "# Explosion\n",
    "explode = (0.05,0.05)\n",
    "plt.pie(sizes, colors = colors, labels=labels, autopct='%1.1f%%', startangle=0, pctdistance=0.75, explode = explode)\n",
    "# Draw circle\n",
    "centre_circle = plt.Circle((0,0),0.50,fc='white')\n",
    "fig = plt.gcf()\n",
    "fig.gca().add_artist(centre_circle)\n",
    "# Equal aspect ratio ensures that pie is drawn as a circle\n",
    "plt.tight_layout()\n",
    "plt.title('Percentage of images with \"cat\" prediction')\n",
    "plt.show()"
   ]
  },
  {
   "cell_type": "markdown",
   "metadata": {},
   "source": [
    ">2.5 percent of these photos are being recognized as cats by the image algorithm. \n",
    "\n",
    "Resource: [A better visualization of pie charts](https://medium.com/@kvnamipara/a-better-visualisation-of-pie-charts-by-matplotlib-935b7667d77f)"
   ]
  },
  {
   "cell_type": "markdown",
   "metadata": {},
   "source": [
    "### 5. Account reach over time"
   ]
  },
  {
   "cell_type": "markdown",
   "metadata": {},
   "source": [
    "##### Rolling averages of RTs and favorites\n",
    "How is the account reach and popularity changing over time? In order to calculate this, I'll look at rolling averages of retweets and favorite counts."
   ]
  },
  {
   "cell_type": "code",
   "execution_count": 413,
   "metadata": {},
   "outputs": [],
   "source": [
    "# Create new df with RT and favorite count totals grouped by week to get consistent date window\n",
    "week_data = archive.groupby(pd.Grouper(key='timestamp', freq='1w'))\\\n",
    "            [['retweet_count', 'favorite_count']].sum().reset_index().sort_values('timestamp')[:-1]"
   ]
  },
  {
   "cell_type": "code",
   "execution_count": 414,
   "metadata": {
    "scrolled": true
   },
   "outputs": [
    {
     "data": {
      "text/html": [
       "<div>\n",
       "<style scoped>\n",
       "    .dataframe tbody tr th:only-of-type {\n",
       "        vertical-align: middle;\n",
       "    }\n",
       "\n",
       "    .dataframe tbody tr th {\n",
       "        vertical-align: top;\n",
       "    }\n",
       "\n",
       "    .dataframe thead th {\n",
       "        text-align: right;\n",
       "    }\n",
       "</style>\n",
       "<table border=\"1\" class=\"dataframe\">\n",
       "  <thead>\n",
       "    <tr style=\"text-align: right;\">\n",
       "      <th></th>\n",
       "      <th>retweet_count</th>\n",
       "      <th>favorite_count</th>\n",
       "    </tr>\n",
       "    <tr>\n",
       "      <th>timestamp</th>\n",
       "      <th></th>\n",
       "      <th></th>\n",
       "    </tr>\n",
       "  </thead>\n",
       "  <tbody>\n",
       "    <tr>\n",
       "      <th>2015-11-15</th>\n",
       "      <td>587</td>\n",
       "      <td>2770</td>\n",
       "    </tr>\n",
       "    <tr>\n",
       "      <th>2015-11-22</th>\n",
       "      <td>69520</td>\n",
       "      <td>163126</td>\n",
       "    </tr>\n",
       "    <tr>\n",
       "      <th>2015-11-29</th>\n",
       "      <td>75423</td>\n",
       "      <td>180566</td>\n",
       "    </tr>\n",
       "    <tr>\n",
       "      <th>2015-12-06</th>\n",
       "      <td>91935</td>\n",
       "      <td>198306</td>\n",
       "    </tr>\n",
       "    <tr>\n",
       "      <th>2015-12-13</th>\n",
       "      <td>105150</td>\n",
       "      <td>261222</td>\n",
       "    </tr>\n",
       "  </tbody>\n",
       "</table>\n",
       "</div>"
      ],
      "text/plain": [
       "            retweet_count  favorite_count\n",
       "timestamp                                \n",
       "2015-11-15  587            2770          \n",
       "2015-11-22  69520          163126        \n",
       "2015-11-29  75423          180566        \n",
       "2015-12-06  91935          198306        \n",
       "2015-12-13  105150         261222        "
      ]
     },
     "execution_count": 414,
     "metadata": {},
     "output_type": "execute_result"
    }
   ],
   "source": [
    "# Set the date as the index so graphing works\n",
    "week_data.set_index('timestamp', inplace=True)\n",
    "week_data.head()"
   ]
  },
  {
   "cell_type": "code",
   "execution_count": 415,
   "metadata": {},
   "outputs": [
    {
     "data": {
      "image/png": "[encoded data removed]",
      "text/plain": [
       "<Figure size 1440x720 with 1 Axes>"
      ]
     },
     "metadata": {
      "needs_background": "light"
     },
     "output_type": "display_data"
    }
   ],
   "source": [
    "# Plot rolling average\n",
    "df_roll = pd.concat([week_data['retweet_count'].rolling(3).mean(), week_data['favorite_count'].rolling(3).mean()], axis=1)\n",
    "df_roll.plot(figsize=(20,10), linewidth=3, fontsize=20)\n",
    "plt.xlabel('Date', fontsize=20)\n",
    "plt.title('Retweets and Favorite Count: Rolling average', fontsize=20);"
   ]
  },
  {
   "cell_type": "markdown",
   "metadata": {},
   "source": [
    ">Favorite count is increasing over time and retweet count is remaining relatively steady.\n",
    "\n",
    "Resources: [Grouper](http://pandas.pydata.org/pandas-docs/stable/reference/api/pandas.Grouper.html); [Date functionality](http://pandas.pydata.org/pandas-docs/stable/user_guide/timeseries.html)"
   ]
  }
 ],
 "metadata": {
  "kernelspec": {
   "display_name": "Python 3",
   "language": "python",
   "name": "python3"
  },
  "language_info": {
   "codemirror_mode": {
    "name": "ipython",
    "version": 3
   },
   "file_extension": ".py",
   "mimetype": "text/x-python",
   "name": "python",
   "nbconvert_exporter": "python",
   "pygments_lexer": "ipython3",
   "version": "3.7.1"
  }
 },
 "nbformat": 4,
 "nbformat_minor": 2
}
